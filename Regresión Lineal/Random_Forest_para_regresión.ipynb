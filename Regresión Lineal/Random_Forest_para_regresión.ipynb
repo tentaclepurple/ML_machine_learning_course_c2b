{
  "nbformat": 4,
  "nbformat_minor": 0,
  "metadata": {
    "colab": {
      "provenance": []
    },
    "kernelspec": {
      "name": "python3",
      "display_name": "Python 3"
    },
    "language_info": {
      "name": "python"
    }
  },
  "cells": [
    {
      "cell_type": "markdown",
      "source": [
        "# Random Forest para Regresión"
      ],
      "metadata": {
        "id": "GNTr_LhpXWO8"
      }
    },
    {
      "cell_type": "markdown",
      "source": [
        "Aunque es más conocido por su aplicación en tareas de clasificación, Random Forest también se adapta bien a problemas de regresión.\n",
        "\n",
        "En el contexto de la regresión, Random Forest construye un conjunto de árboles de decisión y realiza la predicción tomando el promedio de las predicciones individuales de cada árbol. Cada árbol en el bosque contribuye con una predicción ponderada, y el resultado final es una predicción que puede ser un número real en lugar de una etiqueta de clase como ocurre en clasificación.\n",
        "\n",
        "Random Forest es, por tanto, un modelo Ensemble del modelo de Árbol de Decisión para Regresión creado mediante Bagging.\n",
        "\n",
        "Cuando utilizas Random Forest para regresión, generalmente estás tratando de predecir un valor continuo en lugar de clasificar en categorías discretas. Los parámetros del Random Forest, como el número de árboles, la profundidad máxima de los árboles y otros, pueden ajustarse según las características específicas de tu conjunto de datos y el problema de regresión que estás abordando."
      ],
      "metadata": {
        "id": "8xRiWZNuuB4w"
      }
    },
    {
      "cell_type": "code",
      "source": [
        "from google.colab import drive\n",
        "drive.mount('/content/drive')"
      ],
      "metadata": {
        "id": "ZZAltEvLEfz0",
        "colab": {
          "base_uri": "https://localhost:8080/"
        },
        "outputId": "f50dec52-3166-4ea8-e094-b9e62c4f81ee"
      },
      "execution_count": null,
      "outputs": [
        {
          "output_type": "stream",
          "name": "stdout",
          "text": [
            "Mounted at /content/drive\n"
          ]
        }
      ]
    },
    {
      "cell_type": "code",
      "execution_count": null,
      "metadata": {
        "id": "rPAHGi61-pDk"
      },
      "outputs": [],
      "source": [
        "import pandas as pd\n",
        "data = pd.read_csv(\"/content/drive/MyDrive/Colab Notebooks/Regresión/hormigon.csv\")"
      ]
    },
    {
      "cell_type": "code",
      "source": [
        "descripcion = data.describe(include = \"all\").T\n",
        "print(descripcion)"
      ],
      "metadata": {
        "colab": {
          "base_uri": "https://localhost:8080/"
        },
        "id": "01hnNSJj-xI3",
        "outputId": "b064657f-d919-4b29-da7d-2a42e030ee00"
      },
      "execution_count": null,
      "outputs": [
        {
          "output_type": "stream",
          "name": "stdout",
          "text": [
            "               count        mean         std     min      25%      50%  \\\n",
            "cement        1030.0  281.167864  104.506364  102.00  192.375  272.900   \n",
            "slag          1030.0   73.895825   86.279342    0.00    0.000   22.000   \n",
            "ash           1030.0   54.188350   63.997004    0.00    0.000    0.000   \n",
            "water         1030.0  181.567282   21.354219  121.80  164.900  185.000   \n",
            "superplastic  1030.0    6.204660    5.973841    0.00    0.000    6.400   \n",
            "coarseagg     1030.0  972.918932   77.753954  801.00  932.000  968.000   \n",
            "fineagg       1030.0  773.580485   80.175980  594.00  730.950  779.500   \n",
            "age           1030.0   45.662136   63.169912    1.00    7.000   28.000   \n",
            "strength      1030.0   35.817961   16.705742    2.33   23.710   34.445   \n",
            "\n",
            "                   75%     max  \n",
            "cement         350.000   540.0  \n",
            "slag           142.950   359.4  \n",
            "ash            118.300   200.1  \n",
            "water          192.000   247.0  \n",
            "superplastic    10.200    32.2  \n",
            "coarseagg     1029.400  1145.0  \n",
            "fineagg        824.000   992.6  \n",
            "age             56.000   365.0  \n",
            "strength        46.135    82.6  \n"
          ]
        }
      ]
    },
    {
      "cell_type": "code",
      "source": [
        "from sklearn.tree import DecisionTreeRegressor\n",
        "from sklearn.metrics import mean_squared_error, r2_score\n",
        "from sklearn.model_selection import train_test_split"
      ],
      "metadata": {
        "id": "nLgISp0obrlI"
      },
      "execution_count": null,
      "outputs": []
    },
    {
      "cell_type": "markdown",
      "source": [
        "## Normalización"
      ],
      "metadata": {
        "id": "ZCHkZ9PEcRyv"
      }
    },
    {
      "cell_type": "code",
      "source": [
        "from sklearn.preprocessing import StandardScaler\n",
        "\n",
        "ss = StandardScaler()\n",
        "data_sin_columnas = ss.fit_transform(data)\n",
        "datos_normalizados = pd.DataFrame(data_sin_columnas, columns = data.columns)\n",
        "\n",
        "from sklearn.model_selection import train_test_split\n",
        "y = datos_normalizados['strength']\n",
        "X = datos_normalizados.drop('strength', axis = 1)\n",
        "X_train, X_test, y_train, y_test = train_test_split(X, y, test_size=0.25, random_state=42)"
      ],
      "metadata": {
        "id": "1S-VZgCTRxV3"
      },
      "execution_count": null,
      "outputs": []
    },
    {
      "cell_type": "markdown",
      "source": [
        "Si no se desea usar datos normalizados ejecutar esta celda para recuperar los originales"
      ],
      "metadata": {
        "id": "REhEVOLU7YdI"
      }
    },
    {
      "cell_type": "code",
      "source": [
        "datos_normalizados = data.copy()"
      ],
      "metadata": {
        "id": "pwiPbWaC7PuU"
      },
      "execution_count": null,
      "outputs": []
    },
    {
      "cell_type": "code",
      "source": [
        "datos_normalizados.describe().T"
      ],
      "metadata": {
        "colab": {
          "base_uri": "https://localhost:8080/",
          "height": 331
        },
        "id": "rplasDJqae5F",
        "outputId": "5a95f8a4-c9db-4d8d-afa9-312c456700ff"
      },
      "execution_count": null,
      "outputs": [
        {
          "output_type": "execute_result",
          "data": {
            "text/plain": [
              "               count        mean         std     min      25%      50%  \\\n",
              "cement        1030.0  281.167864  104.506364  102.00  192.375  272.900   \n",
              "slag          1030.0   73.895825   86.279342    0.00    0.000   22.000   \n",
              "ash           1030.0   54.188350   63.997004    0.00    0.000    0.000   \n",
              "water         1030.0  181.567282   21.354219  121.80  164.900  185.000   \n",
              "superplastic  1030.0    6.204660    5.973841    0.00    0.000    6.400   \n",
              "coarseagg     1030.0  972.918932   77.753954  801.00  932.000  968.000   \n",
              "fineagg       1030.0  773.580485   80.175980  594.00  730.950  779.500   \n",
              "age           1030.0   45.662136   63.169912    1.00    7.000   28.000   \n",
              "strength      1030.0   35.817961   16.705742    2.33   23.710   34.445   \n",
              "\n",
              "                   75%     max  \n",
              "cement         350.000   540.0  \n",
              "slag           142.950   359.4  \n",
              "ash            118.300   200.1  \n",
              "water          192.000   247.0  \n",
              "superplastic    10.200    32.2  \n",
              "coarseagg     1029.400  1145.0  \n",
              "fineagg        824.000   992.6  \n",
              "age             56.000   365.0  \n",
              "strength        46.135    82.6  "
            ],
            "text/html": [
              "\n",
              "  <div id=\"df-9c9ebe9b-06f7-4826-9456-dc7c6bf73bff\" class=\"colab-df-container\">\n",
              "    <div>\n",
              "<style scoped>\n",
              "    .dataframe tbody tr th:only-of-type {\n",
              "        vertical-align: middle;\n",
              "    }\n",
              "\n",
              "    .dataframe tbody tr th {\n",
              "        vertical-align: top;\n",
              "    }\n",
              "\n",
              "    .dataframe thead th {\n",
              "        text-align: right;\n",
              "    }\n",
              "</style>\n",
              "<table border=\"1\" class=\"dataframe\">\n",
              "  <thead>\n",
              "    <tr style=\"text-align: right;\">\n",
              "      <th></th>\n",
              "      <th>count</th>\n",
              "      <th>mean</th>\n",
              "      <th>std</th>\n",
              "      <th>min</th>\n",
              "      <th>25%</th>\n",
              "      <th>50%</th>\n",
              "      <th>75%</th>\n",
              "      <th>max</th>\n",
              "    </tr>\n",
              "  </thead>\n",
              "  <tbody>\n",
              "    <tr>\n",
              "      <th>cement</th>\n",
              "      <td>1030.0</td>\n",
              "      <td>281.167864</td>\n",
              "      <td>104.506364</td>\n",
              "      <td>102.00</td>\n",
              "      <td>192.375</td>\n",
              "      <td>272.900</td>\n",
              "      <td>350.000</td>\n",
              "      <td>540.0</td>\n",
              "    </tr>\n",
              "    <tr>\n",
              "      <th>slag</th>\n",
              "      <td>1030.0</td>\n",
              "      <td>73.895825</td>\n",
              "      <td>86.279342</td>\n",
              "      <td>0.00</td>\n",
              "      <td>0.000</td>\n",
              "      <td>22.000</td>\n",
              "      <td>142.950</td>\n",
              "      <td>359.4</td>\n",
              "    </tr>\n",
              "    <tr>\n",
              "      <th>ash</th>\n",
              "      <td>1030.0</td>\n",
              "      <td>54.188350</td>\n",
              "      <td>63.997004</td>\n",
              "      <td>0.00</td>\n",
              "      <td>0.000</td>\n",
              "      <td>0.000</td>\n",
              "      <td>118.300</td>\n",
              "      <td>200.1</td>\n",
              "    </tr>\n",
              "    <tr>\n",
              "      <th>water</th>\n",
              "      <td>1030.0</td>\n",
              "      <td>181.567282</td>\n",
              "      <td>21.354219</td>\n",
              "      <td>121.80</td>\n",
              "      <td>164.900</td>\n",
              "      <td>185.000</td>\n",
              "      <td>192.000</td>\n",
              "      <td>247.0</td>\n",
              "    </tr>\n",
              "    <tr>\n",
              "      <th>superplastic</th>\n",
              "      <td>1030.0</td>\n",
              "      <td>6.204660</td>\n",
              "      <td>5.973841</td>\n",
              "      <td>0.00</td>\n",
              "      <td>0.000</td>\n",
              "      <td>6.400</td>\n",
              "      <td>10.200</td>\n",
              "      <td>32.2</td>\n",
              "    </tr>\n",
              "    <tr>\n",
              "      <th>coarseagg</th>\n",
              "      <td>1030.0</td>\n",
              "      <td>972.918932</td>\n",
              "      <td>77.753954</td>\n",
              "      <td>801.00</td>\n",
              "      <td>932.000</td>\n",
              "      <td>968.000</td>\n",
              "      <td>1029.400</td>\n",
              "      <td>1145.0</td>\n",
              "    </tr>\n",
              "    <tr>\n",
              "      <th>fineagg</th>\n",
              "      <td>1030.0</td>\n",
              "      <td>773.580485</td>\n",
              "      <td>80.175980</td>\n",
              "      <td>594.00</td>\n",
              "      <td>730.950</td>\n",
              "      <td>779.500</td>\n",
              "      <td>824.000</td>\n",
              "      <td>992.6</td>\n",
              "    </tr>\n",
              "    <tr>\n",
              "      <th>age</th>\n",
              "      <td>1030.0</td>\n",
              "      <td>45.662136</td>\n",
              "      <td>63.169912</td>\n",
              "      <td>1.00</td>\n",
              "      <td>7.000</td>\n",
              "      <td>28.000</td>\n",
              "      <td>56.000</td>\n",
              "      <td>365.0</td>\n",
              "    </tr>\n",
              "    <tr>\n",
              "      <th>strength</th>\n",
              "      <td>1030.0</td>\n",
              "      <td>35.817961</td>\n",
              "      <td>16.705742</td>\n",
              "      <td>2.33</td>\n",
              "      <td>23.710</td>\n",
              "      <td>34.445</td>\n",
              "      <td>46.135</td>\n",
              "      <td>82.6</td>\n",
              "    </tr>\n",
              "  </tbody>\n",
              "</table>\n",
              "</div>\n",
              "    <div class=\"colab-df-buttons\">\n",
              "\n",
              "  <div class=\"colab-df-container\">\n",
              "    <button class=\"colab-df-convert\" onclick=\"convertToInteractive('df-9c9ebe9b-06f7-4826-9456-dc7c6bf73bff')\"\n",
              "            title=\"Convert this dataframe to an interactive table.\"\n",
              "            style=\"display:none;\">\n",
              "\n",
              "  <svg xmlns=\"http://www.w3.org/2000/svg\" height=\"24px\" viewBox=\"0 -960 960 960\">\n",
              "    <path d=\"M120-120v-720h720v720H120Zm60-500h600v-160H180v160Zm220 220h160v-160H400v160Zm0 220h160v-160H400v160ZM180-400h160v-160H180v160Zm440 0h160v-160H620v160ZM180-180h160v-160H180v160Zm440 0h160v-160H620v160Z\"/>\n",
              "  </svg>\n",
              "    </button>\n",
              "\n",
              "  <style>\n",
              "    .colab-df-container {\n",
              "      display:flex;\n",
              "      gap: 12px;\n",
              "    }\n",
              "\n",
              "    .colab-df-convert {\n",
              "      background-color: #E8F0FE;\n",
              "      border: none;\n",
              "      border-radius: 50%;\n",
              "      cursor: pointer;\n",
              "      display: none;\n",
              "      fill: #1967D2;\n",
              "      height: 32px;\n",
              "      padding: 0 0 0 0;\n",
              "      width: 32px;\n",
              "    }\n",
              "\n",
              "    .colab-df-convert:hover {\n",
              "      background-color: #E2EBFA;\n",
              "      box-shadow: 0px 1px 2px rgba(60, 64, 67, 0.3), 0px 1px 3px 1px rgba(60, 64, 67, 0.15);\n",
              "      fill: #174EA6;\n",
              "    }\n",
              "\n",
              "    .colab-df-buttons div {\n",
              "      margin-bottom: 4px;\n",
              "    }\n",
              "\n",
              "    [theme=dark] .colab-df-convert {\n",
              "      background-color: #3B4455;\n",
              "      fill: #D2E3FC;\n",
              "    }\n",
              "\n",
              "    [theme=dark] .colab-df-convert:hover {\n",
              "      background-color: #434B5C;\n",
              "      box-shadow: 0px 1px 3px 1px rgba(0, 0, 0, 0.15);\n",
              "      filter: drop-shadow(0px 1px 2px rgba(0, 0, 0, 0.3));\n",
              "      fill: #FFFFFF;\n",
              "    }\n",
              "  </style>\n",
              "\n",
              "    <script>\n",
              "      const buttonEl =\n",
              "        document.querySelector('#df-9c9ebe9b-06f7-4826-9456-dc7c6bf73bff button.colab-df-convert');\n",
              "      buttonEl.style.display =\n",
              "        google.colab.kernel.accessAllowed ? 'block' : 'none';\n",
              "\n",
              "      async function convertToInteractive(key) {\n",
              "        const element = document.querySelector('#df-9c9ebe9b-06f7-4826-9456-dc7c6bf73bff');\n",
              "        const dataTable =\n",
              "          await google.colab.kernel.invokeFunction('convertToInteractive',\n",
              "                                                    [key], {});\n",
              "        if (!dataTable) return;\n",
              "\n",
              "        const docLinkHtml = 'Like what you see? Visit the ' +\n",
              "          '<a target=\"_blank\" href=https://colab.research.google.com/notebooks/data_table.ipynb>data table notebook</a>'\n",
              "          + ' to learn more about interactive tables.';\n",
              "        element.innerHTML = '';\n",
              "        dataTable['output_type'] = 'display_data';\n",
              "        await google.colab.output.renderOutput(dataTable, element);\n",
              "        const docLink = document.createElement('div');\n",
              "        docLink.innerHTML = docLinkHtml;\n",
              "        element.appendChild(docLink);\n",
              "      }\n",
              "    </script>\n",
              "  </div>\n",
              "\n",
              "\n",
              "<div id=\"df-8ab1bb19-1005-49b0-ae67-cedc7a2408b1\">\n",
              "  <button class=\"colab-df-quickchart\" onclick=\"quickchart('df-8ab1bb19-1005-49b0-ae67-cedc7a2408b1')\"\n",
              "            title=\"Suggest charts\"\n",
              "            style=\"display:none;\">\n",
              "\n",
              "<svg xmlns=\"http://www.w3.org/2000/svg\" height=\"24px\"viewBox=\"0 0 24 24\"\n",
              "     width=\"24px\">\n",
              "    <g>\n",
              "        <path d=\"M19 3H5c-1.1 0-2 .9-2 2v14c0 1.1.9 2 2 2h14c1.1 0 2-.9 2-2V5c0-1.1-.9-2-2-2zM9 17H7v-7h2v7zm4 0h-2V7h2v10zm4 0h-2v-4h2v4z\"/>\n",
              "    </g>\n",
              "</svg>\n",
              "  </button>\n",
              "\n",
              "<style>\n",
              "  .colab-df-quickchart {\n",
              "      --bg-color: #E8F0FE;\n",
              "      --fill-color: #1967D2;\n",
              "      --hover-bg-color: #E2EBFA;\n",
              "      --hover-fill-color: #174EA6;\n",
              "      --disabled-fill-color: #AAA;\n",
              "      --disabled-bg-color: #DDD;\n",
              "  }\n",
              "\n",
              "  [theme=dark] .colab-df-quickchart {\n",
              "      --bg-color: #3B4455;\n",
              "      --fill-color: #D2E3FC;\n",
              "      --hover-bg-color: #434B5C;\n",
              "      --hover-fill-color: #FFFFFF;\n",
              "      --disabled-bg-color: #3B4455;\n",
              "      --disabled-fill-color: #666;\n",
              "  }\n",
              "\n",
              "  .colab-df-quickchart {\n",
              "    background-color: var(--bg-color);\n",
              "    border: none;\n",
              "    border-radius: 50%;\n",
              "    cursor: pointer;\n",
              "    display: none;\n",
              "    fill: var(--fill-color);\n",
              "    height: 32px;\n",
              "    padding: 0;\n",
              "    width: 32px;\n",
              "  }\n",
              "\n",
              "  .colab-df-quickchart:hover {\n",
              "    background-color: var(--hover-bg-color);\n",
              "    box-shadow: 0 1px 2px rgba(60, 64, 67, 0.3), 0 1px 3px 1px rgba(60, 64, 67, 0.15);\n",
              "    fill: var(--button-hover-fill-color);\n",
              "  }\n",
              "\n",
              "  .colab-df-quickchart-complete:disabled,\n",
              "  .colab-df-quickchart-complete:disabled:hover {\n",
              "    background-color: var(--disabled-bg-color);\n",
              "    fill: var(--disabled-fill-color);\n",
              "    box-shadow: none;\n",
              "  }\n",
              "\n",
              "  .colab-df-spinner {\n",
              "    border: 2px solid var(--fill-color);\n",
              "    border-color: transparent;\n",
              "    border-bottom-color: var(--fill-color);\n",
              "    animation:\n",
              "      spin 1s steps(1) infinite;\n",
              "  }\n",
              "\n",
              "  @keyframes spin {\n",
              "    0% {\n",
              "      border-color: transparent;\n",
              "      border-bottom-color: var(--fill-color);\n",
              "      border-left-color: var(--fill-color);\n",
              "    }\n",
              "    20% {\n",
              "      border-color: transparent;\n",
              "      border-left-color: var(--fill-color);\n",
              "      border-top-color: var(--fill-color);\n",
              "    }\n",
              "    30% {\n",
              "      border-color: transparent;\n",
              "      border-left-color: var(--fill-color);\n",
              "      border-top-color: var(--fill-color);\n",
              "      border-right-color: var(--fill-color);\n",
              "    }\n",
              "    40% {\n",
              "      border-color: transparent;\n",
              "      border-right-color: var(--fill-color);\n",
              "      border-top-color: var(--fill-color);\n",
              "    }\n",
              "    60% {\n",
              "      border-color: transparent;\n",
              "      border-right-color: var(--fill-color);\n",
              "    }\n",
              "    80% {\n",
              "      border-color: transparent;\n",
              "      border-right-color: var(--fill-color);\n",
              "      border-bottom-color: var(--fill-color);\n",
              "    }\n",
              "    90% {\n",
              "      border-color: transparent;\n",
              "      border-bottom-color: var(--fill-color);\n",
              "    }\n",
              "  }\n",
              "</style>\n",
              "\n",
              "  <script>\n",
              "    async function quickchart(key) {\n",
              "      const quickchartButtonEl =\n",
              "        document.querySelector('#' + key + ' button');\n",
              "      quickchartButtonEl.disabled = true;  // To prevent multiple clicks.\n",
              "      quickchartButtonEl.classList.add('colab-df-spinner');\n",
              "      try {\n",
              "        const charts = await google.colab.kernel.invokeFunction(\n",
              "            'suggestCharts', [key], {});\n",
              "      } catch (error) {\n",
              "        console.error('Error during call to suggestCharts:', error);\n",
              "      }\n",
              "      quickchartButtonEl.classList.remove('colab-df-spinner');\n",
              "      quickchartButtonEl.classList.add('colab-df-quickchart-complete');\n",
              "    }\n",
              "    (() => {\n",
              "      let quickchartButtonEl =\n",
              "        document.querySelector('#df-8ab1bb19-1005-49b0-ae67-cedc7a2408b1 button');\n",
              "      quickchartButtonEl.style.display =\n",
              "        google.colab.kernel.accessAllowed ? 'block' : 'none';\n",
              "    })();\n",
              "  </script>\n",
              "</div>\n",
              "    </div>\n",
              "  </div>\n"
            ]
          },
          "metadata": {},
          "execution_count": 8
        }
      ]
    },
    {
      "cell_type": "code",
      "source": [
        "# Separar las variables dependiente e independientes\n",
        "y = datos_normalizados['strength']\n",
        "X = datos_normalizados.drop('strength', axis=1)"
      ],
      "metadata": {
        "id": "oZ9GlV1Xck9h"
      },
      "execution_count": null,
      "outputs": []
    },
    {
      "cell_type": "markdown",
      "source": [
        "# Cross Validation\n",
        "Hasta ahora hemos hecho una sola particion para realizar comprobaciones.\n",
        "\n",
        "Esto puede provocar que la fiabilidad del modelo se vea condicionada por la aleatoriedad en la particion.\n",
        "\n",
        "Por ello realizamos validacion cruzada (\"Cross Validation\").\n",
        "\n",
        "Esto implica realizar varias particiones y utilizar n-1 para train y la restante para test.\n",
        "\n",
        "Haciendo una media podemos tener un dato mas ajustado de la fiablididad esperada del modelo.\n"
      ],
      "metadata": {
        "id": "C3VOGMS9w13p"
      }
    },
    {
      "cell_type": "code",
      "source": [
        "\"\"\"\n",
        "# La separación train-test no se realiza ya que se usa cross validation\n",
        "# Dividir los datos en conjuntos de entrenamiento y prueba\n",
        "X_train, X_test, y_train, y_test = train_test_split(X, y, test_size=0.25, random_state=42)\n",
        "\"\"\""
      ],
      "metadata": {
        "id": "9khAze2jctGJ",
        "colab": {
          "base_uri": "https://localhost:8080/",
          "height": 54
        },
        "outputId": "e78fd0bd-fd80-4fe2-b0f2-05476be8b598"
      },
      "execution_count": null,
      "outputs": [
        {
          "output_type": "execute_result",
          "data": {
            "text/plain": [
              "'\\n# La separación train-test no se realiza ya que se usa cross validation\\n# Dividir los datos en conjuntos de entrenamiento y prueba\\nX_train, X_test, y_train, y_test = train_test_split(X, y, test_size=0.25, random_state=42)\\n'"
            ],
            "application/vnd.google.colaboratory.intrinsic+json": {
              "type": "string"
            }
          },
          "metadata": {},
          "execution_count": 10
        }
      ]
    },
    {
      "cell_type": "code",
      "source": [
        "# Random Forest\n",
        "from sklearn.ensemble import RandomForestRegressor\n",
        "# Validación cruzada\n",
        "from sklearn.model_selection import cross_val_score"
      ],
      "metadata": {
        "id": "jGjwtPyFzy_g"
      },
      "execution_count": null,
      "outputs": []
    },
    {
      "cell_type": "code",
      "source": [
        "# Definimos el modelo con todos sus parametros\n",
        "RF = RandomForestRegressor(n_estimators=500,\n",
        "                           criterion='squared_error',\n",
        "                           max_features='auto',\n",
        "                           max_depth=500,\n",
        "                           min_samples_split=5,\n",
        "                           min_samples_leaf=3,\n",
        "                           max_leaf_nodes=None,\n",
        "                           min_impurity_decrease=0,\n",
        "                           bootstrap=True,\n",
        "                           oob_score=True,\n",
        "                           n_jobs=1,\n",
        "                           random_state=None,\n",
        "                           verbose=0,\n",
        "                           warm_start=False)"
      ],
      "metadata": {
        "id": "bssorOZTcwuZ"
      },
      "execution_count": null,
      "outputs": []
    },
    {
      "cell_type": "code",
      "source": [
        "clf = RF.fit(X, y)"
      ],
      "metadata": {
        "colab": {
          "base_uri": "https://localhost:8080/"
        },
        "id": "UknG0QSnzVF1",
        "outputId": "03576258-e83c-45a9-f4b9-222d8f0f63e4"
      },
      "execution_count": null,
      "outputs": [
        {
          "output_type": "stream",
          "name": "stderr",
          "text": [
            "/usr/local/lib/python3.10/dist-packages/sklearn/ensemble/_forest.py:413: FutureWarning: `max_features='auto'` has been deprecated in 1.1 and will be removed in 1.3. To keep the past behaviour, explicitly set `max_features=1.0` or remove this parameter as it is also the default value for RandomForestRegressors and ExtraTreesRegressors.\n",
            "  warn(\n"
          ]
        }
      ]
    },
    {
      "cell_type": "code",
      "source": [
        "# Analizamos la fiabilidad sobre los datos utilizados para crear el modelo.\n",
        "RF.score(X, y)"
      ],
      "metadata": {
        "colab": {
          "base_uri": "https://localhost:8080/"
        },
        "id": "5TOdEf3gzfRe",
        "outputId": "59e8405e-a5f4-4f63-e822-7d97c6a829ac"
      },
      "execution_count": null,
      "outputs": [
        {
          "output_type": "execute_result",
          "data": {
            "text/plain": [
              "0.9658600405436739"
            ]
          },
          "metadata": {},
          "execution_count": 15
        }
      ]
    },
    {
      "cell_type": "code",
      "source": [
        "# Procedemos a realizar validacion cruzada\n",
        "scores = cross_val_score(RF, X, y, cv=5)\n",
        "print(scores.mean())\n",
        "print(scores)"
      ],
      "metadata": {
        "id": "Rse__v8lcxQY",
        "colab": {
          "base_uri": "https://localhost:8080/"
        },
        "outputId": "ca0115a3-7bca-4189-9aaa-087bfb1310f2"
      },
      "execution_count": null,
      "outputs": [
        {
          "output_type": "stream",
          "name": "stderr",
          "text": [
            "/usr/local/lib/python3.10/dist-packages/sklearn/ensemble/_forest.py:413: FutureWarning: `max_features='auto'` has been deprecated in 1.1 and will be removed in 1.3. To keep the past behaviour, explicitly set `max_features=1.0` or remove this parameter as it is also the default value for RandomForestRegressors and ExtraTreesRegressors.\n",
            "  warn(\n",
            "/usr/local/lib/python3.10/dist-packages/sklearn/ensemble/_forest.py:413: FutureWarning: `max_features='auto'` has been deprecated in 1.1 and will be removed in 1.3. To keep the past behaviour, explicitly set `max_features=1.0` or remove this parameter as it is also the default value for RandomForestRegressors and ExtraTreesRegressors.\n",
            "  warn(\n",
            "/usr/local/lib/python3.10/dist-packages/sklearn/ensemble/_forest.py:413: FutureWarning: `max_features='auto'` has been deprecated in 1.1 and will be removed in 1.3. To keep the past behaviour, explicitly set `max_features=1.0` or remove this parameter as it is also the default value for RandomForestRegressors and ExtraTreesRegressors.\n",
            "  warn(\n",
            "/usr/local/lib/python3.10/dist-packages/sklearn/ensemble/_forest.py:413: FutureWarning: `max_features='auto'` has been deprecated in 1.1 and will be removed in 1.3. To keep the past behaviour, explicitly set `max_features=1.0` or remove this parameter as it is also the default value for RandomForestRegressors and ExtraTreesRegressors.\n",
            "  warn(\n",
            "/usr/local/lib/python3.10/dist-packages/sklearn/ensemble/_forest.py:413: FutureWarning: `max_features='auto'` has been deprecated in 1.1 and will be removed in 1.3. To keep the past behaviour, explicitly set `max_features=1.0` or remove this parameter as it is also the default value for RandomForestRegressors and ExtraTreesRegressors.\n",
            "  warn(\n"
          ]
        },
        {
          "output_type": "stream",
          "name": "stdout",
          "text": [
            "0.8956194865945084\n",
            "[0.87058493 0.91342245 0.87655786 0.91682464 0.90070756]\n"
          ]
        }
      ]
    },
    {
      "cell_type": "code",
      "source": [
        "# El ultimo paso es determinar la importancia de cada una de las variables\n",
        "importancias = pd.DataFrame(clf.feature_importances_)\n",
        "importancias.index = (X.columns)\n",
        "print(importancias)"
      ],
      "metadata": {
        "colab": {
          "base_uri": "https://localhost:8080/"
        },
        "id": "dCCCmgtO0OPL",
        "outputId": "db8417b2-0984-4cdd-b15c-4135a95b84d3"
      },
      "execution_count": null,
      "outputs": [
        {
          "output_type": "stream",
          "name": "stdout",
          "text": [
            "                     0\n",
            "cement        0.334974\n",
            "slag          0.081942\n",
            "ash           0.016032\n",
            "water         0.102994\n",
            "superplastic  0.068523\n",
            "coarseagg     0.021602\n",
            "fineagg       0.033404\n",
            "age           0.340529\n"
          ]
        }
      ]
    },
    {
      "cell_type": "code",
      "source": [],
      "metadata": {
        "id": "yOdqVF-t0ZZK"
      },
      "execution_count": null,
      "outputs": []
    }
  ]
}