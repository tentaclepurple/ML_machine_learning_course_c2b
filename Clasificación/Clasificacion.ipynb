{
  "nbformat": 4,
  "nbformat_minor": 0,
  "metadata": {
    "colab": {
      "provenance": [],
      "toc_visible": true
    },
    "kernelspec": {
      "name": "python3",
      "display_name": "Python 3"
    },
    "language_info": {
      "name": "python"
    }
  },
  "cells": [
    {
      "cell_type": "code",
      "source": [
        "import numpy as np\n",
        "import pandas as pd\n",
        "import os"
      ],
      "metadata": {
        "id": "8TvjwFwPOKfH"
      },
      "execution_count": 92,
      "outputs": []
    },
    {
      "cell_type": "code",
      "source": [
        "from google.colab import drive\n",
        "drive.mount('/content/drive')"
      ],
      "metadata": {
        "colab": {
          "base_uri": "https://localhost:8080/"
        },
        "id": "ZAUHC76VosPl",
        "outputId": "ad357f3e-0bdf-41db-d08c-f4128f2befe6"
      },
      "execution_count": 93,
      "outputs": [
        {
          "output_type": "stream",
          "name": "stdout",
          "text": [
            "Drive already mounted at /content/drive; to attempt to forcibly remount, call drive.mount(\"/content/drive\", force_remount=True).\n"
          ]
        }
      ]
    },
    {
      "cell_type": "code",
      "source": [
        "data = pd.read_csv(\"/content/drive/MyDrive/Colab Notebooks/DATA SCIENCE/Data Mining/Clasificación/churn.csv\")"
      ],
      "metadata": {
        "id": "MJjVuay0PFjr"
      },
      "execution_count": 94,
      "outputs": []
    },
    {
      "cell_type": "markdown",
      "source": [
        "# Análisis Exploratorio de Datos (EDA)"
      ],
      "metadata": {
        "id": "E-Whe797TVna"
      }
    },
    {
      "cell_type": "code",
      "source": [
        "data.head(5)"
      ],
      "metadata": {
        "colab": {
          "base_uri": "https://localhost:8080/",
          "height": 359
        },
        "id": "4LDJqClQP2nV",
        "outputId": "440132e0-5c7b-4fb3-cdcb-42910bd99919"
      },
      "execution_count": 95,
      "outputs": [
        {
          "output_type": "execute_result",
          "data": {
            "text/plain": [
              "  State  Account Length  Area Code     Phone Int'l Plan VMail Plan  \\\n",
              "0    KS             128        415  382-4657         no        yes   \n",
              "1    OH             107        415  371-7191         no        yes   \n",
              "2    NJ             137        415  358-1921         no         no   \n",
              "3    OH              84        408  375-9999        yes         no   \n",
              "4    OK              75        415  330-6626        yes         no   \n",
              "\n",
              "   VMail Message  Day Mins  Day Calls  Day Charge  ...  Eve Calls  Eve Charge  \\\n",
              "0             25     265.1        110       45.07  ...         99       16.78   \n",
              "1             26     161.6        123       27.47  ...        103       16.62   \n",
              "2              0     243.4        114       41.38  ...        110       10.30   \n",
              "3              0     299.4         71       50.90  ...         88        5.26   \n",
              "4              0     166.7        113       28.34  ...        122       12.61   \n",
              "\n",
              "   Night Mins  Night Calls  Night Charge  Intl Mins  Intl Calls  Intl Charge  \\\n",
              "0       244.7           91         11.01       10.0           3         2.70   \n",
              "1       254.4          103         11.45       13.7           3         3.70   \n",
              "2       162.6          104          7.32       12.2           5         3.29   \n",
              "3       196.9           89          8.86        6.6           7         1.78   \n",
              "4       186.9          121          8.41       10.1           3         2.73   \n",
              "\n",
              "   CustServ Calls   Churn  \n",
              "0               1  False.  \n",
              "1               1  False.  \n",
              "2               0  False.  \n",
              "3               2  False.  \n",
              "4               3  False.  \n",
              "\n",
              "[5 rows x 21 columns]"
            ],
            "text/html": [
              "\n",
              "  <div id=\"df-c3468c66-8fd0-48fc-8586-7fdaf68609ab\" class=\"colab-df-container\">\n",
              "    <div>\n",
              "<style scoped>\n",
              "    .dataframe tbody tr th:only-of-type {\n",
              "        vertical-align: middle;\n",
              "    }\n",
              "\n",
              "    .dataframe tbody tr th {\n",
              "        vertical-align: top;\n",
              "    }\n",
              "\n",
              "    .dataframe thead th {\n",
              "        text-align: right;\n",
              "    }\n",
              "</style>\n",
              "<table border=\"1\" class=\"dataframe\">\n",
              "  <thead>\n",
              "    <tr style=\"text-align: right;\">\n",
              "      <th></th>\n",
              "      <th>State</th>\n",
              "      <th>Account Length</th>\n",
              "      <th>Area Code</th>\n",
              "      <th>Phone</th>\n",
              "      <th>Int'l Plan</th>\n",
              "      <th>VMail Plan</th>\n",
              "      <th>VMail Message</th>\n",
              "      <th>Day Mins</th>\n",
              "      <th>Day Calls</th>\n",
              "      <th>Day Charge</th>\n",
              "      <th>...</th>\n",
              "      <th>Eve Calls</th>\n",
              "      <th>Eve Charge</th>\n",
              "      <th>Night Mins</th>\n",
              "      <th>Night Calls</th>\n",
              "      <th>Night Charge</th>\n",
              "      <th>Intl Mins</th>\n",
              "      <th>Intl Calls</th>\n",
              "      <th>Intl Charge</th>\n",
              "      <th>CustServ Calls</th>\n",
              "      <th>Churn</th>\n",
              "    </tr>\n",
              "  </thead>\n",
              "  <tbody>\n",
              "    <tr>\n",
              "      <th>0</th>\n",
              "      <td>KS</td>\n",
              "      <td>128</td>\n",
              "      <td>415</td>\n",
              "      <td>382-4657</td>\n",
              "      <td>no</td>\n",
              "      <td>yes</td>\n",
              "      <td>25</td>\n",
              "      <td>265.1</td>\n",
              "      <td>110</td>\n",
              "      <td>45.07</td>\n",
              "      <td>...</td>\n",
              "      <td>99</td>\n",
              "      <td>16.78</td>\n",
              "      <td>244.7</td>\n",
              "      <td>91</td>\n",
              "      <td>11.01</td>\n",
              "      <td>10.0</td>\n",
              "      <td>3</td>\n",
              "      <td>2.70</td>\n",
              "      <td>1</td>\n",
              "      <td>False.</td>\n",
              "    </tr>\n",
              "    <tr>\n",
              "      <th>1</th>\n",
              "      <td>OH</td>\n",
              "      <td>107</td>\n",
              "      <td>415</td>\n",
              "      <td>371-7191</td>\n",
              "      <td>no</td>\n",
              "      <td>yes</td>\n",
              "      <td>26</td>\n",
              "      <td>161.6</td>\n",
              "      <td>123</td>\n",
              "      <td>27.47</td>\n",
              "      <td>...</td>\n",
              "      <td>103</td>\n",
              "      <td>16.62</td>\n",
              "      <td>254.4</td>\n",
              "      <td>103</td>\n",
              "      <td>11.45</td>\n",
              "      <td>13.7</td>\n",
              "      <td>3</td>\n",
              "      <td>3.70</td>\n",
              "      <td>1</td>\n",
              "      <td>False.</td>\n",
              "    </tr>\n",
              "    <tr>\n",
              "      <th>2</th>\n",
              "      <td>NJ</td>\n",
              "      <td>137</td>\n",
              "      <td>415</td>\n",
              "      <td>358-1921</td>\n",
              "      <td>no</td>\n",
              "      <td>no</td>\n",
              "      <td>0</td>\n",
              "      <td>243.4</td>\n",
              "      <td>114</td>\n",
              "      <td>41.38</td>\n",
              "      <td>...</td>\n",
              "      <td>110</td>\n",
              "      <td>10.30</td>\n",
              "      <td>162.6</td>\n",
              "      <td>104</td>\n",
              "      <td>7.32</td>\n",
              "      <td>12.2</td>\n",
              "      <td>5</td>\n",
              "      <td>3.29</td>\n",
              "      <td>0</td>\n",
              "      <td>False.</td>\n",
              "    </tr>\n",
              "    <tr>\n",
              "      <th>3</th>\n",
              "      <td>OH</td>\n",
              "      <td>84</td>\n",
              "      <td>408</td>\n",
              "      <td>375-9999</td>\n",
              "      <td>yes</td>\n",
              "      <td>no</td>\n",
              "      <td>0</td>\n",
              "      <td>299.4</td>\n",
              "      <td>71</td>\n",
              "      <td>50.90</td>\n",
              "      <td>...</td>\n",
              "      <td>88</td>\n",
              "      <td>5.26</td>\n",
              "      <td>196.9</td>\n",
              "      <td>89</td>\n",
              "      <td>8.86</td>\n",
              "      <td>6.6</td>\n",
              "      <td>7</td>\n",
              "      <td>1.78</td>\n",
              "      <td>2</td>\n",
              "      <td>False.</td>\n",
              "    </tr>\n",
              "    <tr>\n",
              "      <th>4</th>\n",
              "      <td>OK</td>\n",
              "      <td>75</td>\n",
              "      <td>415</td>\n",
              "      <td>330-6626</td>\n",
              "      <td>yes</td>\n",
              "      <td>no</td>\n",
              "      <td>0</td>\n",
              "      <td>166.7</td>\n",
              "      <td>113</td>\n",
              "      <td>28.34</td>\n",
              "      <td>...</td>\n",
              "      <td>122</td>\n",
              "      <td>12.61</td>\n",
              "      <td>186.9</td>\n",
              "      <td>121</td>\n",
              "      <td>8.41</td>\n",
              "      <td>10.1</td>\n",
              "      <td>3</td>\n",
              "      <td>2.73</td>\n",
              "      <td>3</td>\n",
              "      <td>False.</td>\n",
              "    </tr>\n",
              "  </tbody>\n",
              "</table>\n",
              "<p>5 rows × 21 columns</p>\n",
              "</div>\n",
              "    <div class=\"colab-df-buttons\">\n",
              "\n",
              "  <div class=\"colab-df-container\">\n",
              "    <button class=\"colab-df-convert\" onclick=\"convertToInteractive('df-c3468c66-8fd0-48fc-8586-7fdaf68609ab')\"\n",
              "            title=\"Convert this dataframe to an interactive table.\"\n",
              "            style=\"display:none;\">\n",
              "\n",
              "  <svg xmlns=\"http://www.w3.org/2000/svg\" height=\"24px\" viewBox=\"0 -960 960 960\">\n",
              "    <path d=\"M120-120v-720h720v720H120Zm60-500h600v-160H180v160Zm220 220h160v-160H400v160Zm0 220h160v-160H400v160ZM180-400h160v-160H180v160Zm440 0h160v-160H620v160ZM180-180h160v-160H180v160Zm440 0h160v-160H620v160Z\"/>\n",
              "  </svg>\n",
              "    </button>\n",
              "\n",
              "  <style>\n",
              "    .colab-df-container {\n",
              "      display:flex;\n",
              "      gap: 12px;\n",
              "    }\n",
              "\n",
              "    .colab-df-convert {\n",
              "      background-color: #E8F0FE;\n",
              "      border: none;\n",
              "      border-radius: 50%;\n",
              "      cursor: pointer;\n",
              "      display: none;\n",
              "      fill: #1967D2;\n",
              "      height: 32px;\n",
              "      padding: 0 0 0 0;\n",
              "      width: 32px;\n",
              "    }\n",
              "\n",
              "    .colab-df-convert:hover {\n",
              "      background-color: #E2EBFA;\n",
              "      box-shadow: 0px 1px 2px rgba(60, 64, 67, 0.3), 0px 1px 3px 1px rgba(60, 64, 67, 0.15);\n",
              "      fill: #174EA6;\n",
              "    }\n",
              "\n",
              "    .colab-df-buttons div {\n",
              "      margin-bottom: 4px;\n",
              "    }\n",
              "\n",
              "    [theme=dark] .colab-df-convert {\n",
              "      background-color: #3B4455;\n",
              "      fill: #D2E3FC;\n",
              "    }\n",
              "\n",
              "    [theme=dark] .colab-df-convert:hover {\n",
              "      background-color: #434B5C;\n",
              "      box-shadow: 0px 1px 3px 1px rgba(0, 0, 0, 0.15);\n",
              "      filter: drop-shadow(0px 1px 2px rgba(0, 0, 0, 0.3));\n",
              "      fill: #FFFFFF;\n",
              "    }\n",
              "  </style>\n",
              "\n",
              "    <script>\n",
              "      const buttonEl =\n",
              "        document.querySelector('#df-c3468c66-8fd0-48fc-8586-7fdaf68609ab button.colab-df-convert');\n",
              "      buttonEl.style.display =\n",
              "        google.colab.kernel.accessAllowed ? 'block' : 'none';\n",
              "\n",
              "      async function convertToInteractive(key) {\n",
              "        const element = document.querySelector('#df-c3468c66-8fd0-48fc-8586-7fdaf68609ab');\n",
              "        const dataTable =\n",
              "          await google.colab.kernel.invokeFunction('convertToInteractive',\n",
              "                                                    [key], {});\n",
              "        if (!dataTable) return;\n",
              "\n",
              "        const docLinkHtml = 'Like what you see? Visit the ' +\n",
              "          '<a target=\"_blank\" href=https://colab.research.google.com/notebooks/data_table.ipynb>data table notebook</a>'\n",
              "          + ' to learn more about interactive tables.';\n",
              "        element.innerHTML = '';\n",
              "        dataTable['output_type'] = 'display_data';\n",
              "        await google.colab.output.renderOutput(dataTable, element);\n",
              "        const docLink = document.createElement('div');\n",
              "        docLink.innerHTML = docLinkHtml;\n",
              "        element.appendChild(docLink);\n",
              "      }\n",
              "    </script>\n",
              "  </div>\n",
              "\n",
              "\n",
              "<div id=\"df-860a613a-85b1-4800-9103-1549cd022d1f\">\n",
              "  <button class=\"colab-df-quickchart\" onclick=\"quickchart('df-860a613a-85b1-4800-9103-1549cd022d1f')\"\n",
              "            title=\"Suggest charts\"\n",
              "            style=\"display:none;\">\n",
              "\n",
              "<svg xmlns=\"http://www.w3.org/2000/svg\" height=\"24px\"viewBox=\"0 0 24 24\"\n",
              "     width=\"24px\">\n",
              "    <g>\n",
              "        <path d=\"M19 3H5c-1.1 0-2 .9-2 2v14c0 1.1.9 2 2 2h14c1.1 0 2-.9 2-2V5c0-1.1-.9-2-2-2zM9 17H7v-7h2v7zm4 0h-2V7h2v10zm4 0h-2v-4h2v4z\"/>\n",
              "    </g>\n",
              "</svg>\n",
              "  </button>\n",
              "\n",
              "<style>\n",
              "  .colab-df-quickchart {\n",
              "      --bg-color: #E8F0FE;\n",
              "      --fill-color: #1967D2;\n",
              "      --hover-bg-color: #E2EBFA;\n",
              "      --hover-fill-color: #174EA6;\n",
              "      --disabled-fill-color: #AAA;\n",
              "      --disabled-bg-color: #DDD;\n",
              "  }\n",
              "\n",
              "  [theme=dark] .colab-df-quickchart {\n",
              "      --bg-color: #3B4455;\n",
              "      --fill-color: #D2E3FC;\n",
              "      --hover-bg-color: #434B5C;\n",
              "      --hover-fill-color: #FFFFFF;\n",
              "      --disabled-bg-color: #3B4455;\n",
              "      --disabled-fill-color: #666;\n",
              "  }\n",
              "\n",
              "  .colab-df-quickchart {\n",
              "    background-color: var(--bg-color);\n",
              "    border: none;\n",
              "    border-radius: 50%;\n",
              "    cursor: pointer;\n",
              "    display: none;\n",
              "    fill: var(--fill-color);\n",
              "    height: 32px;\n",
              "    padding: 0;\n",
              "    width: 32px;\n",
              "  }\n",
              "\n",
              "  .colab-df-quickchart:hover {\n",
              "    background-color: var(--hover-bg-color);\n",
              "    box-shadow: 0 1px 2px rgba(60, 64, 67, 0.3), 0 1px 3px 1px rgba(60, 64, 67, 0.15);\n",
              "    fill: var(--button-hover-fill-color);\n",
              "  }\n",
              "\n",
              "  .colab-df-quickchart-complete:disabled,\n",
              "  .colab-df-quickchart-complete:disabled:hover {\n",
              "    background-color: var(--disabled-bg-color);\n",
              "    fill: var(--disabled-fill-color);\n",
              "    box-shadow: none;\n",
              "  }\n",
              "\n",
              "  .colab-df-spinner {\n",
              "    border: 2px solid var(--fill-color);\n",
              "    border-color: transparent;\n",
              "    border-bottom-color: var(--fill-color);\n",
              "    animation:\n",
              "      spin 1s steps(1) infinite;\n",
              "  }\n",
              "\n",
              "  @keyframes spin {\n",
              "    0% {\n",
              "      border-color: transparent;\n",
              "      border-bottom-color: var(--fill-color);\n",
              "      border-left-color: var(--fill-color);\n",
              "    }\n",
              "    20% {\n",
              "      border-color: transparent;\n",
              "      border-left-color: var(--fill-color);\n",
              "      border-top-color: var(--fill-color);\n",
              "    }\n",
              "    30% {\n",
              "      border-color: transparent;\n",
              "      border-left-color: var(--fill-color);\n",
              "      border-top-color: var(--fill-color);\n",
              "      border-right-color: var(--fill-color);\n",
              "    }\n",
              "    40% {\n",
              "      border-color: transparent;\n",
              "      border-right-color: var(--fill-color);\n",
              "      border-top-color: var(--fill-color);\n",
              "    }\n",
              "    60% {\n",
              "      border-color: transparent;\n",
              "      border-right-color: var(--fill-color);\n",
              "    }\n",
              "    80% {\n",
              "      border-color: transparent;\n",
              "      border-right-color: var(--fill-color);\n",
              "      border-bottom-color: var(--fill-color);\n",
              "    }\n",
              "    90% {\n",
              "      border-color: transparent;\n",
              "      border-bottom-color: var(--fill-color);\n",
              "    }\n",
              "  }\n",
              "</style>\n",
              "\n",
              "  <script>\n",
              "    async function quickchart(key) {\n",
              "      const quickchartButtonEl =\n",
              "        document.querySelector('#' + key + ' button');\n",
              "      quickchartButtonEl.disabled = true;  // To prevent multiple clicks.\n",
              "      quickchartButtonEl.classList.add('colab-df-spinner');\n",
              "      try {\n",
              "        const charts = await google.colab.kernel.invokeFunction(\n",
              "            'suggestCharts', [key], {});\n",
              "      } catch (error) {\n",
              "        console.error('Error during call to suggestCharts:', error);\n",
              "      }\n",
              "      quickchartButtonEl.classList.remove('colab-df-spinner');\n",
              "      quickchartButtonEl.classList.add('colab-df-quickchart-complete');\n",
              "    }\n",
              "    (() => {\n",
              "      let quickchartButtonEl =\n",
              "        document.querySelector('#df-860a613a-85b1-4800-9103-1549cd022d1f button');\n",
              "      quickchartButtonEl.style.display =\n",
              "        google.colab.kernel.accessAllowed ? 'block' : 'none';\n",
              "    })();\n",
              "  </script>\n",
              "</div>\n",
              "    </div>\n",
              "  </div>\n"
            ]
          },
          "metadata": {},
          "execution_count": 95
        }
      ]
    },
    {
      "cell_type": "markdown",
      "source": [
        "Nombres de las variables (columnas):"
      ],
      "metadata": {
        "id": "7pPcKUPNToKs"
      }
    },
    {
      "cell_type": "code",
      "source": [
        "data.columns"
      ],
      "metadata": {
        "colab": {
          "base_uri": "https://localhost:8080/"
        },
        "id": "G2CNW9NyQdoT",
        "outputId": "d798c352-8e26-4c32-f63c-97e7289aa492"
      },
      "execution_count": 96,
      "outputs": [
        {
          "output_type": "execute_result",
          "data": {
            "text/plain": [
              "Index(['State', 'Account Length', 'Area Code', 'Phone', 'Int'l Plan',\n",
              "       'VMail Plan', 'VMail Message', 'Day Mins', 'Day Calls', 'Day Charge',\n",
              "       'Eve Mins', 'Eve Calls', 'Eve Charge', 'Night Mins', 'Night Calls',\n",
              "       'Night Charge', 'Intl Mins', 'Intl Calls', 'Intl Charge',\n",
              "       'CustServ Calls', 'Churn'],\n",
              "      dtype='object')"
            ]
          },
          "metadata": {},
          "execution_count": 96
        }
      ]
    },
    {
      "cell_type": "markdown",
      "source": [
        "Tipos de los datos almacenados en cada variable:"
      ],
      "metadata": {
        "id": "tQSMkV-aT1-W"
      }
    },
    {
      "cell_type": "code",
      "source": [
        "data.dtypes"
      ],
      "metadata": {
        "colab": {
          "base_uri": "https://localhost:8080/"
        },
        "id": "MSpowcy-R9rZ",
        "outputId": "a22f9c04-db90-4a31-ca7a-c480b7c92a50"
      },
      "execution_count": 97,
      "outputs": [
        {
          "output_type": "execute_result",
          "data": {
            "text/plain": [
              "State              object\n",
              "Account Length      int64\n",
              "Area Code           int64\n",
              "Phone              object\n",
              "Int'l Plan         object\n",
              "VMail Plan         object\n",
              "VMail Message       int64\n",
              "Day Mins          float64\n",
              "Day Calls           int64\n",
              "Day Charge        float64\n",
              "Eve Mins          float64\n",
              "Eve Calls           int64\n",
              "Eve Charge        float64\n",
              "Night Mins        float64\n",
              "Night Calls         int64\n",
              "Night Charge      float64\n",
              "Intl Mins         float64\n",
              "Intl Calls          int64\n",
              "Intl Charge       float64\n",
              "CustServ Calls      int64\n",
              "Churn              object\n",
              "dtype: object"
            ]
          },
          "metadata": {},
          "execution_count": 97
        }
      ]
    },
    {
      "cell_type": "markdown",
      "source": [
        "**Decripción** estadística de los datos"
      ],
      "metadata": {
        "id": "6AdA6C1gTAN1"
      }
    },
    {
      "cell_type": "code",
      "source": [
        "descripcion_data = data.describe(include=\"all\").T\n",
        "print(descripcion_data)"
      ],
      "metadata": {
        "colab": {
          "base_uri": "https://localhost:8080/"
        },
        "id": "trmBLTUfTE8X",
        "outputId": "d331b15a-74f7-4ace-a24d-18e98a27f9bf"
      },
      "execution_count": 98,
      "outputs": [
        {
          "output_type": "stream",
          "name": "stdout",
          "text": [
            "                 count unique       top  freq        mean        std    min  \\\n",
            "State             3333     51        WV   106         NaN        NaN    NaN   \n",
            "Account Length  3333.0    NaN       NaN   NaN  101.064806  39.822106    1.0   \n",
            "Area Code       3333.0    NaN       NaN   NaN  437.182418   42.37129  408.0   \n",
            "Phone             3333   3333  382-4657     1         NaN        NaN    NaN   \n",
            "Int'l Plan        3333      2        no  3010         NaN        NaN    NaN   \n",
            "VMail Plan        3333      2        no  2411         NaN        NaN    NaN   \n",
            "VMail Message   3333.0    NaN       NaN   NaN     8.09901  13.688365    0.0   \n",
            "Day Mins        3333.0    NaN       NaN   NaN  179.775098  54.467389    0.0   \n",
            "Day Calls       3333.0    NaN       NaN   NaN  100.435644  20.069084    0.0   \n",
            "Day Charge      3333.0    NaN       NaN   NaN   30.562307   9.259435    0.0   \n",
            "Eve Mins        3333.0    NaN       NaN   NaN  200.980348  50.713844    0.0   \n",
            "Eve Calls       3333.0    NaN       NaN   NaN  100.114311  19.922625    0.0   \n",
            "Eve Charge      3333.0    NaN       NaN   NaN    17.08354   4.310668    0.0   \n",
            "Night Mins      3333.0    NaN       NaN   NaN  200.872037  50.573847   23.2   \n",
            "Night Calls     3333.0    NaN       NaN   NaN  100.107711  19.568609   33.0   \n",
            "Night Charge    3333.0    NaN       NaN   NaN    9.039325   2.275873   1.04   \n",
            "Intl Mins       3333.0    NaN       NaN   NaN   10.237294    2.79184    0.0   \n",
            "Intl Calls      3333.0    NaN       NaN   NaN    4.479448   2.461214    0.0   \n",
            "Intl Charge     3333.0    NaN       NaN   NaN    2.764581   0.753773    0.0   \n",
            "CustServ Calls  3333.0    NaN       NaN   NaN    1.562856   1.315491    0.0   \n",
            "Churn             3333      2    False.  2850         NaN        NaN    NaN   \n",
            "\n",
            "                  25%    50%    75%    max  \n",
            "State             NaN    NaN    NaN    NaN  \n",
            "Account Length   74.0  101.0  127.0  243.0  \n",
            "Area Code       408.0  415.0  510.0  510.0  \n",
            "Phone             NaN    NaN    NaN    NaN  \n",
            "Int'l Plan        NaN    NaN    NaN    NaN  \n",
            "VMail Plan        NaN    NaN    NaN    NaN  \n",
            "VMail Message     0.0    0.0   20.0   51.0  \n",
            "Day Mins        143.7  179.4  216.4  350.8  \n",
            "Day Calls        87.0  101.0  114.0  165.0  \n",
            "Day Charge      24.43   30.5  36.79  59.64  \n",
            "Eve Mins        166.6  201.4  235.3  363.7  \n",
            "Eve Calls        87.0  100.0  114.0  170.0  \n",
            "Eve Charge      14.16  17.12   20.0  30.91  \n",
            "Night Mins      167.0  201.2  235.3  395.0  \n",
            "Night Calls      87.0  100.0  113.0  175.0  \n",
            "Night Charge     7.52   9.05  10.59  17.77  \n",
            "Intl Mins         8.5   10.3   12.1   20.0  \n",
            "Intl Calls        3.0    4.0    6.0   20.0  \n",
            "Intl Charge       2.3   2.78   3.27    5.4  \n",
            "CustServ Calls    1.0    1.0    2.0    9.0  \n",
            "Churn             NaN    NaN    NaN    NaN  \n"
          ]
        }
      ]
    },
    {
      "cell_type": "markdown",
      "source": [
        "Valores perdidos"
      ],
      "metadata": {
        "id": "-TEShX9EVKOb"
      }
    },
    {
      "cell_type": "code",
      "source": [
        "data.isnull().sum()"
      ],
      "metadata": {
        "colab": {
          "base_uri": "https://localhost:8080/"
        },
        "id": "cfQ0PqARVMRp",
        "outputId": "6a890b4b-7383-4222-f7aa-f3eeaf83d72e"
      },
      "execution_count": 99,
      "outputs": [
        {
          "output_type": "execute_result",
          "data": {
            "text/plain": [
              "State             0\n",
              "Account Length    0\n",
              "Area Code         0\n",
              "Phone             0\n",
              "Int'l Plan        0\n",
              "VMail Plan        0\n",
              "VMail Message     0\n",
              "Day Mins          0\n",
              "Day Calls         0\n",
              "Day Charge        0\n",
              "Eve Mins          0\n",
              "Eve Calls         0\n",
              "Eve Charge        0\n",
              "Night Mins        0\n",
              "Night Calls       0\n",
              "Night Charge      0\n",
              "Intl Mins         0\n",
              "Intl Calls        0\n",
              "Intl Charge       0\n",
              "CustServ Calls    0\n",
              "Churn             0\n",
              "dtype: int64"
            ]
          },
          "metadata": {},
          "execution_count": 99
        }
      ]
    },
    {
      "cell_type": "code",
      "source": [
        "if  not data.isnull().any().any():\n",
        "  print(\"No hay valores nulos\")"
      ],
      "metadata": {
        "colab": {
          "base_uri": "https://localhost:8080/"
        },
        "id": "g4mSRIxYVTlk",
        "outputId": "e4a3d798-0e37-4fce-a5d5-15916df559e3"
      },
      "execution_count": 100,
      "outputs": [
        {
          "output_type": "stream",
          "name": "stdout",
          "text": [
            "No hay valores nulos\n"
          ]
        }
      ]
    },
    {
      "cell_type": "code",
      "source": [
        "data.isnull().any().any()"
      ],
      "metadata": {
        "colab": {
          "base_uri": "https://localhost:8080/"
        },
        "id": "pQeOuUlVYits",
        "outputId": "0393e0cf-5e67-4af5-ca50-5208e5e89c9b"
      },
      "execution_count": 101,
      "outputs": [
        {
          "output_type": "execute_result",
          "data": {
            "text/plain": [
              "False"
            ]
          },
          "metadata": {},
          "execution_count": 101
        }
      ]
    },
    {
      "cell_type": "markdown",
      "source": [
        "Tras comprobar que no existen valores perdidos analizamos las variables.\n",
        "- El objetivo es determinar si todas las variables son utiles para la modelizacion.\n",
        "- Hay una serie de variables que no nos proporcionan informacion.\n",
        "- El estado en el que vive un cliente no aporta informacion sobre su comportamiento.\n"
      ],
      "metadata": {
        "id": "uWjCoLBPXhhk"
      }
    },
    {
      "cell_type": "code",
      "source": [
        "# Están los 51 estados de EEUU\n",
        "len(data['State'].value_counts())"
      ],
      "metadata": {
        "colab": {
          "base_uri": "https://localhost:8080/"
        },
        "id": "zcpQLwZUXphK",
        "outputId": "f715db1a-4c77-4878-a272-823af4ae32c1"
      },
      "execution_count": 102,
      "outputs": [
        {
          "output_type": "execute_result",
          "data": {
            "text/plain": [
              "51"
            ]
          },
          "metadata": {},
          "execution_count": 102
        }
      ]
    },
    {
      "cell_type": "markdown",
      "source": [
        "- Lo mismo ocurre con los codigos identifcativos y con el número de telefono.\n",
        "- Eliminamos esas variables"
      ],
      "metadata": {
        "id": "Z6qGLpxcYab1"
      }
    },
    {
      "cell_type": "code",
      "source": [
        "# Ejecutar esta celda sólo una vez. La segunda vez daria error por no existir las columnas ya eliminadas\n",
        "del data['State']\n",
        "del data['Account Length']\n",
        "del data['Area Code']\n",
        "del data['Phone']"
      ],
      "metadata": {
        "id": "OUGQ5a2FYey0"
      },
      "execution_count": 103,
      "outputs": []
    },
    {
      "cell_type": "markdown",
      "source": [
        "- El resto de las variables pueden ser relevantes para el análisis.\n",
        "- Tenemos variables numéricas y variables categóricas.\n",
        "- Las variables categóricas deben ser **binominalizadas**.\n",
        "- En este caso dado que las variables solo toman dos opciones se puede hacer \"a mano\"."
      ],
      "metadata": {
        "id": "MdGwOEzJY_S_"
      }
    },
    {
      "cell_type": "markdown",
      "source": [
        "Crear una nueva columna de ceros"
      ],
      "metadata": {
        "id": "2Jq62nwaZ6b4"
      }
    },
    {
      "cell_type": "code",
      "source": [
        "data.loc[:, \"IntPlan\"] = 0"
      ],
      "metadata": {
        "id": "Zw2F2ee9Z71I"
      },
      "execution_count": 104,
      "outputs": []
    },
    {
      "cell_type": "markdown",
      "source": [
        "Si tiene Plan Internacional -> 1"
      ],
      "metadata": {
        "id": "NZFFwJySas81"
      }
    },
    {
      "cell_type": "code",
      "source": [
        "data.loc[data[\"Int'l Plan\"] == \"yes\", \"IntPlan\"] = 1"
      ],
      "metadata": {
        "id": "JTOO-PN6awOe"
      },
      "execution_count": 105,
      "outputs": []
    },
    {
      "cell_type": "code",
      "source": [
        "data = data.drop(\"Int'l Plan\", axis = 1)\n",
        "data.head()"
      ],
      "metadata": {
        "colab": {
          "base_uri": "https://localhost:8080/",
          "height": 243
        },
        "id": "_mQJ7R9RbFpa",
        "outputId": "a7a51ef5-0142-4a6a-ed23-e881a98603f7"
      },
      "execution_count": 106,
      "outputs": [
        {
          "output_type": "execute_result",
          "data": {
            "text/plain": [
              "  VMail Plan  VMail Message  Day Mins  Day Calls  Day Charge  Eve Mins  \\\n",
              "0        yes             25     265.1        110       45.07     197.4   \n",
              "1        yes             26     161.6        123       27.47     195.5   \n",
              "2         no              0     243.4        114       41.38     121.2   \n",
              "3         no              0     299.4         71       50.90      61.9   \n",
              "4         no              0     166.7        113       28.34     148.3   \n",
              "\n",
              "   Eve Calls  Eve Charge  Night Mins  Night Calls  Night Charge  Intl Mins  \\\n",
              "0         99       16.78       244.7           91         11.01       10.0   \n",
              "1        103       16.62       254.4          103         11.45       13.7   \n",
              "2        110       10.30       162.6          104          7.32       12.2   \n",
              "3         88        5.26       196.9           89          8.86        6.6   \n",
              "4        122       12.61       186.9          121          8.41       10.1   \n",
              "\n",
              "   Intl Calls  Intl Charge  CustServ Calls   Churn  IntPlan  \n",
              "0           3         2.70               1  False.        0  \n",
              "1           3         3.70               1  False.        0  \n",
              "2           5         3.29               0  False.        0  \n",
              "3           7         1.78               2  False.        1  \n",
              "4           3         2.73               3  False.        1  "
            ],
            "text/html": [
              "\n",
              "  <div id=\"df-6eab38e8-b7aa-4ac7-a2ed-f5fcccb9783b\" class=\"colab-df-container\">\n",
              "    <div>\n",
              "<style scoped>\n",
              "    .dataframe tbody tr th:only-of-type {\n",
              "        vertical-align: middle;\n",
              "    }\n",
              "\n",
              "    .dataframe tbody tr th {\n",
              "        vertical-align: top;\n",
              "    }\n",
              "\n",
              "    .dataframe thead th {\n",
              "        text-align: right;\n",
              "    }\n",
              "</style>\n",
              "<table border=\"1\" class=\"dataframe\">\n",
              "  <thead>\n",
              "    <tr style=\"text-align: right;\">\n",
              "      <th></th>\n",
              "      <th>VMail Plan</th>\n",
              "      <th>VMail Message</th>\n",
              "      <th>Day Mins</th>\n",
              "      <th>Day Calls</th>\n",
              "      <th>Day Charge</th>\n",
              "      <th>Eve Mins</th>\n",
              "      <th>Eve Calls</th>\n",
              "      <th>Eve Charge</th>\n",
              "      <th>Night Mins</th>\n",
              "      <th>Night Calls</th>\n",
              "      <th>Night Charge</th>\n",
              "      <th>Intl Mins</th>\n",
              "      <th>Intl Calls</th>\n",
              "      <th>Intl Charge</th>\n",
              "      <th>CustServ Calls</th>\n",
              "      <th>Churn</th>\n",
              "      <th>IntPlan</th>\n",
              "    </tr>\n",
              "  </thead>\n",
              "  <tbody>\n",
              "    <tr>\n",
              "      <th>0</th>\n",
              "      <td>yes</td>\n",
              "      <td>25</td>\n",
              "      <td>265.1</td>\n",
              "      <td>110</td>\n",
              "      <td>45.07</td>\n",
              "      <td>197.4</td>\n",
              "      <td>99</td>\n",
              "      <td>16.78</td>\n",
              "      <td>244.7</td>\n",
              "      <td>91</td>\n",
              "      <td>11.01</td>\n",
              "      <td>10.0</td>\n",
              "      <td>3</td>\n",
              "      <td>2.70</td>\n",
              "      <td>1</td>\n",
              "      <td>False.</td>\n",
              "      <td>0</td>\n",
              "    </tr>\n",
              "    <tr>\n",
              "      <th>1</th>\n",
              "      <td>yes</td>\n",
              "      <td>26</td>\n",
              "      <td>161.6</td>\n",
              "      <td>123</td>\n",
              "      <td>27.47</td>\n",
              "      <td>195.5</td>\n",
              "      <td>103</td>\n",
              "      <td>16.62</td>\n",
              "      <td>254.4</td>\n",
              "      <td>103</td>\n",
              "      <td>11.45</td>\n",
              "      <td>13.7</td>\n",
              "      <td>3</td>\n",
              "      <td>3.70</td>\n",
              "      <td>1</td>\n",
              "      <td>False.</td>\n",
              "      <td>0</td>\n",
              "    </tr>\n",
              "    <tr>\n",
              "      <th>2</th>\n",
              "      <td>no</td>\n",
              "      <td>0</td>\n",
              "      <td>243.4</td>\n",
              "      <td>114</td>\n",
              "      <td>41.38</td>\n",
              "      <td>121.2</td>\n",
              "      <td>110</td>\n",
              "      <td>10.30</td>\n",
              "      <td>162.6</td>\n",
              "      <td>104</td>\n",
              "      <td>7.32</td>\n",
              "      <td>12.2</td>\n",
              "      <td>5</td>\n",
              "      <td>3.29</td>\n",
              "      <td>0</td>\n",
              "      <td>False.</td>\n",
              "      <td>0</td>\n",
              "    </tr>\n",
              "    <tr>\n",
              "      <th>3</th>\n",
              "      <td>no</td>\n",
              "      <td>0</td>\n",
              "      <td>299.4</td>\n",
              "      <td>71</td>\n",
              "      <td>50.90</td>\n",
              "      <td>61.9</td>\n",
              "      <td>88</td>\n",
              "      <td>5.26</td>\n",
              "      <td>196.9</td>\n",
              "      <td>89</td>\n",
              "      <td>8.86</td>\n",
              "      <td>6.6</td>\n",
              "      <td>7</td>\n",
              "      <td>1.78</td>\n",
              "      <td>2</td>\n",
              "      <td>False.</td>\n",
              "      <td>1</td>\n",
              "    </tr>\n",
              "    <tr>\n",
              "      <th>4</th>\n",
              "      <td>no</td>\n",
              "      <td>0</td>\n",
              "      <td>166.7</td>\n",
              "      <td>113</td>\n",
              "      <td>28.34</td>\n",
              "      <td>148.3</td>\n",
              "      <td>122</td>\n",
              "      <td>12.61</td>\n",
              "      <td>186.9</td>\n",
              "      <td>121</td>\n",
              "      <td>8.41</td>\n",
              "      <td>10.1</td>\n",
              "      <td>3</td>\n",
              "      <td>2.73</td>\n",
              "      <td>3</td>\n",
              "      <td>False.</td>\n",
              "      <td>1</td>\n",
              "    </tr>\n",
              "  </tbody>\n",
              "</table>\n",
              "</div>\n",
              "    <div class=\"colab-df-buttons\">\n",
              "\n",
              "  <div class=\"colab-df-container\">\n",
              "    <button class=\"colab-df-convert\" onclick=\"convertToInteractive('df-6eab38e8-b7aa-4ac7-a2ed-f5fcccb9783b')\"\n",
              "            title=\"Convert this dataframe to an interactive table.\"\n",
              "            style=\"display:none;\">\n",
              "\n",
              "  <svg xmlns=\"http://www.w3.org/2000/svg\" height=\"24px\" viewBox=\"0 -960 960 960\">\n",
              "    <path d=\"M120-120v-720h720v720H120Zm60-500h600v-160H180v160Zm220 220h160v-160H400v160Zm0 220h160v-160H400v160ZM180-400h160v-160H180v160Zm440 0h160v-160H620v160ZM180-180h160v-160H180v160Zm440 0h160v-160H620v160Z\"/>\n",
              "  </svg>\n",
              "    </button>\n",
              "\n",
              "  <style>\n",
              "    .colab-df-container {\n",
              "      display:flex;\n",
              "      gap: 12px;\n",
              "    }\n",
              "\n",
              "    .colab-df-convert {\n",
              "      background-color: #E8F0FE;\n",
              "      border: none;\n",
              "      border-radius: 50%;\n",
              "      cursor: pointer;\n",
              "      display: none;\n",
              "      fill: #1967D2;\n",
              "      height: 32px;\n",
              "      padding: 0 0 0 0;\n",
              "      width: 32px;\n",
              "    }\n",
              "\n",
              "    .colab-df-convert:hover {\n",
              "      background-color: #E2EBFA;\n",
              "      box-shadow: 0px 1px 2px rgba(60, 64, 67, 0.3), 0px 1px 3px 1px rgba(60, 64, 67, 0.15);\n",
              "      fill: #174EA6;\n",
              "    }\n",
              "\n",
              "    .colab-df-buttons div {\n",
              "      margin-bottom: 4px;\n",
              "    }\n",
              "\n",
              "    [theme=dark] .colab-df-convert {\n",
              "      background-color: #3B4455;\n",
              "      fill: #D2E3FC;\n",
              "    }\n",
              "\n",
              "    [theme=dark] .colab-df-convert:hover {\n",
              "      background-color: #434B5C;\n",
              "      box-shadow: 0px 1px 3px 1px rgba(0, 0, 0, 0.15);\n",
              "      filter: drop-shadow(0px 1px 2px rgba(0, 0, 0, 0.3));\n",
              "      fill: #FFFFFF;\n",
              "    }\n",
              "  </style>\n",
              "\n",
              "    <script>\n",
              "      const buttonEl =\n",
              "        document.querySelector('#df-6eab38e8-b7aa-4ac7-a2ed-f5fcccb9783b button.colab-df-convert');\n",
              "      buttonEl.style.display =\n",
              "        google.colab.kernel.accessAllowed ? 'block' : 'none';\n",
              "\n",
              "      async function convertToInteractive(key) {\n",
              "        const element = document.querySelector('#df-6eab38e8-b7aa-4ac7-a2ed-f5fcccb9783b');\n",
              "        const dataTable =\n",
              "          await google.colab.kernel.invokeFunction('convertToInteractive',\n",
              "                                                    [key], {});\n",
              "        if (!dataTable) return;\n",
              "\n",
              "        const docLinkHtml = 'Like what you see? Visit the ' +\n",
              "          '<a target=\"_blank\" href=https://colab.research.google.com/notebooks/data_table.ipynb>data table notebook</a>'\n",
              "          + ' to learn more about interactive tables.';\n",
              "        element.innerHTML = '';\n",
              "        dataTable['output_type'] = 'display_data';\n",
              "        await google.colab.output.renderOutput(dataTable, element);\n",
              "        const docLink = document.createElement('div');\n",
              "        docLink.innerHTML = docLinkHtml;\n",
              "        element.appendChild(docLink);\n",
              "      }\n",
              "    </script>\n",
              "  </div>\n",
              "\n",
              "\n",
              "<div id=\"df-1fb938b6-62fd-4ced-99b4-5c221a312c97\">\n",
              "  <button class=\"colab-df-quickchart\" onclick=\"quickchart('df-1fb938b6-62fd-4ced-99b4-5c221a312c97')\"\n",
              "            title=\"Suggest charts\"\n",
              "            style=\"display:none;\">\n",
              "\n",
              "<svg xmlns=\"http://www.w3.org/2000/svg\" height=\"24px\"viewBox=\"0 0 24 24\"\n",
              "     width=\"24px\">\n",
              "    <g>\n",
              "        <path d=\"M19 3H5c-1.1 0-2 .9-2 2v14c0 1.1.9 2 2 2h14c1.1 0 2-.9 2-2V5c0-1.1-.9-2-2-2zM9 17H7v-7h2v7zm4 0h-2V7h2v10zm4 0h-2v-4h2v4z\"/>\n",
              "    </g>\n",
              "</svg>\n",
              "  </button>\n",
              "\n",
              "<style>\n",
              "  .colab-df-quickchart {\n",
              "      --bg-color: #E8F0FE;\n",
              "      --fill-color: #1967D2;\n",
              "      --hover-bg-color: #E2EBFA;\n",
              "      --hover-fill-color: #174EA6;\n",
              "      --disabled-fill-color: #AAA;\n",
              "      --disabled-bg-color: #DDD;\n",
              "  }\n",
              "\n",
              "  [theme=dark] .colab-df-quickchart {\n",
              "      --bg-color: #3B4455;\n",
              "      --fill-color: #D2E3FC;\n",
              "      --hover-bg-color: #434B5C;\n",
              "      --hover-fill-color: #FFFFFF;\n",
              "      --disabled-bg-color: #3B4455;\n",
              "      --disabled-fill-color: #666;\n",
              "  }\n",
              "\n",
              "  .colab-df-quickchart {\n",
              "    background-color: var(--bg-color);\n",
              "    border: none;\n",
              "    border-radius: 50%;\n",
              "    cursor: pointer;\n",
              "    display: none;\n",
              "    fill: var(--fill-color);\n",
              "    height: 32px;\n",
              "    padding: 0;\n",
              "    width: 32px;\n",
              "  }\n",
              "\n",
              "  .colab-df-quickchart:hover {\n",
              "    background-color: var(--hover-bg-color);\n",
              "    box-shadow: 0 1px 2px rgba(60, 64, 67, 0.3), 0 1px 3px 1px rgba(60, 64, 67, 0.15);\n",
              "    fill: var(--button-hover-fill-color);\n",
              "  }\n",
              "\n",
              "  .colab-df-quickchart-complete:disabled,\n",
              "  .colab-df-quickchart-complete:disabled:hover {\n",
              "    background-color: var(--disabled-bg-color);\n",
              "    fill: var(--disabled-fill-color);\n",
              "    box-shadow: none;\n",
              "  }\n",
              "\n",
              "  .colab-df-spinner {\n",
              "    border: 2px solid var(--fill-color);\n",
              "    border-color: transparent;\n",
              "    border-bottom-color: var(--fill-color);\n",
              "    animation:\n",
              "      spin 1s steps(1) infinite;\n",
              "  }\n",
              "\n",
              "  @keyframes spin {\n",
              "    0% {\n",
              "      border-color: transparent;\n",
              "      border-bottom-color: var(--fill-color);\n",
              "      border-left-color: var(--fill-color);\n",
              "    }\n",
              "    20% {\n",
              "      border-color: transparent;\n",
              "      border-left-color: var(--fill-color);\n",
              "      border-top-color: var(--fill-color);\n",
              "    }\n",
              "    30% {\n",
              "      border-color: transparent;\n",
              "      border-left-color: var(--fill-color);\n",
              "      border-top-color: var(--fill-color);\n",
              "      border-right-color: var(--fill-color);\n",
              "    }\n",
              "    40% {\n",
              "      border-color: transparent;\n",
              "      border-right-color: var(--fill-color);\n",
              "      border-top-color: var(--fill-color);\n",
              "    }\n",
              "    60% {\n",
              "      border-color: transparent;\n",
              "      border-right-color: var(--fill-color);\n",
              "    }\n",
              "    80% {\n",
              "      border-color: transparent;\n",
              "      border-right-color: var(--fill-color);\n",
              "      border-bottom-color: var(--fill-color);\n",
              "    }\n",
              "    90% {\n",
              "      border-color: transparent;\n",
              "      border-bottom-color: var(--fill-color);\n",
              "    }\n",
              "  }\n",
              "</style>\n",
              "\n",
              "  <script>\n",
              "    async function quickchart(key) {\n",
              "      const quickchartButtonEl =\n",
              "        document.querySelector('#' + key + ' button');\n",
              "      quickchartButtonEl.disabled = true;  // To prevent multiple clicks.\n",
              "      quickchartButtonEl.classList.add('colab-df-spinner');\n",
              "      try {\n",
              "        const charts = await google.colab.kernel.invokeFunction(\n",
              "            'suggestCharts', [key], {});\n",
              "      } catch (error) {\n",
              "        console.error('Error during call to suggestCharts:', error);\n",
              "      }\n",
              "      quickchartButtonEl.classList.remove('colab-df-spinner');\n",
              "      quickchartButtonEl.classList.add('colab-df-quickchart-complete');\n",
              "    }\n",
              "    (() => {\n",
              "      let quickchartButtonEl =\n",
              "        document.querySelector('#df-1fb938b6-62fd-4ced-99b4-5c221a312c97 button');\n",
              "      quickchartButtonEl.style.display =\n",
              "        google.colab.kernel.accessAllowed ? 'block' : 'none';\n",
              "    })();\n",
              "  </script>\n",
              "</div>\n",
              "    </div>\n",
              "  </div>\n"
            ]
          },
          "metadata": {},
          "execution_count": 106
        }
      ]
    },
    {
      "cell_type": "markdown",
      "source": [
        "Si tuviesemos más categorí­as, hacer esto a mano seria mucho trabajo.<br>\n",
        "Con la funcion *get_dummies* creamos un nuevo conjunto de datos en el que cada posible opción de una variable pasa a ser una variable dummy."
      ],
      "metadata": {
        "id": "gaWiydouj79Z"
      }
    },
    {
      "cell_type": "code",
      "source": [
        "vmailplan2 = pd.get_dummies(data['VMail Plan'])"
      ],
      "metadata": {
        "id": "qfwIdWu7kIfU"
      },
      "execution_count": 107,
      "outputs": []
    },
    {
      "cell_type": "code",
      "source": [
        "print(vmailplan2)"
      ],
      "metadata": {
        "colab": {
          "base_uri": "https://localhost:8080/"
        },
        "id": "YLDMZxWSlJyA",
        "outputId": "dfdaed24-1f3b-4b87-c1f2-aab621c6aaa5"
      },
      "execution_count": 108,
      "outputs": [
        {
          "output_type": "stream",
          "name": "stdout",
          "text": [
            "      no  yes\n",
            "0      0    1\n",
            "1      0    1\n",
            "2      1    0\n",
            "3      1    0\n",
            "4      1    0\n",
            "...   ..  ...\n",
            "3328   0    1\n",
            "3329   1    0\n",
            "3330   1    0\n",
            "3331   1    0\n",
            "3332   0    1\n",
            "\n",
            "[3333 rows x 2 columns]\n"
          ]
        }
      ]
    },
    {
      "cell_type": "code",
      "source": [
        "churn2 = pd.get_dummies(data['Churn'])\n",
        "print(churn2)"
      ],
      "metadata": {
        "colab": {
          "base_uri": "https://localhost:8080/"
        },
        "id": "sO6OwmVtlOvh",
        "outputId": "232570f1-1dde-406f-9c36-9a52966bb662"
      },
      "execution_count": 109,
      "outputs": [
        {
          "output_type": "stream",
          "name": "stdout",
          "text": [
            "      False.  True.\n",
            "0          1      0\n",
            "1          1      0\n",
            "2          1      0\n",
            "3          1      0\n",
            "4          1      0\n",
            "...      ...    ...\n",
            "3328       1      0\n",
            "3329       1      0\n",
            "3330       1      0\n",
            "3331       1      0\n",
            "3332       1      0\n",
            "\n",
            "[3333 rows x 2 columns]\n"
          ]
        }
      ]
    },
    {
      "cell_type": "markdown",
      "source": [
        "Una vez que ya hemos hecho la transformacion juntamos todas las variables en un data frame."
      ],
      "metadata": {
        "id": "QetF4HyJmCnC"
      }
    },
    {
      "cell_type": "code",
      "source": [
        "datosfinal = pd.concat([data, vmailplan2[\"yes\"], churn2[\"True.\"]], axis=1)"
      ],
      "metadata": {
        "id": "0JtVIYALlp7g"
      },
      "execution_count": 111,
      "outputs": []
    },
    {
      "cell_type": "code",
      "source": [
        "datosfinal.head()"
      ],
      "metadata": {
        "colab": {
          "base_uri": "https://localhost:8080/",
          "height": 243
        },
        "id": "mc7yhv1BmXp6",
        "outputId": "b263d38d-fb54-49b5-f2ca-781db1deef09"
      },
      "execution_count": 112,
      "outputs": [
        {
          "output_type": "execute_result",
          "data": {
            "text/plain": [
              "  VMail Plan  VMail Message  Day Mins  Day Calls  Day Charge  Eve Mins  \\\n",
              "0        yes             25     265.1        110       45.07     197.4   \n",
              "1        yes             26     161.6        123       27.47     195.5   \n",
              "2         no              0     243.4        114       41.38     121.2   \n",
              "3         no              0     299.4         71       50.90      61.9   \n",
              "4         no              0     166.7        113       28.34     148.3   \n",
              "\n",
              "   Eve Calls  Eve Charge  Night Mins  Night Calls  Night Charge  Intl Mins  \\\n",
              "0         99       16.78       244.7           91         11.01       10.0   \n",
              "1        103       16.62       254.4          103         11.45       13.7   \n",
              "2        110       10.30       162.6          104          7.32       12.2   \n",
              "3         88        5.26       196.9           89          8.86        6.6   \n",
              "4        122       12.61       186.9          121          8.41       10.1   \n",
              "\n",
              "   Intl Calls  Intl Charge  CustServ Calls   Churn  IntPlan  yes  True.  \n",
              "0           3         2.70               1  False.        0    1      0  \n",
              "1           3         3.70               1  False.        0    1      0  \n",
              "2           5         3.29               0  False.        0    0      0  \n",
              "3           7         1.78               2  False.        1    0      0  \n",
              "4           3         2.73               3  False.        1    0      0  "
            ],
            "text/html": [
              "\n",
              "  <div id=\"df-9aed8e71-8e57-4190-bd7b-6d4049ba815a\" class=\"colab-df-container\">\n",
              "    <div>\n",
              "<style scoped>\n",
              "    .dataframe tbody tr th:only-of-type {\n",
              "        vertical-align: middle;\n",
              "    }\n",
              "\n",
              "    .dataframe tbody tr th {\n",
              "        vertical-align: top;\n",
              "    }\n",
              "\n",
              "    .dataframe thead th {\n",
              "        text-align: right;\n",
              "    }\n",
              "</style>\n",
              "<table border=\"1\" class=\"dataframe\">\n",
              "  <thead>\n",
              "    <tr style=\"text-align: right;\">\n",
              "      <th></th>\n",
              "      <th>VMail Plan</th>\n",
              "      <th>VMail Message</th>\n",
              "      <th>Day Mins</th>\n",
              "      <th>Day Calls</th>\n",
              "      <th>Day Charge</th>\n",
              "      <th>Eve Mins</th>\n",
              "      <th>Eve Calls</th>\n",
              "      <th>Eve Charge</th>\n",
              "      <th>Night Mins</th>\n",
              "      <th>Night Calls</th>\n",
              "      <th>Night Charge</th>\n",
              "      <th>Intl Mins</th>\n",
              "      <th>Intl Calls</th>\n",
              "      <th>Intl Charge</th>\n",
              "      <th>CustServ Calls</th>\n",
              "      <th>Churn</th>\n",
              "      <th>IntPlan</th>\n",
              "      <th>yes</th>\n",
              "      <th>True.</th>\n",
              "    </tr>\n",
              "  </thead>\n",
              "  <tbody>\n",
              "    <tr>\n",
              "      <th>0</th>\n",
              "      <td>yes</td>\n",
              "      <td>25</td>\n",
              "      <td>265.1</td>\n",
              "      <td>110</td>\n",
              "      <td>45.07</td>\n",
              "      <td>197.4</td>\n",
              "      <td>99</td>\n",
              "      <td>16.78</td>\n",
              "      <td>244.7</td>\n",
              "      <td>91</td>\n",
              "      <td>11.01</td>\n",
              "      <td>10.0</td>\n",
              "      <td>3</td>\n",
              "      <td>2.70</td>\n",
              "      <td>1</td>\n",
              "      <td>False.</td>\n",
              "      <td>0</td>\n",
              "      <td>1</td>\n",
              "      <td>0</td>\n",
              "    </tr>\n",
              "    <tr>\n",
              "      <th>1</th>\n",
              "      <td>yes</td>\n",
              "      <td>26</td>\n",
              "      <td>161.6</td>\n",
              "      <td>123</td>\n",
              "      <td>27.47</td>\n",
              "      <td>195.5</td>\n",
              "      <td>103</td>\n",
              "      <td>16.62</td>\n",
              "      <td>254.4</td>\n",
              "      <td>103</td>\n",
              "      <td>11.45</td>\n",
              "      <td>13.7</td>\n",
              "      <td>3</td>\n",
              "      <td>3.70</td>\n",
              "      <td>1</td>\n",
              "      <td>False.</td>\n",
              "      <td>0</td>\n",
              "      <td>1</td>\n",
              "      <td>0</td>\n",
              "    </tr>\n",
              "    <tr>\n",
              "      <th>2</th>\n",
              "      <td>no</td>\n",
              "      <td>0</td>\n",
              "      <td>243.4</td>\n",
              "      <td>114</td>\n",
              "      <td>41.38</td>\n",
              "      <td>121.2</td>\n",
              "      <td>110</td>\n",
              "      <td>10.30</td>\n",
              "      <td>162.6</td>\n",
              "      <td>104</td>\n",
              "      <td>7.32</td>\n",
              "      <td>12.2</td>\n",
              "      <td>5</td>\n",
              "      <td>3.29</td>\n",
              "      <td>0</td>\n",
              "      <td>False.</td>\n",
              "      <td>0</td>\n",
              "      <td>0</td>\n",
              "      <td>0</td>\n",
              "    </tr>\n",
              "    <tr>\n",
              "      <th>3</th>\n",
              "      <td>no</td>\n",
              "      <td>0</td>\n",
              "      <td>299.4</td>\n",
              "      <td>71</td>\n",
              "      <td>50.90</td>\n",
              "      <td>61.9</td>\n",
              "      <td>88</td>\n",
              "      <td>5.26</td>\n",
              "      <td>196.9</td>\n",
              "      <td>89</td>\n",
              "      <td>8.86</td>\n",
              "      <td>6.6</td>\n",
              "      <td>7</td>\n",
              "      <td>1.78</td>\n",
              "      <td>2</td>\n",
              "      <td>False.</td>\n",
              "      <td>1</td>\n",
              "      <td>0</td>\n",
              "      <td>0</td>\n",
              "    </tr>\n",
              "    <tr>\n",
              "      <th>4</th>\n",
              "      <td>no</td>\n",
              "      <td>0</td>\n",
              "      <td>166.7</td>\n",
              "      <td>113</td>\n",
              "      <td>28.34</td>\n",
              "      <td>148.3</td>\n",
              "      <td>122</td>\n",
              "      <td>12.61</td>\n",
              "      <td>186.9</td>\n",
              "      <td>121</td>\n",
              "      <td>8.41</td>\n",
              "      <td>10.1</td>\n",
              "      <td>3</td>\n",
              "      <td>2.73</td>\n",
              "      <td>3</td>\n",
              "      <td>False.</td>\n",
              "      <td>1</td>\n",
              "      <td>0</td>\n",
              "      <td>0</td>\n",
              "    </tr>\n",
              "  </tbody>\n",
              "</table>\n",
              "</div>\n",
              "    <div class=\"colab-df-buttons\">\n",
              "\n",
              "  <div class=\"colab-df-container\">\n",
              "    <button class=\"colab-df-convert\" onclick=\"convertToInteractive('df-9aed8e71-8e57-4190-bd7b-6d4049ba815a')\"\n",
              "            title=\"Convert this dataframe to an interactive table.\"\n",
              "            style=\"display:none;\">\n",
              "\n",
              "  <svg xmlns=\"http://www.w3.org/2000/svg\" height=\"24px\" viewBox=\"0 -960 960 960\">\n",
              "    <path d=\"M120-120v-720h720v720H120Zm60-500h600v-160H180v160Zm220 220h160v-160H400v160Zm0 220h160v-160H400v160ZM180-400h160v-160H180v160Zm440 0h160v-160H620v160ZM180-180h160v-160H180v160Zm440 0h160v-160H620v160Z\"/>\n",
              "  </svg>\n",
              "    </button>\n",
              "\n",
              "  <style>\n",
              "    .colab-df-container {\n",
              "      display:flex;\n",
              "      gap: 12px;\n",
              "    }\n",
              "\n",
              "    .colab-df-convert {\n",
              "      background-color: #E8F0FE;\n",
              "      border: none;\n",
              "      border-radius: 50%;\n",
              "      cursor: pointer;\n",
              "      display: none;\n",
              "      fill: #1967D2;\n",
              "      height: 32px;\n",
              "      padding: 0 0 0 0;\n",
              "      width: 32px;\n",
              "    }\n",
              "\n",
              "    .colab-df-convert:hover {\n",
              "      background-color: #E2EBFA;\n",
              "      box-shadow: 0px 1px 2px rgba(60, 64, 67, 0.3), 0px 1px 3px 1px rgba(60, 64, 67, 0.15);\n",
              "      fill: #174EA6;\n",
              "    }\n",
              "\n",
              "    .colab-df-buttons div {\n",
              "      margin-bottom: 4px;\n",
              "    }\n",
              "\n",
              "    [theme=dark] .colab-df-convert {\n",
              "      background-color: #3B4455;\n",
              "      fill: #D2E3FC;\n",
              "    }\n",
              "\n",
              "    [theme=dark] .colab-df-convert:hover {\n",
              "      background-color: #434B5C;\n",
              "      box-shadow: 0px 1px 3px 1px rgba(0, 0, 0, 0.15);\n",
              "      filter: drop-shadow(0px 1px 2px rgba(0, 0, 0, 0.3));\n",
              "      fill: #FFFFFF;\n",
              "    }\n",
              "  </style>\n",
              "\n",
              "    <script>\n",
              "      const buttonEl =\n",
              "        document.querySelector('#df-9aed8e71-8e57-4190-bd7b-6d4049ba815a button.colab-df-convert');\n",
              "      buttonEl.style.display =\n",
              "        google.colab.kernel.accessAllowed ? 'block' : 'none';\n",
              "\n",
              "      async function convertToInteractive(key) {\n",
              "        const element = document.querySelector('#df-9aed8e71-8e57-4190-bd7b-6d4049ba815a');\n",
              "        const dataTable =\n",
              "          await google.colab.kernel.invokeFunction('convertToInteractive',\n",
              "                                                    [key], {});\n",
              "        if (!dataTable) return;\n",
              "\n",
              "        const docLinkHtml = 'Like what you see? Visit the ' +\n",
              "          '<a target=\"_blank\" href=https://colab.research.google.com/notebooks/data_table.ipynb>data table notebook</a>'\n",
              "          + ' to learn more about interactive tables.';\n",
              "        element.innerHTML = '';\n",
              "        dataTable['output_type'] = 'display_data';\n",
              "        await google.colab.output.renderOutput(dataTable, element);\n",
              "        const docLink = document.createElement('div');\n",
              "        docLink.innerHTML = docLinkHtml;\n",
              "        element.appendChild(docLink);\n",
              "      }\n",
              "    </script>\n",
              "  </div>\n",
              "\n",
              "\n",
              "<div id=\"df-d544d6b8-3a09-4b3d-bcdf-d9462dc93bf4\">\n",
              "  <button class=\"colab-df-quickchart\" onclick=\"quickchart('df-d544d6b8-3a09-4b3d-bcdf-d9462dc93bf4')\"\n",
              "            title=\"Suggest charts\"\n",
              "            style=\"display:none;\">\n",
              "\n",
              "<svg xmlns=\"http://www.w3.org/2000/svg\" height=\"24px\"viewBox=\"0 0 24 24\"\n",
              "     width=\"24px\">\n",
              "    <g>\n",
              "        <path d=\"M19 3H5c-1.1 0-2 .9-2 2v14c0 1.1.9 2 2 2h14c1.1 0 2-.9 2-2V5c0-1.1-.9-2-2-2zM9 17H7v-7h2v7zm4 0h-2V7h2v10zm4 0h-2v-4h2v4z\"/>\n",
              "    </g>\n",
              "</svg>\n",
              "  </button>\n",
              "\n",
              "<style>\n",
              "  .colab-df-quickchart {\n",
              "      --bg-color: #E8F0FE;\n",
              "      --fill-color: #1967D2;\n",
              "      --hover-bg-color: #E2EBFA;\n",
              "      --hover-fill-color: #174EA6;\n",
              "      --disabled-fill-color: #AAA;\n",
              "      --disabled-bg-color: #DDD;\n",
              "  }\n",
              "\n",
              "  [theme=dark] .colab-df-quickchart {\n",
              "      --bg-color: #3B4455;\n",
              "      --fill-color: #D2E3FC;\n",
              "      --hover-bg-color: #434B5C;\n",
              "      --hover-fill-color: #FFFFFF;\n",
              "      --disabled-bg-color: #3B4455;\n",
              "      --disabled-fill-color: #666;\n",
              "  }\n",
              "\n",
              "  .colab-df-quickchart {\n",
              "    background-color: var(--bg-color);\n",
              "    border: none;\n",
              "    border-radius: 50%;\n",
              "    cursor: pointer;\n",
              "    display: none;\n",
              "    fill: var(--fill-color);\n",
              "    height: 32px;\n",
              "    padding: 0;\n",
              "    width: 32px;\n",
              "  }\n",
              "\n",
              "  .colab-df-quickchart:hover {\n",
              "    background-color: var(--hover-bg-color);\n",
              "    box-shadow: 0 1px 2px rgba(60, 64, 67, 0.3), 0 1px 3px 1px rgba(60, 64, 67, 0.15);\n",
              "    fill: var(--button-hover-fill-color);\n",
              "  }\n",
              "\n",
              "  .colab-df-quickchart-complete:disabled,\n",
              "  .colab-df-quickchart-complete:disabled:hover {\n",
              "    background-color: var(--disabled-bg-color);\n",
              "    fill: var(--disabled-fill-color);\n",
              "    box-shadow: none;\n",
              "  }\n",
              "\n",
              "  .colab-df-spinner {\n",
              "    border: 2px solid var(--fill-color);\n",
              "    border-color: transparent;\n",
              "    border-bottom-color: var(--fill-color);\n",
              "    animation:\n",
              "      spin 1s steps(1) infinite;\n",
              "  }\n",
              "\n",
              "  @keyframes spin {\n",
              "    0% {\n",
              "      border-color: transparent;\n",
              "      border-bottom-color: var(--fill-color);\n",
              "      border-left-color: var(--fill-color);\n",
              "    }\n",
              "    20% {\n",
              "      border-color: transparent;\n",
              "      border-left-color: var(--fill-color);\n",
              "      border-top-color: var(--fill-color);\n",
              "    }\n",
              "    30% {\n",
              "      border-color: transparent;\n",
              "      border-left-color: var(--fill-color);\n",
              "      border-top-color: var(--fill-color);\n",
              "      border-right-color: var(--fill-color);\n",
              "    }\n",
              "    40% {\n",
              "      border-color: transparent;\n",
              "      border-right-color: var(--fill-color);\n",
              "      border-top-color: var(--fill-color);\n",
              "    }\n",
              "    60% {\n",
              "      border-color: transparent;\n",
              "      border-right-color: var(--fill-color);\n",
              "    }\n",
              "    80% {\n",
              "      border-color: transparent;\n",
              "      border-right-color: var(--fill-color);\n",
              "      border-bottom-color: var(--fill-color);\n",
              "    }\n",
              "    90% {\n",
              "      border-color: transparent;\n",
              "      border-bottom-color: var(--fill-color);\n",
              "    }\n",
              "  }\n",
              "</style>\n",
              "\n",
              "  <script>\n",
              "    async function quickchart(key) {\n",
              "      const quickchartButtonEl =\n",
              "        document.querySelector('#' + key + ' button');\n",
              "      quickchartButtonEl.disabled = true;  // To prevent multiple clicks.\n",
              "      quickchartButtonEl.classList.add('colab-df-spinner');\n",
              "      try {\n",
              "        const charts = await google.colab.kernel.invokeFunction(\n",
              "            'suggestCharts', [key], {});\n",
              "      } catch (error) {\n",
              "        console.error('Error during call to suggestCharts:', error);\n",
              "      }\n",
              "      quickchartButtonEl.classList.remove('colab-df-spinner');\n",
              "      quickchartButtonEl.classList.add('colab-df-quickchart-complete');\n",
              "    }\n",
              "    (() => {\n",
              "      let quickchartButtonEl =\n",
              "        document.querySelector('#df-d544d6b8-3a09-4b3d-bcdf-d9462dc93bf4 button');\n",
              "      quickchartButtonEl.style.display =\n",
              "        google.colab.kernel.accessAllowed ? 'block' : 'none';\n",
              "    })();\n",
              "  </script>\n",
              "</div>\n",
              "    </div>\n",
              "  </div>\n"
            ]
          },
          "metadata": {},
          "execution_count": 112
        }
      ]
    },
    {
      "cell_type": "code",
      "source": [
        "del datosfinal['Churn']\n",
        "del datosfinal['VMail Plan']"
      ],
      "metadata": {
        "id": "u50osi6Am-qO"
      },
      "execution_count": 113,
      "outputs": []
    },
    {
      "cell_type": "code",
      "source": [
        "datosfinal = datosfinal.rename(columns={'yes': 'VmailPlan'})\n",
        "datosfinal = datosfinal.rename(columns={'True.': 'Churn'})"
      ],
      "metadata": {
        "id": "55XmHQX6pAa-"
      },
      "execution_count": 114,
      "outputs": []
    },
    {
      "cell_type": "code",
      "source": [
        "datosfinal['Churn'].mean()"
      ],
      "metadata": {
        "colab": {
          "base_uri": "https://localhost:8080/"
        },
        "id": "FQkdEkXVTP_u",
        "outputId": "fce6da7a-6cb9-4879-f330-65beec64b229"
      },
      "execution_count": 116,
      "outputs": [
        {
          "output_type": "execute_result",
          "data": {
            "text/plain": [
              "0.14491449144914492"
            ]
          },
          "metadata": {},
          "execution_count": 116
        }
      ]
    },
    {
      "cell_type": "code",
      "source": [
        "datosfinal.head(10)"
      ],
      "metadata": {
        "colab": {
          "base_uri": "https://localhost:8080/",
          "height": 400
        },
        "id": "d4v79bMepQT4",
        "outputId": "332e69de-6c03-4e53-d676-b0db4edad529"
      },
      "execution_count": 24,
      "outputs": [
        {
          "output_type": "execute_result",
          "data": {
            "text/plain": [
              "   VMail Message  Day Mins  Day Calls  Day Charge  Eve Mins  Eve Calls  \\\n",
              "0             25     265.1        110       45.07     197.4         99   \n",
              "1             26     161.6        123       27.47     195.5        103   \n",
              "2              0     243.4        114       41.38     121.2        110   \n",
              "3              0     299.4         71       50.90      61.9         88   \n",
              "4              0     166.7        113       28.34     148.3        122   \n",
              "5              0     223.4         98       37.98     220.6        101   \n",
              "6             24     218.2         88       37.09     348.5        108   \n",
              "7              0     157.0         79       26.69     103.1         94   \n",
              "8              0     184.5         97       31.37     351.6         80   \n",
              "9             37     258.6         84       43.96     222.0        111   \n",
              "\n",
              "   Eve Charge  Night Mins  Night Calls  Night Charge  Intl Mins  Intl Calls  \\\n",
              "0       16.78       244.7           91         11.01       10.0           3   \n",
              "1       16.62       254.4          103         11.45       13.7           3   \n",
              "2       10.30       162.6          104          7.32       12.2           5   \n",
              "3        5.26       196.9           89          8.86        6.6           7   \n",
              "4       12.61       186.9          121          8.41       10.1           3   \n",
              "5       18.75       203.9          118          9.18        6.3           6   \n",
              "6       29.62       212.6          118          9.57        7.5           7   \n",
              "7        8.76       211.8           96          9.53        7.1           6   \n",
              "8       29.89       215.8           90          9.71        8.7           4   \n",
              "9       18.87       326.4           97         14.69       11.2           5   \n",
              "\n",
              "   Intl Charge  CustServ Calls  IntPlan  VmailPlan  Churn  \n",
              "0         2.70               1        0          1      0  \n",
              "1         3.70               1        0          1      0  \n",
              "2         3.29               0        0          0      0  \n",
              "3         1.78               2        1          0      0  \n",
              "4         2.73               3        1          0      0  \n",
              "5         1.70               0        1          0      0  \n",
              "6         2.03               3        0          1      0  \n",
              "7         1.92               0        1          0      0  \n",
              "8         2.35               1        0          0      0  \n",
              "9         3.02               0        1          1      0  "
            ],
            "text/html": [
              "\n",
              "  <div id=\"df-291b9bd3-2e90-4494-b0d9-aa84291f6a85\" class=\"colab-df-container\">\n",
              "    <div>\n",
              "<style scoped>\n",
              "    .dataframe tbody tr th:only-of-type {\n",
              "        vertical-align: middle;\n",
              "    }\n",
              "\n",
              "    .dataframe tbody tr th {\n",
              "        vertical-align: top;\n",
              "    }\n",
              "\n",
              "    .dataframe thead th {\n",
              "        text-align: right;\n",
              "    }\n",
              "</style>\n",
              "<table border=\"1\" class=\"dataframe\">\n",
              "  <thead>\n",
              "    <tr style=\"text-align: right;\">\n",
              "      <th></th>\n",
              "      <th>VMail Message</th>\n",
              "      <th>Day Mins</th>\n",
              "      <th>Day Calls</th>\n",
              "      <th>Day Charge</th>\n",
              "      <th>Eve Mins</th>\n",
              "      <th>Eve Calls</th>\n",
              "      <th>Eve Charge</th>\n",
              "      <th>Night Mins</th>\n",
              "      <th>Night Calls</th>\n",
              "      <th>Night Charge</th>\n",
              "      <th>Intl Mins</th>\n",
              "      <th>Intl Calls</th>\n",
              "      <th>Intl Charge</th>\n",
              "      <th>CustServ Calls</th>\n",
              "      <th>IntPlan</th>\n",
              "      <th>VmailPlan</th>\n",
              "      <th>Churn</th>\n",
              "    </tr>\n",
              "  </thead>\n",
              "  <tbody>\n",
              "    <tr>\n",
              "      <th>0</th>\n",
              "      <td>25</td>\n",
              "      <td>265.1</td>\n",
              "      <td>110</td>\n",
              "      <td>45.07</td>\n",
              "      <td>197.4</td>\n",
              "      <td>99</td>\n",
              "      <td>16.78</td>\n",
              "      <td>244.7</td>\n",
              "      <td>91</td>\n",
              "      <td>11.01</td>\n",
              "      <td>10.0</td>\n",
              "      <td>3</td>\n",
              "      <td>2.70</td>\n",
              "      <td>1</td>\n",
              "      <td>0</td>\n",
              "      <td>1</td>\n",
              "      <td>0</td>\n",
              "    </tr>\n",
              "    <tr>\n",
              "      <th>1</th>\n",
              "      <td>26</td>\n",
              "      <td>161.6</td>\n",
              "      <td>123</td>\n",
              "      <td>27.47</td>\n",
              "      <td>195.5</td>\n",
              "      <td>103</td>\n",
              "      <td>16.62</td>\n",
              "      <td>254.4</td>\n",
              "      <td>103</td>\n",
              "      <td>11.45</td>\n",
              "      <td>13.7</td>\n",
              "      <td>3</td>\n",
              "      <td>3.70</td>\n",
              "      <td>1</td>\n",
              "      <td>0</td>\n",
              "      <td>1</td>\n",
              "      <td>0</td>\n",
              "    </tr>\n",
              "    <tr>\n",
              "      <th>2</th>\n",
              "      <td>0</td>\n",
              "      <td>243.4</td>\n",
              "      <td>114</td>\n",
              "      <td>41.38</td>\n",
              "      <td>121.2</td>\n",
              "      <td>110</td>\n",
              "      <td>10.30</td>\n",
              "      <td>162.6</td>\n",
              "      <td>104</td>\n",
              "      <td>7.32</td>\n",
              "      <td>12.2</td>\n",
              "      <td>5</td>\n",
              "      <td>3.29</td>\n",
              "      <td>0</td>\n",
              "      <td>0</td>\n",
              "      <td>0</td>\n",
              "      <td>0</td>\n",
              "    </tr>\n",
              "    <tr>\n",
              "      <th>3</th>\n",
              "      <td>0</td>\n",
              "      <td>299.4</td>\n",
              "      <td>71</td>\n",
              "      <td>50.90</td>\n",
              "      <td>61.9</td>\n",
              "      <td>88</td>\n",
              "      <td>5.26</td>\n",
              "      <td>196.9</td>\n",
              "      <td>89</td>\n",
              "      <td>8.86</td>\n",
              "      <td>6.6</td>\n",
              "      <td>7</td>\n",
              "      <td>1.78</td>\n",
              "      <td>2</td>\n",
              "      <td>1</td>\n",
              "      <td>0</td>\n",
              "      <td>0</td>\n",
              "    </tr>\n",
              "    <tr>\n",
              "      <th>4</th>\n",
              "      <td>0</td>\n",
              "      <td>166.7</td>\n",
              "      <td>113</td>\n",
              "      <td>28.34</td>\n",
              "      <td>148.3</td>\n",
              "      <td>122</td>\n",
              "      <td>12.61</td>\n",
              "      <td>186.9</td>\n",
              "      <td>121</td>\n",
              "      <td>8.41</td>\n",
              "      <td>10.1</td>\n",
              "      <td>3</td>\n",
              "      <td>2.73</td>\n",
              "      <td>3</td>\n",
              "      <td>1</td>\n",
              "      <td>0</td>\n",
              "      <td>0</td>\n",
              "    </tr>\n",
              "    <tr>\n",
              "      <th>5</th>\n",
              "      <td>0</td>\n",
              "      <td>223.4</td>\n",
              "      <td>98</td>\n",
              "      <td>37.98</td>\n",
              "      <td>220.6</td>\n",
              "      <td>101</td>\n",
              "      <td>18.75</td>\n",
              "      <td>203.9</td>\n",
              "      <td>118</td>\n",
              "      <td>9.18</td>\n",
              "      <td>6.3</td>\n",
              "      <td>6</td>\n",
              "      <td>1.70</td>\n",
              "      <td>0</td>\n",
              "      <td>1</td>\n",
              "      <td>0</td>\n",
              "      <td>0</td>\n",
              "    </tr>\n",
              "    <tr>\n",
              "      <th>6</th>\n",
              "      <td>24</td>\n",
              "      <td>218.2</td>\n",
              "      <td>88</td>\n",
              "      <td>37.09</td>\n",
              "      <td>348.5</td>\n",
              "      <td>108</td>\n",
              "      <td>29.62</td>\n",
              "      <td>212.6</td>\n",
              "      <td>118</td>\n",
              "      <td>9.57</td>\n",
              "      <td>7.5</td>\n",
              "      <td>7</td>\n",
              "      <td>2.03</td>\n",
              "      <td>3</td>\n",
              "      <td>0</td>\n",
              "      <td>1</td>\n",
              "      <td>0</td>\n",
              "    </tr>\n",
              "    <tr>\n",
              "      <th>7</th>\n",
              "      <td>0</td>\n",
              "      <td>157.0</td>\n",
              "      <td>79</td>\n",
              "      <td>26.69</td>\n",
              "      <td>103.1</td>\n",
              "      <td>94</td>\n",
              "      <td>8.76</td>\n",
              "      <td>211.8</td>\n",
              "      <td>96</td>\n",
              "      <td>9.53</td>\n",
              "      <td>7.1</td>\n",
              "      <td>6</td>\n",
              "      <td>1.92</td>\n",
              "      <td>0</td>\n",
              "      <td>1</td>\n",
              "      <td>0</td>\n",
              "      <td>0</td>\n",
              "    </tr>\n",
              "    <tr>\n",
              "      <th>8</th>\n",
              "      <td>0</td>\n",
              "      <td>184.5</td>\n",
              "      <td>97</td>\n",
              "      <td>31.37</td>\n",
              "      <td>351.6</td>\n",
              "      <td>80</td>\n",
              "      <td>29.89</td>\n",
              "      <td>215.8</td>\n",
              "      <td>90</td>\n",
              "      <td>9.71</td>\n",
              "      <td>8.7</td>\n",
              "      <td>4</td>\n",
              "      <td>2.35</td>\n",
              "      <td>1</td>\n",
              "      <td>0</td>\n",
              "      <td>0</td>\n",
              "      <td>0</td>\n",
              "    </tr>\n",
              "    <tr>\n",
              "      <th>9</th>\n",
              "      <td>37</td>\n",
              "      <td>258.6</td>\n",
              "      <td>84</td>\n",
              "      <td>43.96</td>\n",
              "      <td>222.0</td>\n",
              "      <td>111</td>\n",
              "      <td>18.87</td>\n",
              "      <td>326.4</td>\n",
              "      <td>97</td>\n",
              "      <td>14.69</td>\n",
              "      <td>11.2</td>\n",
              "      <td>5</td>\n",
              "      <td>3.02</td>\n",
              "      <td>0</td>\n",
              "      <td>1</td>\n",
              "      <td>1</td>\n",
              "      <td>0</td>\n",
              "    </tr>\n",
              "  </tbody>\n",
              "</table>\n",
              "</div>\n",
              "    <div class=\"colab-df-buttons\">\n",
              "\n",
              "  <div class=\"colab-df-container\">\n",
              "    <button class=\"colab-df-convert\" onclick=\"convertToInteractive('df-291b9bd3-2e90-4494-b0d9-aa84291f6a85')\"\n",
              "            title=\"Convert this dataframe to an interactive table.\"\n",
              "            style=\"display:none;\">\n",
              "\n",
              "  <svg xmlns=\"http://www.w3.org/2000/svg\" height=\"24px\" viewBox=\"0 -960 960 960\">\n",
              "    <path d=\"M120-120v-720h720v720H120Zm60-500h600v-160H180v160Zm220 220h160v-160H400v160Zm0 220h160v-160H400v160ZM180-400h160v-160H180v160Zm440 0h160v-160H620v160ZM180-180h160v-160H180v160Zm440 0h160v-160H620v160Z\"/>\n",
              "  </svg>\n",
              "    </button>\n",
              "\n",
              "  <style>\n",
              "    .colab-df-container {\n",
              "      display:flex;\n",
              "      gap: 12px;\n",
              "    }\n",
              "\n",
              "    .colab-df-convert {\n",
              "      background-color: #E8F0FE;\n",
              "      border: none;\n",
              "      border-radius: 50%;\n",
              "      cursor: pointer;\n",
              "      display: none;\n",
              "      fill: #1967D2;\n",
              "      height: 32px;\n",
              "      padding: 0 0 0 0;\n",
              "      width: 32px;\n",
              "    }\n",
              "\n",
              "    .colab-df-convert:hover {\n",
              "      background-color: #E2EBFA;\n",
              "      box-shadow: 0px 1px 2px rgba(60, 64, 67, 0.3), 0px 1px 3px 1px rgba(60, 64, 67, 0.15);\n",
              "      fill: #174EA6;\n",
              "    }\n",
              "\n",
              "    .colab-df-buttons div {\n",
              "      margin-bottom: 4px;\n",
              "    }\n",
              "\n",
              "    [theme=dark] .colab-df-convert {\n",
              "      background-color: #3B4455;\n",
              "      fill: #D2E3FC;\n",
              "    }\n",
              "\n",
              "    [theme=dark] .colab-df-convert:hover {\n",
              "      background-color: #434B5C;\n",
              "      box-shadow: 0px 1px 3px 1px rgba(0, 0, 0, 0.15);\n",
              "      filter: drop-shadow(0px 1px 2px rgba(0, 0, 0, 0.3));\n",
              "      fill: #FFFFFF;\n",
              "    }\n",
              "  </style>\n",
              "\n",
              "    <script>\n",
              "      const buttonEl =\n",
              "        document.querySelector('#df-291b9bd3-2e90-4494-b0d9-aa84291f6a85 button.colab-df-convert');\n",
              "      buttonEl.style.display =\n",
              "        google.colab.kernel.accessAllowed ? 'block' : 'none';\n",
              "\n",
              "      async function convertToInteractive(key) {\n",
              "        const element = document.querySelector('#df-291b9bd3-2e90-4494-b0d9-aa84291f6a85');\n",
              "        const dataTable =\n",
              "          await google.colab.kernel.invokeFunction('convertToInteractive',\n",
              "                                                    [key], {});\n",
              "        if (!dataTable) return;\n",
              "\n",
              "        const docLinkHtml = 'Like what you see? Visit the ' +\n",
              "          '<a target=\"_blank\" href=https://colab.research.google.com/notebooks/data_table.ipynb>data table notebook</a>'\n",
              "          + ' to learn more about interactive tables.';\n",
              "        element.innerHTML = '';\n",
              "        dataTable['output_type'] = 'display_data';\n",
              "        await google.colab.output.renderOutput(dataTable, element);\n",
              "        const docLink = document.createElement('div');\n",
              "        docLink.innerHTML = docLinkHtml;\n",
              "        element.appendChild(docLink);\n",
              "      }\n",
              "    </script>\n",
              "  </div>\n",
              "\n",
              "\n",
              "<div id=\"df-968ff5ea-4bbc-4d1f-acf0-4868c48d1417\">\n",
              "  <button class=\"colab-df-quickchart\" onclick=\"quickchart('df-968ff5ea-4bbc-4d1f-acf0-4868c48d1417')\"\n",
              "            title=\"Suggest charts\"\n",
              "            style=\"display:none;\">\n",
              "\n",
              "<svg xmlns=\"http://www.w3.org/2000/svg\" height=\"24px\"viewBox=\"0 0 24 24\"\n",
              "     width=\"24px\">\n",
              "    <g>\n",
              "        <path d=\"M19 3H5c-1.1 0-2 .9-2 2v14c0 1.1.9 2 2 2h14c1.1 0 2-.9 2-2V5c0-1.1-.9-2-2-2zM9 17H7v-7h2v7zm4 0h-2V7h2v10zm4 0h-2v-4h2v4z\"/>\n",
              "    </g>\n",
              "</svg>\n",
              "  </button>\n",
              "\n",
              "<style>\n",
              "  .colab-df-quickchart {\n",
              "      --bg-color: #E8F0FE;\n",
              "      --fill-color: #1967D2;\n",
              "      --hover-bg-color: #E2EBFA;\n",
              "      --hover-fill-color: #174EA6;\n",
              "      --disabled-fill-color: #AAA;\n",
              "      --disabled-bg-color: #DDD;\n",
              "  }\n",
              "\n",
              "  [theme=dark] .colab-df-quickchart {\n",
              "      --bg-color: #3B4455;\n",
              "      --fill-color: #D2E3FC;\n",
              "      --hover-bg-color: #434B5C;\n",
              "      --hover-fill-color: #FFFFFF;\n",
              "      --disabled-bg-color: #3B4455;\n",
              "      --disabled-fill-color: #666;\n",
              "  }\n",
              "\n",
              "  .colab-df-quickchart {\n",
              "    background-color: var(--bg-color);\n",
              "    border: none;\n",
              "    border-radius: 50%;\n",
              "    cursor: pointer;\n",
              "    display: none;\n",
              "    fill: var(--fill-color);\n",
              "    height: 32px;\n",
              "    padding: 0;\n",
              "    width: 32px;\n",
              "  }\n",
              "\n",
              "  .colab-df-quickchart:hover {\n",
              "    background-color: var(--hover-bg-color);\n",
              "    box-shadow: 0 1px 2px rgba(60, 64, 67, 0.3), 0 1px 3px 1px rgba(60, 64, 67, 0.15);\n",
              "    fill: var(--button-hover-fill-color);\n",
              "  }\n",
              "\n",
              "  .colab-df-quickchart-complete:disabled,\n",
              "  .colab-df-quickchart-complete:disabled:hover {\n",
              "    background-color: var(--disabled-bg-color);\n",
              "    fill: var(--disabled-fill-color);\n",
              "    box-shadow: none;\n",
              "  }\n",
              "\n",
              "  .colab-df-spinner {\n",
              "    border: 2px solid var(--fill-color);\n",
              "    border-color: transparent;\n",
              "    border-bottom-color: var(--fill-color);\n",
              "    animation:\n",
              "      spin 1s steps(1) infinite;\n",
              "  }\n",
              "\n",
              "  @keyframes spin {\n",
              "    0% {\n",
              "      border-color: transparent;\n",
              "      border-bottom-color: var(--fill-color);\n",
              "      border-left-color: var(--fill-color);\n",
              "    }\n",
              "    20% {\n",
              "      border-color: transparent;\n",
              "      border-left-color: var(--fill-color);\n",
              "      border-top-color: var(--fill-color);\n",
              "    }\n",
              "    30% {\n",
              "      border-color: transparent;\n",
              "      border-left-color: var(--fill-color);\n",
              "      border-top-color: var(--fill-color);\n",
              "      border-right-color: var(--fill-color);\n",
              "    }\n",
              "    40% {\n",
              "      border-color: transparent;\n",
              "      border-right-color: var(--fill-color);\n",
              "      border-top-color: var(--fill-color);\n",
              "    }\n",
              "    60% {\n",
              "      border-color: transparent;\n",
              "      border-right-color: var(--fill-color);\n",
              "    }\n",
              "    80% {\n",
              "      border-color: transparent;\n",
              "      border-right-color: var(--fill-color);\n",
              "      border-bottom-color: var(--fill-color);\n",
              "    }\n",
              "    90% {\n",
              "      border-color: transparent;\n",
              "      border-bottom-color: var(--fill-color);\n",
              "    }\n",
              "  }\n",
              "</style>\n",
              "\n",
              "  <script>\n",
              "    async function quickchart(key) {\n",
              "      const quickchartButtonEl =\n",
              "        document.querySelector('#' + key + ' button');\n",
              "      quickchartButtonEl.disabled = true;  // To prevent multiple clicks.\n",
              "      quickchartButtonEl.classList.add('colab-df-spinner');\n",
              "      try {\n",
              "        const charts = await google.colab.kernel.invokeFunction(\n",
              "            'suggestCharts', [key], {});\n",
              "      } catch (error) {\n",
              "        console.error('Error during call to suggestCharts:', error);\n",
              "      }\n",
              "      quickchartButtonEl.classList.remove('colab-df-spinner');\n",
              "      quickchartButtonEl.classList.add('colab-df-quickchart-complete');\n",
              "    }\n",
              "    (() => {\n",
              "      let quickchartButtonEl =\n",
              "        document.querySelector('#df-968ff5ea-4bbc-4d1f-acf0-4868c48d1417 button');\n",
              "      quickchartButtonEl.style.display =\n",
              "        google.colab.kernel.accessAllowed ? 'block' : 'none';\n",
              "    })();\n",
              "  </script>\n",
              "</div>\n",
              "    </div>\n",
              "  </div>\n"
            ]
          },
          "metadata": {},
          "execution_count": 24
        }
      ]
    },
    {
      "cell_type": "code",
      "source": [],
      "metadata": {
        "id": "n9y1PZ-lpUa7"
      },
      "execution_count": 24,
      "outputs": []
    },
    {
      "cell_type": "markdown",
      "source": [
        "# Primera separación Train-Test"
      ],
      "metadata": {
        "id": "YpLNaQl4XBkZ"
      }
    },
    {
      "cell_type": "markdown",
      "source": [
        "Para esta primera modelizacion hacemos la siguiente particion:\n",
        "- Para entrenar el algoritmo: 3000 observaciones\n",
        "- Para testear el algoritmo 333 observaciones"
      ],
      "metadata": {
        "id": "DO0bt3aerS-e"
      }
    },
    {
      "cell_type": "code",
      "source": [
        "train_data = datosfinal[:3000]\n",
        "test_data = datosfinal[3000:]"
      ],
      "metadata": {
        "id": "CR6bwvvXrXJ3"
      },
      "execution_count": 25,
      "outputs": []
    },
    {
      "cell_type": "code",
      "source": [
        "train_data_X = train_data.drop(['Churn'], axis=1)\n",
        "train_data_y = train_data['Churn']"
      ],
      "metadata": {
        "id": "awWeZ7vftNwM"
      },
      "execution_count": 26,
      "outputs": []
    },
    {
      "cell_type": "code",
      "source": [
        "test_data_X = test_data.drop(['Churn'], axis=1)\n",
        "test_data_y = test_data['Churn']"
      ],
      "metadata": {
        "id": "tUFD4qsLtsPu"
      },
      "execution_count": 27,
      "outputs": []
    },
    {
      "cell_type": "markdown",
      "source": [
        "Método con `sklearn`"
      ],
      "metadata": {
        "id": "xDl_gucHsVkK"
      }
    },
    {
      "cell_type": "code",
      "source": [
        "from sklearn.model_selection import train_test_split"
      ],
      "metadata": {
        "id": "8WNoCE4HsdOQ"
      },
      "execution_count": 28,
      "outputs": []
    },
    {
      "cell_type": "code",
      "source": [
        "# Separar las variables dependiente e independientes\n",
        "y = datosfinal['Churn']\n",
        "X = datosfinal.drop('Churn', axis=1)"
      ],
      "metadata": {
        "id": "sdnXJMAVsMT0"
      },
      "execution_count": 29,
      "outputs": []
    },
    {
      "cell_type": "code",
      "source": [
        "# Dividir los datos en conjuntos de entrenamiento y prueba\n",
        "train_data_X, test_data_X, train_data_y, test_data_y = train_test_split(X, y, test_size=0.15, random_state=42)"
      ],
      "metadata": {
        "id": "LNZNx3l1sNfD"
      },
      "execution_count": 30,
      "outputs": []
    },
    {
      "cell_type": "markdown",
      "source": [
        "# Regresión logística\n",
        "## Creamos el modelo\n",
        "\n",
        "1. **C**: Este parámetro controla la fuerza de regularización en el modelo. Un valor más pequeño de C indica una regularización más fuerte.\n",
        "\n",
        " La regularización es una técnica utilizada en aprendizaje automático y estadística para prevenir el sobreajuste (overfitting) en modelos predictivos. El sobreajuste ocurre cuando un modelo se ajusta demasiado a los datos de entrenamiento, capturando no solo los patrones reales presentes en los datos, sino también el ruido o las fluctuaciones aleatorias. Como resultado, el modelo puede tener un rendimiento deficiente en datos nuevos o no vistos.\n",
        "\n",
        " La regularización introduce una penalización en la complejidad del modelo, lo que significa que se desalienta la incorporación de coeficientes grandes o extremos en la función objetivo del modelo. Esto se logra mediante la adición de un término adicional a la función de pérdida que el modelo intenta minimizar durante el proceso de entrenamiento.\n",
        "\n",
        " Hay dos tipos comunes de regularización utilizados en modelos de aprendizaje automático, incluida la regresión logísticaque se eligen más abajo, en el parámetro `penalty`.\n",
        "\n",
        "2. **class_weight**: Este parámetro permite asignar pesos a las clases. Puede ser útil cuando las clases no están equilibradas en términos de número de muestras.\n",
        "\n",
        "3. **dual**: Este parámetro solo es relevante cuando el número de características (atributos) es mayor que el número de muestras. Especifica si resolver el problema de optimización en una formulación primal o dual.\n",
        "\n",
        "4. **fit_intercept**: Indica si se debe ajustar o no la intercepción del modelo. Si es `True`, el modelo ajustará una intercepción, y si es `False`, no ajustará ninguna intercepción.\n",
        "\n",
        "5. **intercept_scaling**: Este parámetro es relevante si `fit_intercept` es `True`. Se multiplica el término de intercepción por este valor.\n",
        "\n",
        "6. **max_iter**: Número máximo de iteraciones para la convergencia del solver.\n",
        "\n",
        "7. **multi_class**: Especifica el enfoque para manejar múltiples clases. 'ovr' indica la estrategia One-vs-Rest, (_Esta estrategia trata un problema de clasificación multiclase como múltiples problemas de clasificación binaria. Para cada clase, se entrena un clasificador binario que discrimina entre esa clase y todas las demás._) mientras que 'multinomial' indica la estrategia de clasificación multinomial, que trata el problema de clasificación multiclase como un solo problema de optimización conjunto.(Softmax).\n",
        "\n",
        "8. **n_jobs**: Número de trabajadores a utilizar para el entrenamiento. Si es -1, utiliza todos los procesadores disponibles.\n",
        "\n",
        "9. **penalty**: Especifica la norma de regularización. 'l1' y 'l2' son las opciones más comunes.\n",
        "\n",
        " **L1 Regularización (Lasso)**: Agrega la suma absoluta de los valores absolutos de los coeficientes del modelo a la función de pérdida. La regularización L1 puede llevar a que algunos coeficientes sean exactamente iguales a cero, lo que a su vez proporciona una forma de selección de características, ya que características con coeficientes igual a cero son esencialmente excluidas del modelo.\n",
        "\n",
        " **L2 Regularización (Ridge)**: Agrega la suma de los cuadrados de los valores de los coeficientes del modelo a la función de pérdida. La regularización L2 penaliza coeficientes grandes pero no conduce directamente a coeficientes iguales a cero. Es más suave que la regularización L1 y, a menudo, se utiliza para evitar que los coeficientes tomen valores extremadamente grandes.\n",
        "\n",
        "10. **random_state**: Semilla utilizada por el generador de números aleatorios para reproducibilidad. Si es `None`, se elige una semilla aleatoria.\n",
        "\n",
        "11. **solver**: Especifica el algoritmo a utilizar en el problema de optimización. 'liblinear' es adecuado para conjuntos de datos pequeños, mientras que 'lbfgs' y 'newton-cg' son opciones para problemas más grandes.\n",
        "\n",
        "12. **tol**: Tolerancia para la detección de convergencia. El algoritmo se detendrá si la mejora en la función de costo entre iteraciones sucesivas es menor que esta tolerancia.\n",
        "\n",
        "13. **verbose**: Controla la verbosidad del solver.\n",
        "\n",
        "14. **warm_start**: Si es `True`, reutiliza la solución de la llamada anterior para ajustar y agregar más iteraciones.\n",
        "\n",
        "Estos parámetros proporcionan flexibilidad y control sobre el comportamiento del modelo de regresión logística en diferentes situaciones y tipos de datos. La elección de valores específicos para estos parámetros dependerá del problema en cuestión y puede requerir ajuste mediante técnicas de validación cruzada o búsqueda de hiperparámetros."
      ],
      "metadata": {
        "id": "q9tFM0law5kE"
      }
    },
    {
      "cell_type": "code",
      "source": [
        "from sklearn.linear_model import LogisticRegression\n",
        "RegLog = LogisticRegression(C=1.0,\n",
        "                            class_weight=None,\n",
        "                            dual=False,\n",
        "                            fit_intercept=True,\n",
        "                            intercept_scaling=1,\n",
        "                            max_iter=100,\n",
        "                            multi_class='ovr',\n",
        "                            n_jobs=1,\n",
        "                            penalty='l2',\n",
        "                            random_state=None,\n",
        "                            solver='liblinear',\n",
        "                            tol=0.0001,\n",
        "                            verbose=0,\n",
        "                            warm_start=False)"
      ],
      "metadata": {
        "id": "0Ua59Nqjw4a9"
      },
      "execution_count": 133,
      "outputs": []
    },
    {
      "cell_type": "markdown",
      "source": [
        "Aplicamos el modelo a los datos de train."
      ],
      "metadata": {
        "id": "Ebo6HgvkYHjL"
      }
    },
    {
      "cell_type": "code",
      "source": [
        "RegLog.fit(train_data_X, train_data_y)\n",
        "RegLog.coef_"
      ],
      "metadata": {
        "colab": {
          "base_uri": "https://localhost:8080/"
        },
        "id": "g8gJka_I34CG",
        "outputId": "c802b198-2f79-4ff7-bcfc-a4e762d5f03c"
      },
      "execution_count": 127,
      "outputs": [
        {
          "output_type": "execute_result",
          "data": {
            "text/plain": [
              "array([[ 7.07508440e-03,  1.04325296e-02, -3.68212823e-03,\n",
              "         2.57200996e-03,  5.13700205e-03, -3.86978215e-03,\n",
              "        -1.17847823e-02,  1.27402501e-03, -6.76556417e-03,\n",
              "        -1.22827216e-02,  3.55409591e-02, -8.48573461e-02,\n",
              "         1.87696291e-02,  5.10388890e-01,  2.08829620e+00,\n",
              "        -1.04686347e+00]])"
            ]
          },
          "metadata": {},
          "execution_count": 127
        }
      ]
    },
    {
      "cell_type": "code",
      "source": [
        "datosfinal.shape"
      ],
      "metadata": {
        "colab": {
          "base_uri": "https://localhost:8080/"
        },
        "id": "VNwTYFs035uR",
        "outputId": "4c61316e-c941-45ce-f9e8-732e15a48d5f"
      },
      "execution_count": 128,
      "outputs": [
        {
          "output_type": "execute_result",
          "data": {
            "text/plain": [
              "(3333, 17)"
            ]
          },
          "metadata": {},
          "execution_count": 128
        }
      ]
    },
    {
      "cell_type": "markdown",
      "source": [
        "Hacemos la predicción con los datos de test:"
      ],
      "metadata": {
        "id": "1xPjsW6EYQEw"
      }
    },
    {
      "cell_type": "code",
      "source": [
        "prediccion = RegLog.predict(test_data_X)"
      ],
      "metadata": {
        "id": "JoSZJX6q45QZ"
      },
      "execution_count": 129,
      "outputs": []
    },
    {
      "cell_type": "code",
      "source": [
        "prediccion"
      ],
      "metadata": {
        "colab": {
          "base_uri": "https://localhost:8080/"
        },
        "id": "o8uMNVrq57Gs",
        "outputId": "c007ebe3-479e-4b83-b2e1-7b2d47d56462"
      },
      "execution_count": 130,
      "outputs": [
        {
          "output_type": "execute_result",
          "data": {
            "text/plain": [
              "array([0, 0, 0, 0, 0, 0, 0, 0, 1, 0, 0, 0, 0, 0, 1, 1, 0, 1, 1, 0, 0, 0,\n",
              "       0, 1, 0, 0, 0, 1, 1, 0, 0, 0, 0, 0, 0, 1, 0, 0, 0, 1, 0, 1, 1, 1,\n",
              "       0, 0, 1, 0, 0, 0, 0, 1, 0, 0, 0, 0, 0, 0, 0, 0, 1, 0, 0, 0, 1, 1,\n",
              "       0, 0, 1, 0, 1, 0, 1, 1, 0, 0, 1, 1, 0, 0, 0, 0, 1, 0, 0, 1, 0, 0,\n",
              "       0, 1, 1, 0, 1, 0, 1, 1, 1, 0, 0, 0, 0, 1, 0, 1, 0, 0, 0, 0, 0, 0,\n",
              "       0, 0, 1, 1, 0, 1, 1, 0, 0, 1, 0, 0, 0, 0, 1, 1, 1, 1, 0, 0, 0, 0,\n",
              "       0, 0, 0, 0, 0, 0, 0, 0, 0, 0, 1, 1, 0, 1, 0, 0, 1, 0, 0, 0, 0, 0,\n",
              "       1, 1, 0, 1, 0, 0, 0, 0, 0, 1, 0, 0, 0, 1, 0, 1, 0, 0, 0, 1, 0, 0,\n",
              "       0, 1, 1, 1, 1, 0, 0, 0, 0, 0, 0, 1, 0, 0, 0, 1, 0, 1, 0, 0, 0, 1,\n",
              "       0, 0, 1, 0, 1, 0, 0, 0, 0, 0, 0, 1, 0, 0, 0, 0, 1, 1, 0, 0, 1, 1,\n",
              "       0, 0, 1, 1, 0, 0, 0, 0, 0, 1, 0, 0, 0, 0, 0, 1, 1, 0, 0, 0, 0, 0,\n",
              "       1, 0, 0, 0, 0, 0, 0, 0, 1, 0, 0, 0, 1, 0, 1, 0, 1, 0, 0, 0, 0, 1,\n",
              "       1, 0, 0, 0, 1, 1, 1, 1, 1, 0, 1, 1, 1, 1, 1, 0, 1, 0, 0, 0, 0, 1,\n",
              "       0, 0, 0, 0, 0, 1, 0, 0, 1, 0, 0, 1, 0, 1, 0, 0, 0, 1, 1, 1, 0, 0,\n",
              "       0, 0, 0, 0, 1, 0, 1, 0, 0, 1, 1, 0, 1, 1, 0, 0, 0, 0, 1, 0, 0, 0,\n",
              "       0, 0, 0, 0, 0, 0, 1, 0, 1, 0, 0, 0, 0, 1, 1, 1, 1, 0, 0, 0, 1, 0,\n",
              "       0, 0, 0, 0, 0, 1, 0, 0, 0, 1, 0, 0, 0, 0, 0, 1, 1, 0, 1, 1, 0, 0,\n",
              "       0, 0, 1, 0, 1, 0, 1, 0, 0, 0, 1, 0, 0, 1, 1, 1, 0, 0, 1, 0, 0, 0,\n",
              "       0, 1, 1, 1, 0, 0, 0, 1, 0, 0, 1, 0, 1, 0, 1, 0, 0, 0, 1, 1, 0, 0,\n",
              "       1, 0, 1, 0, 1, 0, 0, 0, 1, 1, 0, 0, 1, 1, 0, 0, 0, 0, 0, 1, 0, 0,\n",
              "       0, 0, 1, 0, 0, 0, 0, 0, 0, 0, 0, 0, 1, 0, 0, 0, 1, 0, 1, 1, 0, 0,\n",
              "       0, 0, 0, 0, 1, 0, 0, 1, 0, 0, 0, 0, 1, 1, 0, 1, 0, 0, 0, 1, 0, 0,\n",
              "       0, 0, 1, 0, 1, 0, 1, 1, 0, 0, 0, 0, 0, 1, 0, 0], dtype=uint8)"
            ]
          },
          "metadata": {},
          "execution_count": 130
        }
      ]
    },
    {
      "cell_type": "code",
      "source": [
        "precision = RegLog.score(test_data_X, test_data_y)\n",
        "print(precision)"
      ],
      "metadata": {
        "colab": {
          "base_uri": "https://localhost:8080/"
        },
        "id": "gQqLaY7a597u",
        "outputId": "7b34f922-0e8e-4937-e415-a490d0446dbc"
      },
      "execution_count": 131,
      "outputs": [
        {
          "output_type": "stream",
          "name": "stdout",
          "text": [
            "0.75\n"
          ]
        }
      ]
    },
    {
      "cell_type": "code",
      "source": [
        "from sklearn.metrics import confusion_matrix\n",
        "confusion_matrix(test_data_y, prediccion)"
      ],
      "metadata": {
        "colab": {
          "base_uri": "https://localhost:8080/"
        },
        "id": "qYBIyKNZ6iGJ",
        "outputId": "ed3f5e31-ff42-4951-ded6-dc8315e4ab7b"
      },
      "execution_count": 132,
      "outputs": [
        {
          "output_type": "execute_result",
          "data": {
            "text/plain": [
              "array([[318, 104],\n",
              "       [ 21,  57]])"
            ]
          },
          "metadata": {},
          "execution_count": 132
        }
      ]
    },
    {
      "cell_type": "markdown",
      "source": [
        "*Pesos balanceados*"
      ],
      "metadata": {
        "id": "AUq6HGtS9pSJ"
      }
    },
    {
      "cell_type": "markdown",
      "source": [
        "# Regresión logística 2\n",
        "## Modelo con los pesos balanceados\n",
        "`class_weight = 'balanced'`"
      ],
      "metadata": {
        "id": "pU4aLUY5YkC7"
      }
    },
    {
      "cell_type": "code",
      "source": [
        "RegLog = LogisticRegression(C=1.0,\n",
        "                            class_weight='balanced',\n",
        "                            dual=False,\n",
        "                            fit_intercept=True,\n",
        "                            intercept_scaling=1,\n",
        "                            max_iter=100,\n",
        "                            multi_class='ovr',\n",
        "                            n_jobs=1,\n",
        "                            penalty='l2',\n",
        "                            random_state=None,\n",
        "                            solver='liblinear',\n",
        "                            tol=0.0001,\n",
        "                            verbose=0,\n",
        "                            warm_start=False)\n",
        "\n",
        "# Aplicamos el modelo a los datos de train\n",
        "\n",
        "RegLog.fit(train_data_X, train_data_y)\n",
        "RegLog.coef_\n",
        "\n",
        "# Realizamos la prediccion sobre los datos de test\n",
        "prediccion = RegLog.predict(test_data_X)\n",
        "\n",
        "# Comprobamos la precision del modelo con respecto a los datos de testeo.\n",
        "precision = RegLog.score(test_data_X, test_data_y)"
      ],
      "metadata": {
        "id": "ZCtCzjTj63t-"
      },
      "execution_count": 38,
      "outputs": []
    },
    {
      "cell_type": "markdown",
      "source": [
        "Hemos perdido bastante en precisión..."
      ],
      "metadata": {
        "id": "32JzRaZJY8Pz"
      }
    },
    {
      "cell_type": "code",
      "source": [
        "print(precision)"
      ],
      "metadata": {
        "colab": {
          "base_uri": "https://localhost:8080/"
        },
        "id": "Php9ql8a93Aq",
        "outputId": "943f1aff-809c-4924-a63d-7cc91edae3ca"
      },
      "execution_count": 39,
      "outputs": [
        {
          "output_type": "stream",
          "name": "stdout",
          "text": [
            "0.756\n"
          ]
        }
      ]
    },
    {
      "cell_type": "markdown",
      "source": [
        "Pero hemos ganado en sensibilidad. Detectamos muchos más usuarios que tienen pensado cambiarse de compañía de teléfonos.<br>\n",
        "A cambio cometemos más error del tipo \"pensar que el usuario se quiere ir cuando realmente no tenía intención de hacerlo\""
      ],
      "metadata": {
        "id": "lHfFLHGyZCmK"
      }
    },
    {
      "cell_type": "code",
      "source": [
        "confusion = confusion_matrix(test_data_y, prediccion)"
      ],
      "metadata": {
        "id": "SCLq1AMT94-H"
      },
      "execution_count": 134,
      "outputs": []
    },
    {
      "cell_type": "code",
      "source": [
        "import matplotlib.pyplot as plt\n",
        "import seaborn as sns\n",
        "\n",
        "def cuadro_matriz_confusion(confusion):\n",
        "    fig, ax = plt.subplots()\n",
        "\n",
        "    labels = ['Verdadero Neg', 'Falso Pos', 'Falso Neg', 'Verdadero Pos']\n",
        "    categories = ['0', '1']\n",
        "    counts = ['{0:,}'.format(value) for value in confusion.flatten()]\n",
        "    percentages = ['{0:.2%}'.format(value) for value in confusion.flatten() / np.sum(confusion)]\n",
        "    labels = [f'{label}\\n{count}\\n{percentage}' for label, count, percentage in zip(labels, counts, percentages)]\n",
        "    labels = np.asarray(labels).reshape(2, 2)\n",
        "\n",
        "    sns.heatmap(confusion, annot=labels, fmt='', cmap='Blues', xticklabels=categories, yticklabels=categories, ax=ax)\n",
        "    plt.xlabel('Valores predichos')\n",
        "    plt.ylabel('Valores reales')\n",
        "    plt.title('Matriz de confusión')\n",
        "    plt.show()\n",
        "\n",
        "cuadro_matriz_confusion(confusion)"
      ],
      "metadata": {
        "colab": {
          "base_uri": "https://localhost:8080/",
          "height": 472
        },
        "id": "RXOZJfhzagzY",
        "outputId": "e73c4cae-841b-45e3-b7cd-149886af4a2a"
      },
      "execution_count": 135,
      "outputs": [
        {
          "output_type": "display_data",
          "data": {
            "text/plain": [
              "<Figure size 640x480 with 2 Axes>"
            ],
            "image/png": "[encoded data removed]"
          },
          "metadata": {}
        }
      ]
    },
    {
      "cell_type": "code",
      "source": [
        "def resumen_metricas(confusion, y_test):\n",
        "    # Calcular las tasas de precisión, sensibilidad, especificidad y valor predictivo positivo\n",
        "    accuracy = (confusion[0, 0] + confusion[1, 1]) / len(y_test)\n",
        "    recall = confusion[1, 1] / (confusion[1, 1] + confusion[1, 0])\n",
        "    specificity = confusion[0, 0] / (confusion[0, 0] + confusion[0, 1])\n",
        "    ppv = confusion[1, 1] / (confusion[1, 1] + confusion[0, 1])\n",
        "\n",
        "    # Mostrar las tasas de precisión, sensibilidad, especificidad y valor predictivo positivo\n",
        "    print(\"Precisión (Accuracy):\", accuracy)\n",
        "    print(\"Sensibilidad (Recall):\", recall)\n",
        "    print(\"Especificidad:\", specificity)\n",
        "    print(\"Valor Predictivo Positivo (PPV):\", ppv)\n",
        "\n",
        "resumen_metricas(confusion, test_data_y)"
      ],
      "metadata": {
        "colab": {
          "base_uri": "https://localhost:8080/"
        },
        "id": "0Jku3qXHd0VA",
        "outputId": "c48d9b4f-f7fe-45be-9424-c4af6b438f1e"
      },
      "execution_count": 136,
      "outputs": [
        {
          "output_type": "stream",
          "name": "stdout",
          "text": [
            "Precisión (Accuracy): 0.75\n",
            "Sensibilidad (Recall): 0.7307692307692307\n",
            "Especificidad: 0.7535545023696683\n",
            "Valor Predictivo Positivo (PPV): 0.35403726708074534\n"
          ]
        }
      ]
    },
    {
      "cell_type": "markdown",
      "source": [
        "# Repetimos el proceso NORMALIZANDO los datos"
      ],
      "metadata": {
        "id": "_F-pSainFLZ4"
      }
    },
    {
      "cell_type": "code",
      "source": [
        "# El primer punto es ver el formato que tienen los datos\n",
        "datosfinal.dtypes"
      ],
      "metadata": {
        "colab": {
          "base_uri": "https://localhost:8080/"
        },
        "id": "YekCudLOFL3-",
        "outputId": "21882da8-0122-42ed-ef82-d0832e6c3eaf"
      },
      "execution_count": 43,
      "outputs": [
        {
          "output_type": "execute_result",
          "data": {
            "text/plain": [
              "VMail Message       int64\n",
              "Day Mins          float64\n",
              "Day Calls           int64\n",
              "Day Charge        float64\n",
              "Eve Mins          float64\n",
              "Eve Calls           int64\n",
              "Eve Charge        float64\n",
              "Night Mins        float64\n",
              "Night Calls         int64\n",
              "Night Charge      float64\n",
              "Intl Mins         float64\n",
              "Intl Calls          int64\n",
              "Intl Charge       float64\n",
              "CustServ Calls      int64\n",
              "IntPlan             int64\n",
              "VmailPlan           uint8\n",
              "Churn               uint8\n",
              "dtype: object"
            ]
          },
          "metadata": {},
          "execution_count": 43
        }
      ]
    },
    {
      "cell_type": "code",
      "source": [
        "datosfinal.head()"
      ],
      "metadata": {
        "colab": {
          "base_uri": "https://localhost:8080/",
          "height": 243
        },
        "id": "sxdvR48ffuob",
        "outputId": "efeff950-10c8-40cb-ca2e-ca96131d2a9d"
      },
      "execution_count": 44,
      "outputs": [
        {
          "output_type": "execute_result",
          "data": {
            "text/plain": [
              "   VMail Message  Day Mins  Day Calls  Day Charge  Eve Mins  Eve Calls  \\\n",
              "0             25     265.1        110       45.07     197.4         99   \n",
              "1             26     161.6        123       27.47     195.5        103   \n",
              "2              0     243.4        114       41.38     121.2        110   \n",
              "3              0     299.4         71       50.90      61.9         88   \n",
              "4              0     166.7        113       28.34     148.3        122   \n",
              "\n",
              "   Eve Charge  Night Mins  Night Calls  Night Charge  Intl Mins  Intl Calls  \\\n",
              "0       16.78       244.7           91         11.01       10.0           3   \n",
              "1       16.62       254.4          103         11.45       13.7           3   \n",
              "2       10.30       162.6          104          7.32       12.2           5   \n",
              "3        5.26       196.9           89          8.86        6.6           7   \n",
              "4       12.61       186.9          121          8.41       10.1           3   \n",
              "\n",
              "   Intl Charge  CustServ Calls  IntPlan  VmailPlan  Churn  \n",
              "0         2.70               1        0          1      0  \n",
              "1         3.70               1        0          1      0  \n",
              "2         3.29               0        0          0      0  \n",
              "3         1.78               2        1          0      0  \n",
              "4         2.73               3        1          0      0  "
            ],
            "text/html": [
              "\n",
              "  <div id=\"df-587d4caa-98f1-4fdf-b8be-a2bd61efea7c\" class=\"colab-df-container\">\n",
              "    <div>\n",
              "<style scoped>\n",
              "    .dataframe tbody tr th:only-of-type {\n",
              "        vertical-align: middle;\n",
              "    }\n",
              "\n",
              "    .dataframe tbody tr th {\n",
              "        vertical-align: top;\n",
              "    }\n",
              "\n",
              "    .dataframe thead th {\n",
              "        text-align: right;\n",
              "    }\n",
              "</style>\n",
              "<table border=\"1\" class=\"dataframe\">\n",
              "  <thead>\n",
              "    <tr style=\"text-align: right;\">\n",
              "      <th></th>\n",
              "      <th>VMail Message</th>\n",
              "      <th>Day Mins</th>\n",
              "      <th>Day Calls</th>\n",
              "      <th>Day Charge</th>\n",
              "      <th>Eve Mins</th>\n",
              "      <th>Eve Calls</th>\n",
              "      <th>Eve Charge</th>\n",
              "      <th>Night Mins</th>\n",
              "      <th>Night Calls</th>\n",
              "      <th>Night Charge</th>\n",
              "      <th>Intl Mins</th>\n",
              "      <th>Intl Calls</th>\n",
              "      <th>Intl Charge</th>\n",
              "      <th>CustServ Calls</th>\n",
              "      <th>IntPlan</th>\n",
              "      <th>VmailPlan</th>\n",
              "      <th>Churn</th>\n",
              "    </tr>\n",
              "  </thead>\n",
              "  <tbody>\n",
              "    <tr>\n",
              "      <th>0</th>\n",
              "      <td>25</td>\n",
              "      <td>265.1</td>\n",
              "      <td>110</td>\n",
              "      <td>45.07</td>\n",
              "      <td>197.4</td>\n",
              "      <td>99</td>\n",
              "      <td>16.78</td>\n",
              "      <td>244.7</td>\n",
              "      <td>91</td>\n",
              "      <td>11.01</td>\n",
              "      <td>10.0</td>\n",
              "      <td>3</td>\n",
              "      <td>2.70</td>\n",
              "      <td>1</td>\n",
              "      <td>0</td>\n",
              "      <td>1</td>\n",
              "      <td>0</td>\n",
              "    </tr>\n",
              "    <tr>\n",
              "      <th>1</th>\n",
              "      <td>26</td>\n",
              "      <td>161.6</td>\n",
              "      <td>123</td>\n",
              "      <td>27.47</td>\n",
              "      <td>195.5</td>\n",
              "      <td>103</td>\n",
              "      <td>16.62</td>\n",
              "      <td>254.4</td>\n",
              "      <td>103</td>\n",
              "      <td>11.45</td>\n",
              "      <td>13.7</td>\n",
              "      <td>3</td>\n",
              "      <td>3.70</td>\n",
              "      <td>1</td>\n",
              "      <td>0</td>\n",
              "      <td>1</td>\n",
              "      <td>0</td>\n",
              "    </tr>\n",
              "    <tr>\n",
              "      <th>2</th>\n",
              "      <td>0</td>\n",
              "      <td>243.4</td>\n",
              "      <td>114</td>\n",
              "      <td>41.38</td>\n",
              "      <td>121.2</td>\n",
              "      <td>110</td>\n",
              "      <td>10.30</td>\n",
              "      <td>162.6</td>\n",
              "      <td>104</td>\n",
              "      <td>7.32</td>\n",
              "      <td>12.2</td>\n",
              "      <td>5</td>\n",
              "      <td>3.29</td>\n",
              "      <td>0</td>\n",
              "      <td>0</td>\n",
              "      <td>0</td>\n",
              "      <td>0</td>\n",
              "    </tr>\n",
              "    <tr>\n",
              "      <th>3</th>\n",
              "      <td>0</td>\n",
              "      <td>299.4</td>\n",
              "      <td>71</td>\n",
              "      <td>50.90</td>\n",
              "      <td>61.9</td>\n",
              "      <td>88</td>\n",
              "      <td>5.26</td>\n",
              "      <td>196.9</td>\n",
              "      <td>89</td>\n",
              "      <td>8.86</td>\n",
              "      <td>6.6</td>\n",
              "      <td>7</td>\n",
              "      <td>1.78</td>\n",
              "      <td>2</td>\n",
              "      <td>1</td>\n",
              "      <td>0</td>\n",
              "      <td>0</td>\n",
              "    </tr>\n",
              "    <tr>\n",
              "      <th>4</th>\n",
              "      <td>0</td>\n",
              "      <td>166.7</td>\n",
              "      <td>113</td>\n",
              "      <td>28.34</td>\n",
              "      <td>148.3</td>\n",
              "      <td>122</td>\n",
              "      <td>12.61</td>\n",
              "      <td>186.9</td>\n",
              "      <td>121</td>\n",
              "      <td>8.41</td>\n",
              "      <td>10.1</td>\n",
              "      <td>3</td>\n",
              "      <td>2.73</td>\n",
              "      <td>3</td>\n",
              "      <td>1</td>\n",
              "      <td>0</td>\n",
              "      <td>0</td>\n",
              "    </tr>\n",
              "  </tbody>\n",
              "</table>\n",
              "</div>\n",
              "    <div class=\"colab-df-buttons\">\n",
              "\n",
              "  <div class=\"colab-df-container\">\n",
              "    <button class=\"colab-df-convert\" onclick=\"convertToInteractive('df-587d4caa-98f1-4fdf-b8be-a2bd61efea7c')\"\n",
              "            title=\"Convert this dataframe to an interactive table.\"\n",
              "            style=\"display:none;\">\n",
              "\n",
              "  <svg xmlns=\"http://www.w3.org/2000/svg\" height=\"24px\" viewBox=\"0 -960 960 960\">\n",
              "    <path d=\"M120-120v-720h720v720H120Zm60-500h600v-160H180v160Zm220 220h160v-160H400v160Zm0 220h160v-160H400v160ZM180-400h160v-160H180v160Zm440 0h160v-160H620v160ZM180-180h160v-160H180v160Zm440 0h160v-160H620v160Z\"/>\n",
              "  </svg>\n",
              "    </button>\n",
              "\n",
              "  <style>\n",
              "    .colab-df-container {\n",
              "      display:flex;\n",
              "      gap: 12px;\n",
              "    }\n",
              "\n",
              "    .colab-df-convert {\n",
              "      background-color: #E8F0FE;\n",
              "      border: none;\n",
              "      border-radius: 50%;\n",
              "      cursor: pointer;\n",
              "      display: none;\n",
              "      fill: #1967D2;\n",
              "      height: 32px;\n",
              "      padding: 0 0 0 0;\n",
              "      width: 32px;\n",
              "    }\n",
              "\n",
              "    .colab-df-convert:hover {\n",
              "      background-color: #E2EBFA;\n",
              "      box-shadow: 0px 1px 2px rgba(60, 64, 67, 0.3), 0px 1px 3px 1px rgba(60, 64, 67, 0.15);\n",
              "      fill: #174EA6;\n",
              "    }\n",
              "\n",
              "    .colab-df-buttons div {\n",
              "      margin-bottom: 4px;\n",
              "    }\n",
              "\n",
              "    [theme=dark] .colab-df-convert {\n",
              "      background-color: #3B4455;\n",
              "      fill: #D2E3FC;\n",
              "    }\n",
              "\n",
              "    [theme=dark] .colab-df-convert:hover {\n",
              "      background-color: #434B5C;\n",
              "      box-shadow: 0px 1px 3px 1px rgba(0, 0, 0, 0.15);\n",
              "      filter: drop-shadow(0px 1px 2px rgba(0, 0, 0, 0.3));\n",
              "      fill: #FFFFFF;\n",
              "    }\n",
              "  </style>\n",
              "\n",
              "    <script>\n",
              "      const buttonEl =\n",
              "        document.querySelector('#df-587d4caa-98f1-4fdf-b8be-a2bd61efea7c button.colab-df-convert');\n",
              "      buttonEl.style.display =\n",
              "        google.colab.kernel.accessAllowed ? 'block' : 'none';\n",
              "\n",
              "      async function convertToInteractive(key) {\n",
              "        const element = document.querySelector('#df-587d4caa-98f1-4fdf-b8be-a2bd61efea7c');\n",
              "        const dataTable =\n",
              "          await google.colab.kernel.invokeFunction('convertToInteractive',\n",
              "                                                    [key], {});\n",
              "        if (!dataTable) return;\n",
              "\n",
              "        const docLinkHtml = 'Like what you see? Visit the ' +\n",
              "          '<a target=\"_blank\" href=https://colab.research.google.com/notebooks/data_table.ipynb>data table notebook</a>'\n",
              "          + ' to learn more about interactive tables.';\n",
              "        element.innerHTML = '';\n",
              "        dataTable['output_type'] = 'display_data';\n",
              "        await google.colab.output.renderOutput(dataTable, element);\n",
              "        const docLink = document.createElement('div');\n",
              "        docLink.innerHTML = docLinkHtml;\n",
              "        element.appendChild(docLink);\n",
              "      }\n",
              "    </script>\n",
              "  </div>\n",
              "\n",
              "\n",
              "<div id=\"df-5c3490bc-64d8-49f2-8a2e-f24c1bb95ff5\">\n",
              "  <button class=\"colab-df-quickchart\" onclick=\"quickchart('df-5c3490bc-64d8-49f2-8a2e-f24c1bb95ff5')\"\n",
              "            title=\"Suggest charts\"\n",
              "            style=\"display:none;\">\n",
              "\n",
              "<svg xmlns=\"http://www.w3.org/2000/svg\" height=\"24px\"viewBox=\"0 0 24 24\"\n",
              "     width=\"24px\">\n",
              "    <g>\n",
              "        <path d=\"M19 3H5c-1.1 0-2 .9-2 2v14c0 1.1.9 2 2 2h14c1.1 0 2-.9 2-2V5c0-1.1-.9-2-2-2zM9 17H7v-7h2v7zm4 0h-2V7h2v10zm4 0h-2v-4h2v4z\"/>\n",
              "    </g>\n",
              "</svg>\n",
              "  </button>\n",
              "\n",
              "<style>\n",
              "  .colab-df-quickchart {\n",
              "      --bg-color: #E8F0FE;\n",
              "      --fill-color: #1967D2;\n",
              "      --hover-bg-color: #E2EBFA;\n",
              "      --hover-fill-color: #174EA6;\n",
              "      --disabled-fill-color: #AAA;\n",
              "      --disabled-bg-color: #DDD;\n",
              "  }\n",
              "\n",
              "  [theme=dark] .colab-df-quickchart {\n",
              "      --bg-color: #3B4455;\n",
              "      --fill-color: #D2E3FC;\n",
              "      --hover-bg-color: #434B5C;\n",
              "      --hover-fill-color: #FFFFFF;\n",
              "      --disabled-bg-color: #3B4455;\n",
              "      --disabled-fill-color: #666;\n",
              "  }\n",
              "\n",
              "  .colab-df-quickchart {\n",
              "    background-color: var(--bg-color);\n",
              "    border: none;\n",
              "    border-radius: 50%;\n",
              "    cursor: pointer;\n",
              "    display: none;\n",
              "    fill: var(--fill-color);\n",
              "    height: 32px;\n",
              "    padding: 0;\n",
              "    width: 32px;\n",
              "  }\n",
              "\n",
              "  .colab-df-quickchart:hover {\n",
              "    background-color: var(--hover-bg-color);\n",
              "    box-shadow: 0 1px 2px rgba(60, 64, 67, 0.3), 0 1px 3px 1px rgba(60, 64, 67, 0.15);\n",
              "    fill: var(--button-hover-fill-color);\n",
              "  }\n",
              "\n",
              "  .colab-df-quickchart-complete:disabled,\n",
              "  .colab-df-quickchart-complete:disabled:hover {\n",
              "    background-color: var(--disabled-bg-color);\n",
              "    fill: var(--disabled-fill-color);\n",
              "    box-shadow: none;\n",
              "  }\n",
              "\n",
              "  .colab-df-spinner {\n",
              "    border: 2px solid var(--fill-color);\n",
              "    border-color: transparent;\n",
              "    border-bottom-color: var(--fill-color);\n",
              "    animation:\n",
              "      spin 1s steps(1) infinite;\n",
              "  }\n",
              "\n",
              "  @keyframes spin {\n",
              "    0% {\n",
              "      border-color: transparent;\n",
              "      border-bottom-color: var(--fill-color);\n",
              "      border-left-color: var(--fill-color);\n",
              "    }\n",
              "    20% {\n",
              "      border-color: transparent;\n",
              "      border-left-color: var(--fill-color);\n",
              "      border-top-color: var(--fill-color);\n",
              "    }\n",
              "    30% {\n",
              "      border-color: transparent;\n",
              "      border-left-color: var(--fill-color);\n",
              "      border-top-color: var(--fill-color);\n",
              "      border-right-color: var(--fill-color);\n",
              "    }\n",
              "    40% {\n",
              "      border-color: transparent;\n",
              "      border-right-color: var(--fill-color);\n",
              "      border-top-color: var(--fill-color);\n",
              "    }\n",
              "    60% {\n",
              "      border-color: transparent;\n",
              "      border-right-color: var(--fill-color);\n",
              "    }\n",
              "    80% {\n",
              "      border-color: transparent;\n",
              "      border-right-color: var(--fill-color);\n",
              "      border-bottom-color: var(--fill-color);\n",
              "    }\n",
              "    90% {\n",
              "      border-color: transparent;\n",
              "      border-bottom-color: var(--fill-color);\n",
              "    }\n",
              "  }\n",
              "</style>\n",
              "\n",
              "  <script>\n",
              "    async function quickchart(key) {\n",
              "      const quickchartButtonEl =\n",
              "        document.querySelector('#' + key + ' button');\n",
              "      quickchartButtonEl.disabled = true;  // To prevent multiple clicks.\n",
              "      quickchartButtonEl.classList.add('colab-df-spinner');\n",
              "      try {\n",
              "        const charts = await google.colab.kernel.invokeFunction(\n",
              "            'suggestCharts', [key], {});\n",
              "      } catch (error) {\n",
              "        console.error('Error during call to suggestCharts:', error);\n",
              "      }\n",
              "      quickchartButtonEl.classList.remove('colab-df-spinner');\n",
              "      quickchartButtonEl.classList.add('colab-df-quickchart-complete');\n",
              "    }\n",
              "    (() => {\n",
              "      let quickchartButtonEl =\n",
              "        document.querySelector('#df-5c3490bc-64d8-49f2-8a2e-f24c1bb95ff5 button');\n",
              "      quickchartButtonEl.style.display =\n",
              "        google.colab.kernel.accessAllowed ? 'block' : 'none';\n",
              "    })();\n",
              "  </script>\n",
              "</div>\n",
              "    </div>\n",
              "  </div>\n"
            ]
          },
          "metadata": {},
          "execution_count": 44
        }
      ]
    },
    {
      "cell_type": "code",
      "source": [
        "from sklearn.preprocessing import StandardScaler\n",
        "\n",
        "ss = StandardScaler()\n",
        "datosfinal_sin_columnas = ss.fit_transform(datosfinal)\n",
        "datos_normalizados = pd.DataFrame(datosfinal_sin_columnas, columns = datosfinal.columns)\n",
        "datos_normalizados.head()"
      ],
      "metadata": {
        "colab": {
          "base_uri": "https://localhost:8080/",
          "height": 243
        },
        "id": "SDy4R_eygQvi",
        "outputId": "8afd965e-3cee-4e4d-ab66-cdbc71d997db"
      },
      "execution_count": 45,
      "outputs": [
        {
          "output_type": "execute_result",
          "data": {
            "text/plain": [
              "   VMail Message  Day Mins  Day Calls  Day Charge  Eve Mins  Eve Calls  \\\n",
              "0       1.234883  1.566767   0.476643    1.567036 -0.070610  -0.055940   \n",
              "1       1.307948 -0.333738   1.124503   -0.334013 -0.108080   0.144867   \n",
              "2      -0.591760  1.168304   0.675985    1.168464 -1.573383   0.496279   \n",
              "3      -0.591760  2.196596  -1.466936    2.196759 -2.742865  -0.608159   \n",
              "4      -0.591760 -0.240090   0.626149   -0.240041 -1.038932   1.098699   \n",
              "\n",
              "   Eve Charge  Night Mins  Night Calls  Night Charge  Intl Mins  Intl Calls  \\\n",
              "0   -0.070427    0.866743    -0.465494      0.866029  -0.085008   -0.601195   \n",
              "1   -0.107549    1.058571     0.147825      1.059390   1.240482   -0.601195   \n",
              "2   -1.573900   -0.756869     0.198935     -0.755571   0.703121    0.211534   \n",
              "3   -2.743268   -0.078551    -0.567714     -0.078806  -1.303026    1.024263   \n",
              "4   -1.037939   -0.276311     1.067803     -0.276562  -0.049184   -0.601195   \n",
              "\n",
              "   Intl Charge  CustServ Calls   IntPlan  VmailPlan     Churn  \n",
              "0    -0.085690       -0.427932 -0.327580   1.617086 -0.411672  \n",
              "1     1.241169       -0.427932 -0.327580   1.617086 -0.411672  \n",
              "2     0.697156       -1.188218 -0.327580  -0.618396 -0.411672  \n",
              "3    -1.306401        0.332354  3.052685  -0.618396 -0.411672  \n",
              "4    -0.045885        1.092641  3.052685  -0.618396 -0.411672  "
            ],
            "text/html": [
              "\n",
              "  <div id=\"df-d0c00210-6447-484f-ad85-dca63b9f0980\" class=\"colab-df-container\">\n",
              "    <div>\n",
              "<style scoped>\n",
              "    .dataframe tbody tr th:only-of-type {\n",
              "        vertical-align: middle;\n",
              "    }\n",
              "\n",
              "    .dataframe tbody tr th {\n",
              "        vertical-align: top;\n",
              "    }\n",
              "\n",
              "    .dataframe thead th {\n",
              "        text-align: right;\n",
              "    }\n",
              "</style>\n",
              "<table border=\"1\" class=\"dataframe\">\n",
              "  <thead>\n",
              "    <tr style=\"text-align: right;\">\n",
              "      <th></th>\n",
              "      <th>VMail Message</th>\n",
              "      <th>Day Mins</th>\n",
              "      <th>Day Calls</th>\n",
              "      <th>Day Charge</th>\n",
              "      <th>Eve Mins</th>\n",
              "      <th>Eve Calls</th>\n",
              "      <th>Eve Charge</th>\n",
              "      <th>Night Mins</th>\n",
              "      <th>Night Calls</th>\n",
              "      <th>Night Charge</th>\n",
              "      <th>Intl Mins</th>\n",
              "      <th>Intl Calls</th>\n",
              "      <th>Intl Charge</th>\n",
              "      <th>CustServ Calls</th>\n",
              "      <th>IntPlan</th>\n",
              "      <th>VmailPlan</th>\n",
              "      <th>Churn</th>\n",
              "    </tr>\n",
              "  </thead>\n",
              "  <tbody>\n",
              "    <tr>\n",
              "      <th>0</th>\n",
              "      <td>1.234883</td>\n",
              "      <td>1.566767</td>\n",
              "      <td>0.476643</td>\n",
              "      <td>1.567036</td>\n",
              "      <td>-0.070610</td>\n",
              "      <td>-0.055940</td>\n",
              "      <td>-0.070427</td>\n",
              "      <td>0.866743</td>\n",
              "      <td>-0.465494</td>\n",
              "      <td>0.866029</td>\n",
              "      <td>-0.085008</td>\n",
              "      <td>-0.601195</td>\n",
              "      <td>-0.085690</td>\n",
              "      <td>-0.427932</td>\n",
              "      <td>-0.327580</td>\n",
              "      <td>1.617086</td>\n",
              "      <td>-0.411672</td>\n",
              "    </tr>\n",
              "    <tr>\n",
              "      <th>1</th>\n",
              "      <td>1.307948</td>\n",
              "      <td>-0.333738</td>\n",
              "      <td>1.124503</td>\n",
              "      <td>-0.334013</td>\n",
              "      <td>-0.108080</td>\n",
              "      <td>0.144867</td>\n",
              "      <td>-0.107549</td>\n",
              "      <td>1.058571</td>\n",
              "      <td>0.147825</td>\n",
              "      <td>1.059390</td>\n",
              "      <td>1.240482</td>\n",
              "      <td>-0.601195</td>\n",
              "      <td>1.241169</td>\n",
              "      <td>-0.427932</td>\n",
              "      <td>-0.327580</td>\n",
              "      <td>1.617086</td>\n",
              "      <td>-0.411672</td>\n",
              "    </tr>\n",
              "    <tr>\n",
              "      <th>2</th>\n",
              "      <td>-0.591760</td>\n",
              "      <td>1.168304</td>\n",
              "      <td>0.675985</td>\n",
              "      <td>1.168464</td>\n",
              "      <td>-1.573383</td>\n",
              "      <td>0.496279</td>\n",
              "      <td>-1.573900</td>\n",
              "      <td>-0.756869</td>\n",
              "      <td>0.198935</td>\n",
              "      <td>-0.755571</td>\n",
              "      <td>0.703121</td>\n",
              "      <td>0.211534</td>\n",
              "      <td>0.697156</td>\n",
              "      <td>-1.188218</td>\n",
              "      <td>-0.327580</td>\n",
              "      <td>-0.618396</td>\n",
              "      <td>-0.411672</td>\n",
              "    </tr>\n",
              "    <tr>\n",
              "      <th>3</th>\n",
              "      <td>-0.591760</td>\n",
              "      <td>2.196596</td>\n",
              "      <td>-1.466936</td>\n",
              "      <td>2.196759</td>\n",
              "      <td>-2.742865</td>\n",
              "      <td>-0.608159</td>\n",
              "      <td>-2.743268</td>\n",
              "      <td>-0.078551</td>\n",
              "      <td>-0.567714</td>\n",
              "      <td>-0.078806</td>\n",
              "      <td>-1.303026</td>\n",
              "      <td>1.024263</td>\n",
              "      <td>-1.306401</td>\n",
              "      <td>0.332354</td>\n",
              "      <td>3.052685</td>\n",
              "      <td>-0.618396</td>\n",
              "      <td>-0.411672</td>\n",
              "    </tr>\n",
              "    <tr>\n",
              "      <th>4</th>\n",
              "      <td>-0.591760</td>\n",
              "      <td>-0.240090</td>\n",
              "      <td>0.626149</td>\n",
              "      <td>-0.240041</td>\n",
              "      <td>-1.038932</td>\n",
              "      <td>1.098699</td>\n",
              "      <td>-1.037939</td>\n",
              "      <td>-0.276311</td>\n",
              "      <td>1.067803</td>\n",
              "      <td>-0.276562</td>\n",
              "      <td>-0.049184</td>\n",
              "      <td>-0.601195</td>\n",
              "      <td>-0.045885</td>\n",
              "      <td>1.092641</td>\n",
              "      <td>3.052685</td>\n",
              "      <td>-0.618396</td>\n",
              "      <td>-0.411672</td>\n",
              "    </tr>\n",
              "  </tbody>\n",
              "</table>\n",
              "</div>\n",
              "    <div class=\"colab-df-buttons\">\n",
              "\n",
              "  <div class=\"colab-df-container\">\n",
              "    <button class=\"colab-df-convert\" onclick=\"convertToInteractive('df-d0c00210-6447-484f-ad85-dca63b9f0980')\"\n",
              "            title=\"Convert this dataframe to an interactive table.\"\n",
              "            style=\"display:none;\">\n",
              "\n",
              "  <svg xmlns=\"http://www.w3.org/2000/svg\" height=\"24px\" viewBox=\"0 -960 960 960\">\n",
              "    <path d=\"M120-120v-720h720v720H120Zm60-500h600v-160H180v160Zm220 220h160v-160H400v160Zm0 220h160v-160H400v160ZM180-400h160v-160H180v160Zm440 0h160v-160H620v160ZM180-180h160v-160H180v160Zm440 0h160v-160H620v160Z\"/>\n",
              "  </svg>\n",
              "    </button>\n",
              "\n",
              "  <style>\n",
              "    .colab-df-container {\n",
              "      display:flex;\n",
              "      gap: 12px;\n",
              "    }\n",
              "\n",
              "    .colab-df-convert {\n",
              "      background-color: #E8F0FE;\n",
              "      border: none;\n",
              "      border-radius: 50%;\n",
              "      cursor: pointer;\n",
              "      display: none;\n",
              "      fill: #1967D2;\n",
              "      height: 32px;\n",
              "      padding: 0 0 0 0;\n",
              "      width: 32px;\n",
              "    }\n",
              "\n",
              "    .colab-df-convert:hover {\n",
              "      background-color: #E2EBFA;\n",
              "      box-shadow: 0px 1px 2px rgba(60, 64, 67, 0.3), 0px 1px 3px 1px rgba(60, 64, 67, 0.15);\n",
              "      fill: #174EA6;\n",
              "    }\n",
              "\n",
              "    .colab-df-buttons div {\n",
              "      margin-bottom: 4px;\n",
              "    }\n",
              "\n",
              "    [theme=dark] .colab-df-convert {\n",
              "      background-color: #3B4455;\n",
              "      fill: #D2E3FC;\n",
              "    }\n",
              "\n",
              "    [theme=dark] .colab-df-convert:hover {\n",
              "      background-color: #434B5C;\n",
              "      box-shadow: 0px 1px 3px 1px rgba(0, 0, 0, 0.15);\n",
              "      filter: drop-shadow(0px 1px 2px rgba(0, 0, 0, 0.3));\n",
              "      fill: #FFFFFF;\n",
              "    }\n",
              "  </style>\n",
              "\n",
              "    <script>\n",
              "      const buttonEl =\n",
              "        document.querySelector('#df-d0c00210-6447-484f-ad85-dca63b9f0980 button.colab-df-convert');\n",
              "      buttonEl.style.display =\n",
              "        google.colab.kernel.accessAllowed ? 'block' : 'none';\n",
              "\n",
              "      async function convertToInteractive(key) {\n",
              "        const element = document.querySelector('#df-d0c00210-6447-484f-ad85-dca63b9f0980');\n",
              "        const dataTable =\n",
              "          await google.colab.kernel.invokeFunction('convertToInteractive',\n",
              "                                                    [key], {});\n",
              "        if (!dataTable) return;\n",
              "\n",
              "        const docLinkHtml = 'Like what you see? Visit the ' +\n",
              "          '<a target=\"_blank\" href=https://colab.research.google.com/notebooks/data_table.ipynb>data table notebook</a>'\n",
              "          + ' to learn more about interactive tables.';\n",
              "        element.innerHTML = '';\n",
              "        dataTable['output_type'] = 'display_data';\n",
              "        await google.colab.output.renderOutput(dataTable, element);\n",
              "        const docLink = document.createElement('div');\n",
              "        docLink.innerHTML = docLinkHtml;\n",
              "        element.appendChild(docLink);\n",
              "      }\n",
              "    </script>\n",
              "  </div>\n",
              "\n",
              "\n",
              "<div id=\"df-1a70f78b-6dd3-4391-ba52-22e66a3c65cc\">\n",
              "  <button class=\"colab-df-quickchart\" onclick=\"quickchart('df-1a70f78b-6dd3-4391-ba52-22e66a3c65cc')\"\n",
              "            title=\"Suggest charts\"\n",
              "            style=\"display:none;\">\n",
              "\n",
              "<svg xmlns=\"http://www.w3.org/2000/svg\" height=\"24px\"viewBox=\"0 0 24 24\"\n",
              "     width=\"24px\">\n",
              "    <g>\n",
              "        <path d=\"M19 3H5c-1.1 0-2 .9-2 2v14c0 1.1.9 2 2 2h14c1.1 0 2-.9 2-2V5c0-1.1-.9-2-2-2zM9 17H7v-7h2v7zm4 0h-2V7h2v10zm4 0h-2v-4h2v4z\"/>\n",
              "    </g>\n",
              "</svg>\n",
              "  </button>\n",
              "\n",
              "<style>\n",
              "  .colab-df-quickchart {\n",
              "      --bg-color: #E8F0FE;\n",
              "      --fill-color: #1967D2;\n",
              "      --hover-bg-color: #E2EBFA;\n",
              "      --hover-fill-color: #174EA6;\n",
              "      --disabled-fill-color: #AAA;\n",
              "      --disabled-bg-color: #DDD;\n",
              "  }\n",
              "\n",
              "  [theme=dark] .colab-df-quickchart {\n",
              "      --bg-color: #3B4455;\n",
              "      --fill-color: #D2E3FC;\n",
              "      --hover-bg-color: #434B5C;\n",
              "      --hover-fill-color: #FFFFFF;\n",
              "      --disabled-bg-color: #3B4455;\n",
              "      --disabled-fill-color: #666;\n",
              "  }\n",
              "\n",
              "  .colab-df-quickchart {\n",
              "    background-color: var(--bg-color);\n",
              "    border: none;\n",
              "    border-radius: 50%;\n",
              "    cursor: pointer;\n",
              "    display: none;\n",
              "    fill: var(--fill-color);\n",
              "    height: 32px;\n",
              "    padding: 0;\n",
              "    width: 32px;\n",
              "  }\n",
              "\n",
              "  .colab-df-quickchart:hover {\n",
              "    background-color: var(--hover-bg-color);\n",
              "    box-shadow: 0 1px 2px rgba(60, 64, 67, 0.3), 0 1px 3px 1px rgba(60, 64, 67, 0.15);\n",
              "    fill: var(--button-hover-fill-color);\n",
              "  }\n",
              "\n",
              "  .colab-df-quickchart-complete:disabled,\n",
              "  .colab-df-quickchart-complete:disabled:hover {\n",
              "    background-color: var(--disabled-bg-color);\n",
              "    fill: var(--disabled-fill-color);\n",
              "    box-shadow: none;\n",
              "  }\n",
              "\n",
              "  .colab-df-spinner {\n",
              "    border: 2px solid var(--fill-color);\n",
              "    border-color: transparent;\n",
              "    border-bottom-color: var(--fill-color);\n",
              "    animation:\n",
              "      spin 1s steps(1) infinite;\n",
              "  }\n",
              "\n",
              "  @keyframes spin {\n",
              "    0% {\n",
              "      border-color: transparent;\n",
              "      border-bottom-color: var(--fill-color);\n",
              "      border-left-color: var(--fill-color);\n",
              "    }\n",
              "    20% {\n",
              "      border-color: transparent;\n",
              "      border-left-color: var(--fill-color);\n",
              "      border-top-color: var(--fill-color);\n",
              "    }\n",
              "    30% {\n",
              "      border-color: transparent;\n",
              "      border-left-color: var(--fill-color);\n",
              "      border-top-color: var(--fill-color);\n",
              "      border-right-color: var(--fill-color);\n",
              "    }\n",
              "    40% {\n",
              "      border-color: transparent;\n",
              "      border-right-color: var(--fill-color);\n",
              "      border-top-color: var(--fill-color);\n",
              "    }\n",
              "    60% {\n",
              "      border-color: transparent;\n",
              "      border-right-color: var(--fill-color);\n",
              "    }\n",
              "    80% {\n",
              "      border-color: transparent;\n",
              "      border-right-color: var(--fill-color);\n",
              "      border-bottom-color: var(--fill-color);\n",
              "    }\n",
              "    90% {\n",
              "      border-color: transparent;\n",
              "      border-bottom-color: var(--fill-color);\n",
              "    }\n",
              "  }\n",
              "</style>\n",
              "\n",
              "  <script>\n",
              "    async function quickchart(key) {\n",
              "      const quickchartButtonEl =\n",
              "        document.querySelector('#' + key + ' button');\n",
              "      quickchartButtonEl.disabled = true;  // To prevent multiple clicks.\n",
              "      quickchartButtonEl.classList.add('colab-df-spinner');\n",
              "      try {\n",
              "        const charts = await google.colab.kernel.invokeFunction(\n",
              "            'suggestCharts', [key], {});\n",
              "      } catch (error) {\n",
              "        console.error('Error during call to suggestCharts:', error);\n",
              "      }\n",
              "      quickchartButtonEl.classList.remove('colab-df-spinner');\n",
              "      quickchartButtonEl.classList.add('colab-df-quickchart-complete');\n",
              "    }\n",
              "    (() => {\n",
              "      let quickchartButtonEl =\n",
              "        document.querySelector('#df-1a70f78b-6dd3-4391-ba52-22e66a3c65cc button');\n",
              "      quickchartButtonEl.style.display =\n",
              "        google.colab.kernel.accessAllowed ? 'block' : 'none';\n",
              "    })();\n",
              "  </script>\n",
              "</div>\n",
              "    </div>\n",
              "  </div>\n"
            ]
          },
          "metadata": {},
          "execution_count": 45
        }
      ]
    },
    {
      "cell_type": "markdown",
      "source": [
        "Todas las variables (columnas) son cantidades excepto IntPlan, VmailPlan y Churn.<br>\n",
        "Este tipo de variables categóricas no deben normalizarse, por lo que recatamos su valor de la matriz de datos original:"
      ],
      "metadata": {
        "id": "Lpe8gxe0g_Un"
      }
    },
    {
      "cell_type": "code",
      "source": [
        "datos_normalizados['IntPlan'] = datosfinal['IntPlan']\n",
        "datos_normalizados['VmailPlan'] = datosfinal['VmailPlan']\n",
        "datos_normalizados['Churn'] = datosfinal['Churn']\n",
        "datos_normalizados.head()"
      ],
      "metadata": {
        "colab": {
          "base_uri": "https://localhost:8080/",
          "height": 243
        },
        "id": "3qzXL9Ydg_vG",
        "outputId": "c84c6a7b-4011-4bd5-a598-b917d6315c27"
      },
      "execution_count": 46,
      "outputs": [
        {
          "output_type": "execute_result",
          "data": {
            "text/plain": [
              "   VMail Message  Day Mins  Day Calls  Day Charge  Eve Mins  Eve Calls  \\\n",
              "0       1.234883  1.566767   0.476643    1.567036 -0.070610  -0.055940   \n",
              "1       1.307948 -0.333738   1.124503   -0.334013 -0.108080   0.144867   \n",
              "2      -0.591760  1.168304   0.675985    1.168464 -1.573383   0.496279   \n",
              "3      -0.591760  2.196596  -1.466936    2.196759 -2.742865  -0.608159   \n",
              "4      -0.591760 -0.240090   0.626149   -0.240041 -1.038932   1.098699   \n",
              "\n",
              "   Eve Charge  Night Mins  Night Calls  Night Charge  Intl Mins  Intl Calls  \\\n",
              "0   -0.070427    0.866743    -0.465494      0.866029  -0.085008   -0.601195   \n",
              "1   -0.107549    1.058571     0.147825      1.059390   1.240482   -0.601195   \n",
              "2   -1.573900   -0.756869     0.198935     -0.755571   0.703121    0.211534   \n",
              "3   -2.743268   -0.078551    -0.567714     -0.078806  -1.303026    1.024263   \n",
              "4   -1.037939   -0.276311     1.067803     -0.276562  -0.049184   -0.601195   \n",
              "\n",
              "   Intl Charge  CustServ Calls  IntPlan  VmailPlan  Churn  \n",
              "0    -0.085690       -0.427932        0          1      0  \n",
              "1     1.241169       -0.427932        0          1      0  \n",
              "2     0.697156       -1.188218        0          0      0  \n",
              "3    -1.306401        0.332354        1          0      0  \n",
              "4    -0.045885        1.092641        1          0      0  "
            ],
            "text/html": [
              "\n",
              "  <div id=\"df-324e3cf3-b585-4409-9b36-adef35fc37df\" class=\"colab-df-container\">\n",
              "    <div>\n",
              "<style scoped>\n",
              "    .dataframe tbody tr th:only-of-type {\n",
              "        vertical-align: middle;\n",
              "    }\n",
              "\n",
              "    .dataframe tbody tr th {\n",
              "        vertical-align: top;\n",
              "    }\n",
              "\n",
              "    .dataframe thead th {\n",
              "        text-align: right;\n",
              "    }\n",
              "</style>\n",
              "<table border=\"1\" class=\"dataframe\">\n",
              "  <thead>\n",
              "    <tr style=\"text-align: right;\">\n",
              "      <th></th>\n",
              "      <th>VMail Message</th>\n",
              "      <th>Day Mins</th>\n",
              "      <th>Day Calls</th>\n",
              "      <th>Day Charge</th>\n",
              "      <th>Eve Mins</th>\n",
              "      <th>Eve Calls</th>\n",
              "      <th>Eve Charge</th>\n",
              "      <th>Night Mins</th>\n",
              "      <th>Night Calls</th>\n",
              "      <th>Night Charge</th>\n",
              "      <th>Intl Mins</th>\n",
              "      <th>Intl Calls</th>\n",
              "      <th>Intl Charge</th>\n",
              "      <th>CustServ Calls</th>\n",
              "      <th>IntPlan</th>\n",
              "      <th>VmailPlan</th>\n",
              "      <th>Churn</th>\n",
              "    </tr>\n",
              "  </thead>\n",
              "  <tbody>\n",
              "    <tr>\n",
              "      <th>0</th>\n",
              "      <td>1.234883</td>\n",
              "      <td>1.566767</td>\n",
              "      <td>0.476643</td>\n",
              "      <td>1.567036</td>\n",
              "      <td>-0.070610</td>\n",
              "      <td>-0.055940</td>\n",
              "      <td>-0.070427</td>\n",
              "      <td>0.866743</td>\n",
              "      <td>-0.465494</td>\n",
              "      <td>0.866029</td>\n",
              "      <td>-0.085008</td>\n",
              "      <td>-0.601195</td>\n",
              "      <td>-0.085690</td>\n",
              "      <td>-0.427932</td>\n",
              "      <td>0</td>\n",
              "      <td>1</td>\n",
              "      <td>0</td>\n",
              "    </tr>\n",
              "    <tr>\n",
              "      <th>1</th>\n",
              "      <td>1.307948</td>\n",
              "      <td>-0.333738</td>\n",
              "      <td>1.124503</td>\n",
              "      <td>-0.334013</td>\n",
              "      <td>-0.108080</td>\n",
              "      <td>0.144867</td>\n",
              "      <td>-0.107549</td>\n",
              "      <td>1.058571</td>\n",
              "      <td>0.147825</td>\n",
              "      <td>1.059390</td>\n",
              "      <td>1.240482</td>\n",
              "      <td>-0.601195</td>\n",
              "      <td>1.241169</td>\n",
              "      <td>-0.427932</td>\n",
              "      <td>0</td>\n",
              "      <td>1</td>\n",
              "      <td>0</td>\n",
              "    </tr>\n",
              "    <tr>\n",
              "      <th>2</th>\n",
              "      <td>-0.591760</td>\n",
              "      <td>1.168304</td>\n",
              "      <td>0.675985</td>\n",
              "      <td>1.168464</td>\n",
              "      <td>-1.573383</td>\n",
              "      <td>0.496279</td>\n",
              "      <td>-1.573900</td>\n",
              "      <td>-0.756869</td>\n",
              "      <td>0.198935</td>\n",
              "      <td>-0.755571</td>\n",
              "      <td>0.703121</td>\n",
              "      <td>0.211534</td>\n",
              "      <td>0.697156</td>\n",
              "      <td>-1.188218</td>\n",
              "      <td>0</td>\n",
              "      <td>0</td>\n",
              "      <td>0</td>\n",
              "    </tr>\n",
              "    <tr>\n",
              "      <th>3</th>\n",
              "      <td>-0.591760</td>\n",
              "      <td>2.196596</td>\n",
              "      <td>-1.466936</td>\n",
              "      <td>2.196759</td>\n",
              "      <td>-2.742865</td>\n",
              "      <td>-0.608159</td>\n",
              "      <td>-2.743268</td>\n",
              "      <td>-0.078551</td>\n",
              "      <td>-0.567714</td>\n",
              "      <td>-0.078806</td>\n",
              "      <td>-1.303026</td>\n",
              "      <td>1.024263</td>\n",
              "      <td>-1.306401</td>\n",
              "      <td>0.332354</td>\n",
              "      <td>1</td>\n",
              "      <td>0</td>\n",
              "      <td>0</td>\n",
              "    </tr>\n",
              "    <tr>\n",
              "      <th>4</th>\n",
              "      <td>-0.591760</td>\n",
              "      <td>-0.240090</td>\n",
              "      <td>0.626149</td>\n",
              "      <td>-0.240041</td>\n",
              "      <td>-1.038932</td>\n",
              "      <td>1.098699</td>\n",
              "      <td>-1.037939</td>\n",
              "      <td>-0.276311</td>\n",
              "      <td>1.067803</td>\n",
              "      <td>-0.276562</td>\n",
              "      <td>-0.049184</td>\n",
              "      <td>-0.601195</td>\n",
              "      <td>-0.045885</td>\n",
              "      <td>1.092641</td>\n",
              "      <td>1</td>\n",
              "      <td>0</td>\n",
              "      <td>0</td>\n",
              "    </tr>\n",
              "  </tbody>\n",
              "</table>\n",
              "</div>\n",
              "    <div class=\"colab-df-buttons\">\n",
              "\n",
              "  <div class=\"colab-df-container\">\n",
              "    <button class=\"colab-df-convert\" onclick=\"convertToInteractive('df-324e3cf3-b585-4409-9b36-adef35fc37df')\"\n",
              "            title=\"Convert this dataframe to an interactive table.\"\n",
              "            style=\"display:none;\">\n",
              "\n",
              "  <svg xmlns=\"http://www.w3.org/2000/svg\" height=\"24px\" viewBox=\"0 -960 960 960\">\n",
              "    <path d=\"M120-120v-720h720v720H120Zm60-500h600v-160H180v160Zm220 220h160v-160H400v160Zm0 220h160v-160H400v160ZM180-400h160v-160H180v160Zm440 0h160v-160H620v160ZM180-180h160v-160H180v160Zm440 0h160v-160H620v160Z\"/>\n",
              "  </svg>\n",
              "    </button>\n",
              "\n",
              "  <style>\n",
              "    .colab-df-container {\n",
              "      display:flex;\n",
              "      gap: 12px;\n",
              "    }\n",
              "\n",
              "    .colab-df-convert {\n",
              "      background-color: #E8F0FE;\n",
              "      border: none;\n",
              "      border-radius: 50%;\n",
              "      cursor: pointer;\n",
              "      display: none;\n",
              "      fill: #1967D2;\n",
              "      height: 32px;\n",
              "      padding: 0 0 0 0;\n",
              "      width: 32px;\n",
              "    }\n",
              "\n",
              "    .colab-df-convert:hover {\n",
              "      background-color: #E2EBFA;\n",
              "      box-shadow: 0px 1px 2px rgba(60, 64, 67, 0.3), 0px 1px 3px 1px rgba(60, 64, 67, 0.15);\n",
              "      fill: #174EA6;\n",
              "    }\n",
              "\n",
              "    .colab-df-buttons div {\n",
              "      margin-bottom: 4px;\n",
              "    }\n",
              "\n",
              "    [theme=dark] .colab-df-convert {\n",
              "      background-color: #3B4455;\n",
              "      fill: #D2E3FC;\n",
              "    }\n",
              "\n",
              "    [theme=dark] .colab-df-convert:hover {\n",
              "      background-color: #434B5C;\n",
              "      box-shadow: 0px 1px 3px 1px rgba(0, 0, 0, 0.15);\n",
              "      filter: drop-shadow(0px 1px 2px rgba(0, 0, 0, 0.3));\n",
              "      fill: #FFFFFF;\n",
              "    }\n",
              "  </style>\n",
              "\n",
              "    <script>\n",
              "      const buttonEl =\n",
              "        document.querySelector('#df-324e3cf3-b585-4409-9b36-adef35fc37df button.colab-df-convert');\n",
              "      buttonEl.style.display =\n",
              "        google.colab.kernel.accessAllowed ? 'block' : 'none';\n",
              "\n",
              "      async function convertToInteractive(key) {\n",
              "        const element = document.querySelector('#df-324e3cf3-b585-4409-9b36-adef35fc37df');\n",
              "        const dataTable =\n",
              "          await google.colab.kernel.invokeFunction('convertToInteractive',\n",
              "                                                    [key], {});\n",
              "        if (!dataTable) return;\n",
              "\n",
              "        const docLinkHtml = 'Like what you see? Visit the ' +\n",
              "          '<a target=\"_blank\" href=https://colab.research.google.com/notebooks/data_table.ipynb>data table notebook</a>'\n",
              "          + ' to learn more about interactive tables.';\n",
              "        element.innerHTML = '';\n",
              "        dataTable['output_type'] = 'display_data';\n",
              "        await google.colab.output.renderOutput(dataTable, element);\n",
              "        const docLink = document.createElement('div');\n",
              "        docLink.innerHTML = docLinkHtml;\n",
              "        element.appendChild(docLink);\n",
              "      }\n",
              "    </script>\n",
              "  </div>\n",
              "\n",
              "\n",
              "<div id=\"df-a4b36533-e6a0-4c6f-bf83-142bf6b30aa4\">\n",
              "  <button class=\"colab-df-quickchart\" onclick=\"quickchart('df-a4b36533-e6a0-4c6f-bf83-142bf6b30aa4')\"\n",
              "            title=\"Suggest charts\"\n",
              "            style=\"display:none;\">\n",
              "\n",
              "<svg xmlns=\"http://www.w3.org/2000/svg\" height=\"24px\"viewBox=\"0 0 24 24\"\n",
              "     width=\"24px\">\n",
              "    <g>\n",
              "        <path d=\"M19 3H5c-1.1 0-2 .9-2 2v14c0 1.1.9 2 2 2h14c1.1 0 2-.9 2-2V5c0-1.1-.9-2-2-2zM9 17H7v-7h2v7zm4 0h-2V7h2v10zm4 0h-2v-4h2v4z\"/>\n",
              "    </g>\n",
              "</svg>\n",
              "  </button>\n",
              "\n",
              "<style>\n",
              "  .colab-df-quickchart {\n",
              "      --bg-color: #E8F0FE;\n",
              "      --fill-color: #1967D2;\n",
              "      --hover-bg-color: #E2EBFA;\n",
              "      --hover-fill-color: #174EA6;\n",
              "      --disabled-fill-color: #AAA;\n",
              "      --disabled-bg-color: #DDD;\n",
              "  }\n",
              "\n",
              "  [theme=dark] .colab-df-quickchart {\n",
              "      --bg-color: #3B4455;\n",
              "      --fill-color: #D2E3FC;\n",
              "      --hover-bg-color: #434B5C;\n",
              "      --hover-fill-color: #FFFFFF;\n",
              "      --disabled-bg-color: #3B4455;\n",
              "      --disabled-fill-color: #666;\n",
              "  }\n",
              "\n",
              "  .colab-df-quickchart {\n",
              "    background-color: var(--bg-color);\n",
              "    border: none;\n",
              "    border-radius: 50%;\n",
              "    cursor: pointer;\n",
              "    display: none;\n",
              "    fill: var(--fill-color);\n",
              "    height: 32px;\n",
              "    padding: 0;\n",
              "    width: 32px;\n",
              "  }\n",
              "\n",
              "  .colab-df-quickchart:hover {\n",
              "    background-color: var(--hover-bg-color);\n",
              "    box-shadow: 0 1px 2px rgba(60, 64, 67, 0.3), 0 1px 3px 1px rgba(60, 64, 67, 0.15);\n",
              "    fill: var(--button-hover-fill-color);\n",
              "  }\n",
              "\n",
              "  .colab-df-quickchart-complete:disabled,\n",
              "  .colab-df-quickchart-complete:disabled:hover {\n",
              "    background-color: var(--disabled-bg-color);\n",
              "    fill: var(--disabled-fill-color);\n",
              "    box-shadow: none;\n",
              "  }\n",
              "\n",
              "  .colab-df-spinner {\n",
              "    border: 2px solid var(--fill-color);\n",
              "    border-color: transparent;\n",
              "    border-bottom-color: var(--fill-color);\n",
              "    animation:\n",
              "      spin 1s steps(1) infinite;\n",
              "  }\n",
              "\n",
              "  @keyframes spin {\n",
              "    0% {\n",
              "      border-color: transparent;\n",
              "      border-bottom-color: var(--fill-color);\n",
              "      border-left-color: var(--fill-color);\n",
              "    }\n",
              "    20% {\n",
              "      border-color: transparent;\n",
              "      border-left-color: var(--fill-color);\n",
              "      border-top-color: var(--fill-color);\n",
              "    }\n",
              "    30% {\n",
              "      border-color: transparent;\n",
              "      border-left-color: var(--fill-color);\n",
              "      border-top-color: var(--fill-color);\n",
              "      border-right-color: var(--fill-color);\n",
              "    }\n",
              "    40% {\n",
              "      border-color: transparent;\n",
              "      border-right-color: var(--fill-color);\n",
              "      border-top-color: var(--fill-color);\n",
              "    }\n",
              "    60% {\n",
              "      border-color: transparent;\n",
              "      border-right-color: var(--fill-color);\n",
              "    }\n",
              "    80% {\n",
              "      border-color: transparent;\n",
              "      border-right-color: var(--fill-color);\n",
              "      border-bottom-color: var(--fill-color);\n",
              "    }\n",
              "    90% {\n",
              "      border-color: transparent;\n",
              "      border-bottom-color: var(--fill-color);\n",
              "    }\n",
              "  }\n",
              "</style>\n",
              "\n",
              "  <script>\n",
              "    async function quickchart(key) {\n",
              "      const quickchartButtonEl =\n",
              "        document.querySelector('#' + key + ' button');\n",
              "      quickchartButtonEl.disabled = true;  // To prevent multiple clicks.\n",
              "      quickchartButtonEl.classList.add('colab-df-spinner');\n",
              "      try {\n",
              "        const charts = await google.colab.kernel.invokeFunction(\n",
              "            'suggestCharts', [key], {});\n",
              "      } catch (error) {\n",
              "        console.error('Error during call to suggestCharts:', error);\n",
              "      }\n",
              "      quickchartButtonEl.classList.remove('colab-df-spinner');\n",
              "      quickchartButtonEl.classList.add('colab-df-quickchart-complete');\n",
              "    }\n",
              "    (() => {\n",
              "      let quickchartButtonEl =\n",
              "        document.querySelector('#df-a4b36533-e6a0-4c6f-bf83-142bf6b30aa4 button');\n",
              "      quickchartButtonEl.style.display =\n",
              "        google.colab.kernel.accessAllowed ? 'block' : 'none';\n",
              "    })();\n",
              "  </script>\n",
              "</div>\n",
              "    </div>\n",
              "  </div>\n"
            ]
          },
          "metadata": {},
          "execution_count": 46
        }
      ]
    },
    {
      "cell_type": "code",
      "source": [
        "from sklearn.model_selection import train_test_split\n",
        "y = datos_normalizados['Churn']\n",
        "X = datos_normalizados.drop('Churn', axis = 1)\n",
        "X_train, X_test, y_train, y_test = train_test_split(X, y, test_size=0.25, random_state=42)"
      ],
      "metadata": {
        "id": "gZEgZzct9-QC"
      },
      "execution_count": 47,
      "outputs": []
    },
    {
      "cell_type": "code",
      "source": [
        "X_train"
      ],
      "metadata": {
        "colab": {
          "base_uri": "https://localhost:8080/",
          "height": 461
        },
        "id": "Dnz4_VD6QYzc",
        "outputId": "be602d56-406c-4b86-e140-317b62d1330c"
      },
      "execution_count": 48,
      "outputs": [
        {
          "output_type": "execute_result",
          "data": {
            "text/plain": [
              "      VMail Message  Day Mins  Day Calls  Day Charge  Eve Mins  Eve Calls  \\\n",
              "367       -0.591760 -1.865159   1.323844   -1.865654  1.033791   0.395875   \n",
              "3103      -0.591760  0.296091   0.526479    0.295710  0.513145   0.395875   \n",
              "549        1.673277  1.052621  -1.865619    1.052889  0.091106   0.847691   \n",
              "2531      -0.591760 -0.669769   1.672692   -0.669937 -0.403902   0.646884   \n",
              "2378      -0.591760  0.485224   1.074667    0.484734 -0.719445  -0.306949   \n",
              "...             ...       ...        ...         ...       ...        ...   \n",
              "1095      -0.591760  1.737537   0.974997    1.737699 -0.046944  -0.909370   \n",
              "1130      -0.591760 -2.656577  -1.915454   -2.656317 -0.397986  -0.557958   \n",
              "1294      -0.591760 -1.692553  -1.217759   -1.692831  1.203395   0.546480   \n",
              "860       -0.591760 -0.010560   0.526479   -0.011051 -0.508426   1.500313   \n",
              "3174       2.550065 -2.752061   1.124503   -2.752450 -1.417584   0.847691   \n",
              "\n",
              "      Eve Charge  Night Mins  Night Calls  Night Charge  Intl Mins  \\\n",
              "367     1.033976    1.070436    -0.005505      1.072574   2.780916   \n",
              "3103    0.514257    2.221401     0.658924      2.219559   1.061361   \n",
              "549     0.091986   -0.082506    -0.772154     -0.083200  -0.049184   \n",
              "2531   -0.404532   -0.329707    -0.669934     -0.329297  -0.049184   \n",
              "2378   -0.720075   -1.197875     0.045605     -1.199423   0.846417   \n",
              "...          ...         ...          ...           ...        ...   \n",
              "1095   -0.047225   -0.792466    -1.947682     -0.790727  -1.517970   \n",
              "1130   -0.397571    1.003198    -2.152122      1.002260   0.882241   \n",
              "1294    1.203349   -0.321796     1.272243     -0.320508  -0.371601   \n",
              "860    -0.508940    0.548349    -0.414384      0.549619  -0.120832   \n",
              "3174   -1.418448    2.472557     0.250045      2.474444  -0.586545   \n",
              "\n",
              "      Intl Calls  Intl Charge  CustServ Calls  IntPlan  VmailPlan  \n",
              "367    -0.601195     2.780325       -0.427932        0          0  \n",
              "3103   -1.413924     1.055408        0.332354        0          0  \n",
              "549     0.211534    -0.045885        1.852927        0          1  \n",
              "2531   -0.194831    -0.045885       -0.427932        0          0  \n",
              "2378    1.024263     0.843111        1.092641        0          0  \n",
              "...          ...          ...             ...      ...        ...  \n",
              "1095   -0.601195    -1.518698       -0.427932        0          0  \n",
              "1130   -1.007560     0.882917       -0.427932        0          0  \n",
              "1294    0.211534    -0.377599       -0.427932        0          0  \n",
              "860     0.617898    -0.125496        0.332354        0          0  \n",
              "3174    0.617898    -0.589897        0.332354        0          1  \n",
              "\n",
              "[2499 rows x 16 columns]"
            ],
            "text/html": [
              "\n",
              "  <div id=\"df-204553ce-e914-4582-b170-751bf25ded67\" class=\"colab-df-container\">\n",
              "    <div>\n",
              "<style scoped>\n",
              "    .dataframe tbody tr th:only-of-type {\n",
              "        vertical-align: middle;\n",
              "    }\n",
              "\n",
              "    .dataframe tbody tr th {\n",
              "        vertical-align: top;\n",
              "    }\n",
              "\n",
              "    .dataframe thead th {\n",
              "        text-align: right;\n",
              "    }\n",
              "</style>\n",
              "<table border=\"1\" class=\"dataframe\">\n",
              "  <thead>\n",
              "    <tr style=\"text-align: right;\">\n",
              "      <th></th>\n",
              "      <th>VMail Message</th>\n",
              "      <th>Day Mins</th>\n",
              "      <th>Day Calls</th>\n",
              "      <th>Day Charge</th>\n",
              "      <th>Eve Mins</th>\n",
              "      <th>Eve Calls</th>\n",
              "      <th>Eve Charge</th>\n",
              "      <th>Night Mins</th>\n",
              "      <th>Night Calls</th>\n",
              "      <th>Night Charge</th>\n",
              "      <th>Intl Mins</th>\n",
              "      <th>Intl Calls</th>\n",
              "      <th>Intl Charge</th>\n",
              "      <th>CustServ Calls</th>\n",
              "      <th>IntPlan</th>\n",
              "      <th>VmailPlan</th>\n",
              "    </tr>\n",
              "  </thead>\n",
              "  <tbody>\n",
              "    <tr>\n",
              "      <th>367</th>\n",
              "      <td>-0.591760</td>\n",
              "      <td>-1.865159</td>\n",
              "      <td>1.323844</td>\n",
              "      <td>-1.865654</td>\n",
              "      <td>1.033791</td>\n",
              "      <td>0.395875</td>\n",
              "      <td>1.033976</td>\n",
              "      <td>1.070436</td>\n",
              "      <td>-0.005505</td>\n",
              "      <td>1.072574</td>\n",
              "      <td>2.780916</td>\n",
              "      <td>-0.601195</td>\n",
              "      <td>2.780325</td>\n",
              "      <td>-0.427932</td>\n",
              "      <td>0</td>\n",
              "      <td>0</td>\n",
              "    </tr>\n",
              "    <tr>\n",
              "      <th>3103</th>\n",
              "      <td>-0.591760</td>\n",
              "      <td>0.296091</td>\n",
              "      <td>0.526479</td>\n",
              "      <td>0.295710</td>\n",
              "      <td>0.513145</td>\n",
              "      <td>0.395875</td>\n",
              "      <td>0.514257</td>\n",
              "      <td>2.221401</td>\n",
              "      <td>0.658924</td>\n",
              "      <td>2.219559</td>\n",
              "      <td>1.061361</td>\n",
              "      <td>-1.413924</td>\n",
              "      <td>1.055408</td>\n",
              "      <td>0.332354</td>\n",
              "      <td>0</td>\n",
              "      <td>0</td>\n",
              "    </tr>\n",
              "    <tr>\n",
              "      <th>549</th>\n",
              "      <td>1.673277</td>\n",
              "      <td>1.052621</td>\n",
              "      <td>-1.865619</td>\n",
              "      <td>1.052889</td>\n",
              "      <td>0.091106</td>\n",
              "      <td>0.847691</td>\n",
              "      <td>0.091986</td>\n",
              "      <td>-0.082506</td>\n",
              "      <td>-0.772154</td>\n",
              "      <td>-0.083200</td>\n",
              "      <td>-0.049184</td>\n",
              "      <td>0.211534</td>\n",
              "      <td>-0.045885</td>\n",
              "      <td>1.852927</td>\n",
              "      <td>0</td>\n",
              "      <td>1</td>\n",
              "    </tr>\n",
              "    <tr>\n",
              "      <th>2531</th>\n",
              "      <td>-0.591760</td>\n",
              "      <td>-0.669769</td>\n",
              "      <td>1.672692</td>\n",
              "      <td>-0.669937</td>\n",
              "      <td>-0.403902</td>\n",
              "      <td>0.646884</td>\n",
              "      <td>-0.404532</td>\n",
              "      <td>-0.329707</td>\n",
              "      <td>-0.669934</td>\n",
              "      <td>-0.329297</td>\n",
              "      <td>-0.049184</td>\n",
              "      <td>-0.194831</td>\n",
              "      <td>-0.045885</td>\n",
              "      <td>-0.427932</td>\n",
              "      <td>0</td>\n",
              "      <td>0</td>\n",
              "    </tr>\n",
              "    <tr>\n",
              "      <th>2378</th>\n",
              "      <td>-0.591760</td>\n",
              "      <td>0.485224</td>\n",
              "      <td>1.074667</td>\n",
              "      <td>0.484734</td>\n",
              "      <td>-0.719445</td>\n",
              "      <td>-0.306949</td>\n",
              "      <td>-0.720075</td>\n",
              "      <td>-1.197875</td>\n",
              "      <td>0.045605</td>\n",
              "      <td>-1.199423</td>\n",
              "      <td>0.846417</td>\n",
              "      <td>1.024263</td>\n",
              "      <td>0.843111</td>\n",
              "      <td>1.092641</td>\n",
              "      <td>0</td>\n",
              "      <td>0</td>\n",
              "    </tr>\n",
              "    <tr>\n",
              "      <th>...</th>\n",
              "      <td>...</td>\n",
              "      <td>...</td>\n",
              "      <td>...</td>\n",
              "      <td>...</td>\n",
              "      <td>...</td>\n",
              "      <td>...</td>\n",
              "      <td>...</td>\n",
              "      <td>...</td>\n",
              "      <td>...</td>\n",
              "      <td>...</td>\n",
              "      <td>...</td>\n",
              "      <td>...</td>\n",
              "      <td>...</td>\n",
              "      <td>...</td>\n",
              "      <td>...</td>\n",
              "      <td>...</td>\n",
              "    </tr>\n",
              "    <tr>\n",
              "      <th>1095</th>\n",
              "      <td>-0.591760</td>\n",
              "      <td>1.737537</td>\n",
              "      <td>0.974997</td>\n",
              "      <td>1.737699</td>\n",
              "      <td>-0.046944</td>\n",
              "      <td>-0.909370</td>\n",
              "      <td>-0.047225</td>\n",
              "      <td>-0.792466</td>\n",
              "      <td>-1.947682</td>\n",
              "      <td>-0.790727</td>\n",
              "      <td>-1.517970</td>\n",
              "      <td>-0.601195</td>\n",
              "      <td>-1.518698</td>\n",
              "      <td>-0.427932</td>\n",
              "      <td>0</td>\n",
              "      <td>0</td>\n",
              "    </tr>\n",
              "    <tr>\n",
              "      <th>1130</th>\n",
              "      <td>-0.591760</td>\n",
              "      <td>-2.656577</td>\n",
              "      <td>-1.915454</td>\n",
              "      <td>-2.656317</td>\n",
              "      <td>-0.397986</td>\n",
              "      <td>-0.557958</td>\n",
              "      <td>-0.397571</td>\n",
              "      <td>1.003198</td>\n",
              "      <td>-2.152122</td>\n",
              "      <td>1.002260</td>\n",
              "      <td>0.882241</td>\n",
              "      <td>-1.007560</td>\n",
              "      <td>0.882917</td>\n",
              "      <td>-0.427932</td>\n",
              "      <td>0</td>\n",
              "      <td>0</td>\n",
              "    </tr>\n",
              "    <tr>\n",
              "      <th>1294</th>\n",
              "      <td>-0.591760</td>\n",
              "      <td>-1.692553</td>\n",
              "      <td>-1.217759</td>\n",
              "      <td>-1.692831</td>\n",
              "      <td>1.203395</td>\n",
              "      <td>0.546480</td>\n",
              "      <td>1.203349</td>\n",
              "      <td>-0.321796</td>\n",
              "      <td>1.272243</td>\n",
              "      <td>-0.320508</td>\n",
              "      <td>-0.371601</td>\n",
              "      <td>0.211534</td>\n",
              "      <td>-0.377599</td>\n",
              "      <td>-0.427932</td>\n",
              "      <td>0</td>\n",
              "      <td>0</td>\n",
              "    </tr>\n",
              "    <tr>\n",
              "      <th>860</th>\n",
              "      <td>-0.591760</td>\n",
              "      <td>-0.010560</td>\n",
              "      <td>0.526479</td>\n",
              "      <td>-0.011051</td>\n",
              "      <td>-0.508426</td>\n",
              "      <td>1.500313</td>\n",
              "      <td>-0.508940</td>\n",
              "      <td>0.548349</td>\n",
              "      <td>-0.414384</td>\n",
              "      <td>0.549619</td>\n",
              "      <td>-0.120832</td>\n",
              "      <td>0.617898</td>\n",
              "      <td>-0.125496</td>\n",
              "      <td>0.332354</td>\n",
              "      <td>0</td>\n",
              "      <td>0</td>\n",
              "    </tr>\n",
              "    <tr>\n",
              "      <th>3174</th>\n",
              "      <td>2.550065</td>\n",
              "      <td>-2.752061</td>\n",
              "      <td>1.124503</td>\n",
              "      <td>-2.752450</td>\n",
              "      <td>-1.417584</td>\n",
              "      <td>0.847691</td>\n",
              "      <td>-1.418448</td>\n",
              "      <td>2.472557</td>\n",
              "      <td>0.250045</td>\n",
              "      <td>2.474444</td>\n",
              "      <td>-0.586545</td>\n",
              "      <td>0.617898</td>\n",
              "      <td>-0.589897</td>\n",
              "      <td>0.332354</td>\n",
              "      <td>0</td>\n",
              "      <td>1</td>\n",
              "    </tr>\n",
              "  </tbody>\n",
              "</table>\n",
              "<p>2499 rows × 16 columns</p>\n",
              "</div>\n",
              "    <div class=\"colab-df-buttons\">\n",
              "\n",
              "  <div class=\"colab-df-container\">\n",
              "    <button class=\"colab-df-convert\" onclick=\"convertToInteractive('df-204553ce-e914-4582-b170-751bf25ded67')\"\n",
              "            title=\"Convert this dataframe to an interactive table.\"\n",
              "            style=\"display:none;\">\n",
              "\n",
              "  <svg xmlns=\"http://www.w3.org/2000/svg\" height=\"24px\" viewBox=\"0 -960 960 960\">\n",
              "    <path d=\"M120-120v-720h720v720H120Zm60-500h600v-160H180v160Zm220 220h160v-160H400v160Zm0 220h160v-160H400v160ZM180-400h160v-160H180v160Zm440 0h160v-160H620v160ZM180-180h160v-160H180v160Zm440 0h160v-160H620v160Z\"/>\n",
              "  </svg>\n",
              "    </button>\n",
              "\n",
              "  <style>\n",
              "    .colab-df-container {\n",
              "      display:flex;\n",
              "      gap: 12px;\n",
              "    }\n",
              "\n",
              "    .colab-df-convert {\n",
              "      background-color: #E8F0FE;\n",
              "      border: none;\n",
              "      border-radius: 50%;\n",
              "      cursor: pointer;\n",
              "      display: none;\n",
              "      fill: #1967D2;\n",
              "      height: 32px;\n",
              "      padding: 0 0 0 0;\n",
              "      width: 32px;\n",
              "    }\n",
              "\n",
              "    .colab-df-convert:hover {\n",
              "      background-color: #E2EBFA;\n",
              "      box-shadow: 0px 1px 2px rgba(60, 64, 67, 0.3), 0px 1px 3px 1px rgba(60, 64, 67, 0.15);\n",
              "      fill: #174EA6;\n",
              "    }\n",
              "\n",
              "    .colab-df-buttons div {\n",
              "      margin-bottom: 4px;\n",
              "    }\n",
              "\n",
              "    [theme=dark] .colab-df-convert {\n",
              "      background-color: #3B4455;\n",
              "      fill: #D2E3FC;\n",
              "    }\n",
              "\n",
              "    [theme=dark] .colab-df-convert:hover {\n",
              "      background-color: #434B5C;\n",
              "      box-shadow: 0px 1px 3px 1px rgba(0, 0, 0, 0.15);\n",
              "      filter: drop-shadow(0px 1px 2px rgba(0, 0, 0, 0.3));\n",
              "      fill: #FFFFFF;\n",
              "    }\n",
              "  </style>\n",
              "\n",
              "    <script>\n",
              "      const buttonEl =\n",
              "        document.querySelector('#df-204553ce-e914-4582-b170-751bf25ded67 button.colab-df-convert');\n",
              "      buttonEl.style.display =\n",
              "        google.colab.kernel.accessAllowed ? 'block' : 'none';\n",
              "\n",
              "      async function convertToInteractive(key) {\n",
              "        const element = document.querySelector('#df-204553ce-e914-4582-b170-751bf25ded67');\n",
              "        const dataTable =\n",
              "          await google.colab.kernel.invokeFunction('convertToInteractive',\n",
              "                                                    [key], {});\n",
              "        if (!dataTable) return;\n",
              "\n",
              "        const docLinkHtml = 'Like what you see? Visit the ' +\n",
              "          '<a target=\"_blank\" href=https://colab.research.google.com/notebooks/data_table.ipynb>data table notebook</a>'\n",
              "          + ' to learn more about interactive tables.';\n",
              "        element.innerHTML = '';\n",
              "        dataTable['output_type'] = 'display_data';\n",
              "        await google.colab.output.renderOutput(dataTable, element);\n",
              "        const docLink = document.createElement('div');\n",
              "        docLink.innerHTML = docLinkHtml;\n",
              "        element.appendChild(docLink);\n",
              "      }\n",
              "    </script>\n",
              "  </div>\n",
              "\n",
              "\n",
              "<div id=\"df-fecba8bf-68a9-4f92-9f49-f7f07df0ad70\">\n",
              "  <button class=\"colab-df-quickchart\" onclick=\"quickchart('df-fecba8bf-68a9-4f92-9f49-f7f07df0ad70')\"\n",
              "            title=\"Suggest charts\"\n",
              "            style=\"display:none;\">\n",
              "\n",
              "<svg xmlns=\"http://www.w3.org/2000/svg\" height=\"24px\"viewBox=\"0 0 24 24\"\n",
              "     width=\"24px\">\n",
              "    <g>\n",
              "        <path d=\"M19 3H5c-1.1 0-2 .9-2 2v14c0 1.1.9 2 2 2h14c1.1 0 2-.9 2-2V5c0-1.1-.9-2-2-2zM9 17H7v-7h2v7zm4 0h-2V7h2v10zm4 0h-2v-4h2v4z\"/>\n",
              "    </g>\n",
              "</svg>\n",
              "  </button>\n",
              "\n",
              "<style>\n",
              "  .colab-df-quickchart {\n",
              "      --bg-color: #E8F0FE;\n",
              "      --fill-color: #1967D2;\n",
              "      --hover-bg-color: #E2EBFA;\n",
              "      --hover-fill-color: #174EA6;\n",
              "      --disabled-fill-color: #AAA;\n",
              "      --disabled-bg-color: #DDD;\n",
              "  }\n",
              "\n",
              "  [theme=dark] .colab-df-quickchart {\n",
              "      --bg-color: #3B4455;\n",
              "      --fill-color: #D2E3FC;\n",
              "      --hover-bg-color: #434B5C;\n",
              "      --hover-fill-color: #FFFFFF;\n",
              "      --disabled-bg-color: #3B4455;\n",
              "      --disabled-fill-color: #666;\n",
              "  }\n",
              "\n",
              "  .colab-df-quickchart {\n",
              "    background-color: var(--bg-color);\n",
              "    border: none;\n",
              "    border-radius: 50%;\n",
              "    cursor: pointer;\n",
              "    display: none;\n",
              "    fill: var(--fill-color);\n",
              "    height: 32px;\n",
              "    padding: 0;\n",
              "    width: 32px;\n",
              "  }\n",
              "\n",
              "  .colab-df-quickchart:hover {\n",
              "    background-color: var(--hover-bg-color);\n",
              "    box-shadow: 0 1px 2px rgba(60, 64, 67, 0.3), 0 1px 3px 1px rgba(60, 64, 67, 0.15);\n",
              "    fill: var(--button-hover-fill-color);\n",
              "  }\n",
              "\n",
              "  .colab-df-quickchart-complete:disabled,\n",
              "  .colab-df-quickchart-complete:disabled:hover {\n",
              "    background-color: var(--disabled-bg-color);\n",
              "    fill: var(--disabled-fill-color);\n",
              "    box-shadow: none;\n",
              "  }\n",
              "\n",
              "  .colab-df-spinner {\n",
              "    border: 2px solid var(--fill-color);\n",
              "    border-color: transparent;\n",
              "    border-bottom-color: var(--fill-color);\n",
              "    animation:\n",
              "      spin 1s steps(1) infinite;\n",
              "  }\n",
              "\n",
              "  @keyframes spin {\n",
              "    0% {\n",
              "      border-color: transparent;\n",
              "      border-bottom-color: var(--fill-color);\n",
              "      border-left-color: var(--fill-color);\n",
              "    }\n",
              "    20% {\n",
              "      border-color: transparent;\n",
              "      border-left-color: var(--fill-color);\n",
              "      border-top-color: var(--fill-color);\n",
              "    }\n",
              "    30% {\n",
              "      border-color: transparent;\n",
              "      border-left-color: var(--fill-color);\n",
              "      border-top-color: var(--fill-color);\n",
              "      border-right-color: var(--fill-color);\n",
              "    }\n",
              "    40% {\n",
              "      border-color: transparent;\n",
              "      border-right-color: var(--fill-color);\n",
              "      border-top-color: var(--fill-color);\n",
              "    }\n",
              "    60% {\n",
              "      border-color: transparent;\n",
              "      border-right-color: var(--fill-color);\n",
              "    }\n",
              "    80% {\n",
              "      border-color: transparent;\n",
              "      border-right-color: var(--fill-color);\n",
              "      border-bottom-color: var(--fill-color);\n",
              "    }\n",
              "    90% {\n",
              "      border-color: transparent;\n",
              "      border-bottom-color: var(--fill-color);\n",
              "    }\n",
              "  }\n",
              "</style>\n",
              "\n",
              "  <script>\n",
              "    async function quickchart(key) {\n",
              "      const quickchartButtonEl =\n",
              "        document.querySelector('#' + key + ' button');\n",
              "      quickchartButtonEl.disabled = true;  // To prevent multiple clicks.\n",
              "      quickchartButtonEl.classList.add('colab-df-spinner');\n",
              "      try {\n",
              "        const charts = await google.colab.kernel.invokeFunction(\n",
              "            'suggestCharts', [key], {});\n",
              "      } catch (error) {\n",
              "        console.error('Error during call to suggestCharts:', error);\n",
              "      }\n",
              "      quickchartButtonEl.classList.remove('colab-df-spinner');\n",
              "      quickchartButtonEl.classList.add('colab-df-quickchart-complete');\n",
              "    }\n",
              "    (() => {\n",
              "      let quickchartButtonEl =\n",
              "        document.querySelector('#df-fecba8bf-68a9-4f92-9f49-f7f07df0ad70 button');\n",
              "      quickchartButtonEl.style.display =\n",
              "        google.colab.kernel.accessAllowed ? 'block' : 'none';\n",
              "    })();\n",
              "  </script>\n",
              "</div>\n",
              "    </div>\n",
              "  </div>\n"
            ]
          },
          "metadata": {},
          "execution_count": 48
        }
      ]
    },
    {
      "cell_type": "code",
      "source": [
        "X_train.describe().T"
      ],
      "metadata": {
        "colab": {
          "base_uri": "https://localhost:8080/",
          "height": 551
        },
        "id": "A5U2pZjyPoKq",
        "outputId": "bef75a59-f71a-48f3-eae3-f8c27d3076d9"
      },
      "execution_count": 49,
      "outputs": [
        {
          "output_type": "execute_result",
          "data": {
            "text/plain": [
              "                 count      mean       std       min       25%       50%  \\\n",
              "VMail Message   2499.0 -0.008287  0.998101 -0.591760 -0.591760 -0.591760   \n",
              "Day Mins        2499.0  0.004238  0.992617 -3.253354 -0.658752 -0.008724   \n",
              "Day Calls       2499.0  0.000166  0.994809 -3.510186 -0.619735  0.028125   \n",
              "Day Charge      2499.0  0.004233  0.992618 -3.253636 -0.659136 -0.008890   \n",
              "Eve Mins        2499.0 -0.002139  0.998469 -3.963622 -0.683946  0.000388   \n",
              "Eve Calls       2499.0 -0.008491  1.007742 -5.025911 -0.658361 -0.005739   \n",
              "Eve Charge      2499.0 -0.002134  0.998471 -3.963679 -0.684113  0.001499   \n",
              "Night Mins      2499.0 -0.004964  1.005616 -3.513648 -0.674799  0.004508   \n",
              "Night Calls     2499.0 -0.010434  0.998002 -3.429870 -0.721044 -0.005505   \n",
              "Night Charge    2499.0 -0.004982  1.005612 -3.515366 -0.674271  0.004691   \n",
              "Intl Mins       2499.0  0.007297  1.002191 -3.667413 -0.622369  0.022464   \n",
              "Intl Calls      2499.0 -0.013194  0.988044 -1.820289 -0.601195 -0.194831   \n",
              "Intl Charge     2499.0  0.007301  1.002248 -3.668210 -0.616434  0.020458   \n",
              "CustServ Calls  2499.0  0.004388  1.010525 -1.188218 -0.427932 -0.427932   \n",
              "IntPlan         2499.0  0.096839  0.295797  0.000000  0.000000  0.000000   \n",
              "VmailPlan       2499.0  0.272109  0.445135  0.000000  0.000000  0.000000   \n",
              "\n",
              "                     75%       max  \n",
              "VMail Message   0.796489  3.134591  \n",
              "Day Mins        0.670684  3.140422  \n",
              "Day Calls       0.675985  3.217588  \n",
              "Day Charge      0.670519  3.140803  \n",
              "Eve Mins        0.663028  3.209066  \n",
              "Eve Calls       0.671985  3.508382  \n",
              "Eve Charge      0.662748  3.207980  \n",
              "Night Mins      0.683815  3.839081  \n",
              "Night Calls     0.658924  3.827739  \n",
              "Night Charge    0.683654  3.836763  \n",
              "Intl Mins       0.631473  3.497397  \n",
              "Intl Calls      0.617898  5.494272  \n",
              "Intl Charge     0.630813  3.496829  \n",
              "CustServ Calls  0.332354  5.654360  \n",
              "IntPlan         0.000000  1.000000  \n",
              "VmailPlan       1.000000  1.000000  "
            ],
            "text/html": [
              "\n",
              "  <div id=\"df-a0ea902d-e7cf-4f86-91f1-374e1abad203\" class=\"colab-df-container\">\n",
              "    <div>\n",
              "<style scoped>\n",
              "    .dataframe tbody tr th:only-of-type {\n",
              "        vertical-align: middle;\n",
              "    }\n",
              "\n",
              "    .dataframe tbody tr th {\n",
              "        vertical-align: top;\n",
              "    }\n",
              "\n",
              "    .dataframe thead th {\n",
              "        text-align: right;\n",
              "    }\n",
              "</style>\n",
              "<table border=\"1\" class=\"dataframe\">\n",
              "  <thead>\n",
              "    <tr style=\"text-align: right;\">\n",
              "      <th></th>\n",
              "      <th>count</th>\n",
              "      <th>mean</th>\n",
              "      <th>std</th>\n",
              "      <th>min</th>\n",
              "      <th>25%</th>\n",
              "      <th>50%</th>\n",
              "      <th>75%</th>\n",
              "      <th>max</th>\n",
              "    </tr>\n",
              "  </thead>\n",
              "  <tbody>\n",
              "    <tr>\n",
              "      <th>VMail Message</th>\n",
              "      <td>2499.0</td>\n",
              "      <td>-0.008287</td>\n",
              "      <td>0.998101</td>\n",
              "      <td>-0.591760</td>\n",
              "      <td>-0.591760</td>\n",
              "      <td>-0.591760</td>\n",
              "      <td>0.796489</td>\n",
              "      <td>3.134591</td>\n",
              "    </tr>\n",
              "    <tr>\n",
              "      <th>Day Mins</th>\n",
              "      <td>2499.0</td>\n",
              "      <td>0.004238</td>\n",
              "      <td>0.992617</td>\n",
              "      <td>-3.253354</td>\n",
              "      <td>-0.658752</td>\n",
              "      <td>-0.008724</td>\n",
              "      <td>0.670684</td>\n",
              "      <td>3.140422</td>\n",
              "    </tr>\n",
              "    <tr>\n",
              "      <th>Day Calls</th>\n",
              "      <td>2499.0</td>\n",
              "      <td>0.000166</td>\n",
              "      <td>0.994809</td>\n",
              "      <td>-3.510186</td>\n",
              "      <td>-0.619735</td>\n",
              "      <td>0.028125</td>\n",
              "      <td>0.675985</td>\n",
              "      <td>3.217588</td>\n",
              "    </tr>\n",
              "    <tr>\n",
              "      <th>Day Charge</th>\n",
              "      <td>2499.0</td>\n",
              "      <td>0.004233</td>\n",
              "      <td>0.992618</td>\n",
              "      <td>-3.253636</td>\n",
              "      <td>-0.659136</td>\n",
              "      <td>-0.008890</td>\n",
              "      <td>0.670519</td>\n",
              "      <td>3.140803</td>\n",
              "    </tr>\n",
              "    <tr>\n",
              "      <th>Eve Mins</th>\n",
              "      <td>2499.0</td>\n",
              "      <td>-0.002139</td>\n",
              "      <td>0.998469</td>\n",
              "      <td>-3.963622</td>\n",
              "      <td>-0.683946</td>\n",
              "      <td>0.000388</td>\n",
              "      <td>0.663028</td>\n",
              "      <td>3.209066</td>\n",
              "    </tr>\n",
              "    <tr>\n",
              "      <th>Eve Calls</th>\n",
              "      <td>2499.0</td>\n",
              "      <td>-0.008491</td>\n",
              "      <td>1.007742</td>\n",
              "      <td>-5.025911</td>\n",
              "      <td>-0.658361</td>\n",
              "      <td>-0.005739</td>\n",
              "      <td>0.671985</td>\n",
              "      <td>3.508382</td>\n",
              "    </tr>\n",
              "    <tr>\n",
              "      <th>Eve Charge</th>\n",
              "      <td>2499.0</td>\n",
              "      <td>-0.002134</td>\n",
              "      <td>0.998471</td>\n",
              "      <td>-3.963679</td>\n",
              "      <td>-0.684113</td>\n",
              "      <td>0.001499</td>\n",
              "      <td>0.662748</td>\n",
              "      <td>3.207980</td>\n",
              "    </tr>\n",
              "    <tr>\n",
              "      <th>Night Mins</th>\n",
              "      <td>2499.0</td>\n",
              "      <td>-0.004964</td>\n",
              "      <td>1.005616</td>\n",
              "      <td>-3.513648</td>\n",
              "      <td>-0.674799</td>\n",
              "      <td>0.004508</td>\n",
              "      <td>0.683815</td>\n",
              "      <td>3.839081</td>\n",
              "    </tr>\n",
              "    <tr>\n",
              "      <th>Night Calls</th>\n",
              "      <td>2499.0</td>\n",
              "      <td>-0.010434</td>\n",
              "      <td>0.998002</td>\n",
              "      <td>-3.429870</td>\n",
              "      <td>-0.721044</td>\n",
              "      <td>-0.005505</td>\n",
              "      <td>0.658924</td>\n",
              "      <td>3.827739</td>\n",
              "    </tr>\n",
              "    <tr>\n",
              "      <th>Night Charge</th>\n",
              "      <td>2499.0</td>\n",
              "      <td>-0.004982</td>\n",
              "      <td>1.005612</td>\n",
              "      <td>-3.515366</td>\n",
              "      <td>-0.674271</td>\n",
              "      <td>0.004691</td>\n",
              "      <td>0.683654</td>\n",
              "      <td>3.836763</td>\n",
              "    </tr>\n",
              "    <tr>\n",
              "      <th>Intl Mins</th>\n",
              "      <td>2499.0</td>\n",
              "      <td>0.007297</td>\n",
              "      <td>1.002191</td>\n",
              "      <td>-3.667413</td>\n",
              "      <td>-0.622369</td>\n",
              "      <td>0.022464</td>\n",
              "      <td>0.631473</td>\n",
              "      <td>3.497397</td>\n",
              "    </tr>\n",
              "    <tr>\n",
              "      <th>Intl Calls</th>\n",
              "      <td>2499.0</td>\n",
              "      <td>-0.013194</td>\n",
              "      <td>0.988044</td>\n",
              "      <td>-1.820289</td>\n",
              "      <td>-0.601195</td>\n",
              "      <td>-0.194831</td>\n",
              "      <td>0.617898</td>\n",
              "      <td>5.494272</td>\n",
              "    </tr>\n",
              "    <tr>\n",
              "      <th>Intl Charge</th>\n",
              "      <td>2499.0</td>\n",
              "      <td>0.007301</td>\n",
              "      <td>1.002248</td>\n",
              "      <td>-3.668210</td>\n",
              "      <td>-0.616434</td>\n",
              "      <td>0.020458</td>\n",
              "      <td>0.630813</td>\n",
              "      <td>3.496829</td>\n",
              "    </tr>\n",
              "    <tr>\n",
              "      <th>CustServ Calls</th>\n",
              "      <td>2499.0</td>\n",
              "      <td>0.004388</td>\n",
              "      <td>1.010525</td>\n",
              "      <td>-1.188218</td>\n",
              "      <td>-0.427932</td>\n",
              "      <td>-0.427932</td>\n",
              "      <td>0.332354</td>\n",
              "      <td>5.654360</td>\n",
              "    </tr>\n",
              "    <tr>\n",
              "      <th>IntPlan</th>\n",
              "      <td>2499.0</td>\n",
              "      <td>0.096839</td>\n",
              "      <td>0.295797</td>\n",
              "      <td>0.000000</td>\n",
              "      <td>0.000000</td>\n",
              "      <td>0.000000</td>\n",
              "      <td>0.000000</td>\n",
              "      <td>1.000000</td>\n",
              "    </tr>\n",
              "    <tr>\n",
              "      <th>VmailPlan</th>\n",
              "      <td>2499.0</td>\n",
              "      <td>0.272109</td>\n",
              "      <td>0.445135</td>\n",
              "      <td>0.000000</td>\n",
              "      <td>0.000000</td>\n",
              "      <td>0.000000</td>\n",
              "      <td>1.000000</td>\n",
              "      <td>1.000000</td>\n",
              "    </tr>\n",
              "  </tbody>\n",
              "</table>\n",
              "</div>\n",
              "    <div class=\"colab-df-buttons\">\n",
              "\n",
              "  <div class=\"colab-df-container\">\n",
              "    <button class=\"colab-df-convert\" onclick=\"convertToInteractive('df-a0ea902d-e7cf-4f86-91f1-374e1abad203')\"\n",
              "            title=\"Convert this dataframe to an interactive table.\"\n",
              "            style=\"display:none;\">\n",
              "\n",
              "  <svg xmlns=\"http://www.w3.org/2000/svg\" height=\"24px\" viewBox=\"0 -960 960 960\">\n",
              "    <path d=\"M120-120v-720h720v720H120Zm60-500h600v-160H180v160Zm220 220h160v-160H400v160Zm0 220h160v-160H400v160ZM180-400h160v-160H180v160Zm440 0h160v-160H620v160ZM180-180h160v-160H180v160Zm440 0h160v-160H620v160Z\"/>\n",
              "  </svg>\n",
              "    </button>\n",
              "\n",
              "  <style>\n",
              "    .colab-df-container {\n",
              "      display:flex;\n",
              "      gap: 12px;\n",
              "    }\n",
              "\n",
              "    .colab-df-convert {\n",
              "      background-color: #E8F0FE;\n",
              "      border: none;\n",
              "      border-radius: 50%;\n",
              "      cursor: pointer;\n",
              "      display: none;\n",
              "      fill: #1967D2;\n",
              "      height: 32px;\n",
              "      padding: 0 0 0 0;\n",
              "      width: 32px;\n",
              "    }\n",
              "\n",
              "    .colab-df-convert:hover {\n",
              "      background-color: #E2EBFA;\n",
              "      box-shadow: 0px 1px 2px rgba(60, 64, 67, 0.3), 0px 1px 3px 1px rgba(60, 64, 67, 0.15);\n",
              "      fill: #174EA6;\n",
              "    }\n",
              "\n",
              "    .colab-df-buttons div {\n",
              "      margin-bottom: 4px;\n",
              "    }\n",
              "\n",
              "    [theme=dark] .colab-df-convert {\n",
              "      background-color: #3B4455;\n",
              "      fill: #D2E3FC;\n",
              "    }\n",
              "\n",
              "    [theme=dark] .colab-df-convert:hover {\n",
              "      background-color: #434B5C;\n",
              "      box-shadow: 0px 1px 3px 1px rgba(0, 0, 0, 0.15);\n",
              "      filter: drop-shadow(0px 1px 2px rgba(0, 0, 0, 0.3));\n",
              "      fill: #FFFFFF;\n",
              "    }\n",
              "  </style>\n",
              "\n",
              "    <script>\n",
              "      const buttonEl =\n",
              "        document.querySelector('#df-a0ea902d-e7cf-4f86-91f1-374e1abad203 button.colab-df-convert');\n",
              "      buttonEl.style.display =\n",
              "        google.colab.kernel.accessAllowed ? 'block' : 'none';\n",
              "\n",
              "      async function convertToInteractive(key) {\n",
              "        const element = document.querySelector('#df-a0ea902d-e7cf-4f86-91f1-374e1abad203');\n",
              "        const dataTable =\n",
              "          await google.colab.kernel.invokeFunction('convertToInteractive',\n",
              "                                                    [key], {});\n",
              "        if (!dataTable) return;\n",
              "\n",
              "        const docLinkHtml = 'Like what you see? Visit the ' +\n",
              "          '<a target=\"_blank\" href=https://colab.research.google.com/notebooks/data_table.ipynb>data table notebook</a>'\n",
              "          + ' to learn more about interactive tables.';\n",
              "        element.innerHTML = '';\n",
              "        dataTable['output_type'] = 'display_data';\n",
              "        await google.colab.output.renderOutput(dataTable, element);\n",
              "        const docLink = document.createElement('div');\n",
              "        docLink.innerHTML = docLinkHtml;\n",
              "        element.appendChild(docLink);\n",
              "      }\n",
              "    </script>\n",
              "  </div>\n",
              "\n",
              "\n",
              "<div id=\"df-3c2f231b-8e96-40cb-9916-97328c1d9053\">\n",
              "  <button class=\"colab-df-quickchart\" onclick=\"quickchart('df-3c2f231b-8e96-40cb-9916-97328c1d9053')\"\n",
              "            title=\"Suggest charts\"\n",
              "            style=\"display:none;\">\n",
              "\n",
              "<svg xmlns=\"http://www.w3.org/2000/svg\" height=\"24px\"viewBox=\"0 0 24 24\"\n",
              "     width=\"24px\">\n",
              "    <g>\n",
              "        <path d=\"M19 3H5c-1.1 0-2 .9-2 2v14c0 1.1.9 2 2 2h14c1.1 0 2-.9 2-2V5c0-1.1-.9-2-2-2zM9 17H7v-7h2v7zm4 0h-2V7h2v10zm4 0h-2v-4h2v4z\"/>\n",
              "    </g>\n",
              "</svg>\n",
              "  </button>\n",
              "\n",
              "<style>\n",
              "  .colab-df-quickchart {\n",
              "      --bg-color: #E8F0FE;\n",
              "      --fill-color: #1967D2;\n",
              "      --hover-bg-color: #E2EBFA;\n",
              "      --hover-fill-color: #174EA6;\n",
              "      --disabled-fill-color: #AAA;\n",
              "      --disabled-bg-color: #DDD;\n",
              "  }\n",
              "\n",
              "  [theme=dark] .colab-df-quickchart {\n",
              "      --bg-color: #3B4455;\n",
              "      --fill-color: #D2E3FC;\n",
              "      --hover-bg-color: #434B5C;\n",
              "      --hover-fill-color: #FFFFFF;\n",
              "      --disabled-bg-color: #3B4455;\n",
              "      --disabled-fill-color: #666;\n",
              "  }\n",
              "\n",
              "  .colab-df-quickchart {\n",
              "    background-color: var(--bg-color);\n",
              "    border: none;\n",
              "    border-radius: 50%;\n",
              "    cursor: pointer;\n",
              "    display: none;\n",
              "    fill: var(--fill-color);\n",
              "    height: 32px;\n",
              "    padding: 0;\n",
              "    width: 32px;\n",
              "  }\n",
              "\n",
              "  .colab-df-quickchart:hover {\n",
              "    background-color: var(--hover-bg-color);\n",
              "    box-shadow: 0 1px 2px rgba(60, 64, 67, 0.3), 0 1px 3px 1px rgba(60, 64, 67, 0.15);\n",
              "    fill: var(--button-hover-fill-color);\n",
              "  }\n",
              "\n",
              "  .colab-df-quickchart-complete:disabled,\n",
              "  .colab-df-quickchart-complete:disabled:hover {\n",
              "    background-color: var(--disabled-bg-color);\n",
              "    fill: var(--disabled-fill-color);\n",
              "    box-shadow: none;\n",
              "  }\n",
              "\n",
              "  .colab-df-spinner {\n",
              "    border: 2px solid var(--fill-color);\n",
              "    border-color: transparent;\n",
              "    border-bottom-color: var(--fill-color);\n",
              "    animation:\n",
              "      spin 1s steps(1) infinite;\n",
              "  }\n",
              "\n",
              "  @keyframes spin {\n",
              "    0% {\n",
              "      border-color: transparent;\n",
              "      border-bottom-color: var(--fill-color);\n",
              "      border-left-color: var(--fill-color);\n",
              "    }\n",
              "    20% {\n",
              "      border-color: transparent;\n",
              "      border-left-color: var(--fill-color);\n",
              "      border-top-color: var(--fill-color);\n",
              "    }\n",
              "    30% {\n",
              "      border-color: transparent;\n",
              "      border-left-color: var(--fill-color);\n",
              "      border-top-color: var(--fill-color);\n",
              "      border-right-color: var(--fill-color);\n",
              "    }\n",
              "    40% {\n",
              "      border-color: transparent;\n",
              "      border-right-color: var(--fill-color);\n",
              "      border-top-color: var(--fill-color);\n",
              "    }\n",
              "    60% {\n",
              "      border-color: transparent;\n",
              "      border-right-color: var(--fill-color);\n",
              "    }\n",
              "    80% {\n",
              "      border-color: transparent;\n",
              "      border-right-color: var(--fill-color);\n",
              "      border-bottom-color: var(--fill-color);\n",
              "    }\n",
              "    90% {\n",
              "      border-color: transparent;\n",
              "      border-bottom-color: var(--fill-color);\n",
              "    }\n",
              "  }\n",
              "</style>\n",
              "\n",
              "  <script>\n",
              "    async function quickchart(key) {\n",
              "      const quickchartButtonEl =\n",
              "        document.querySelector('#' + key + ' button');\n",
              "      quickchartButtonEl.disabled = true;  // To prevent multiple clicks.\n",
              "      quickchartButtonEl.classList.add('colab-df-spinner');\n",
              "      try {\n",
              "        const charts = await google.colab.kernel.invokeFunction(\n",
              "            'suggestCharts', [key], {});\n",
              "      } catch (error) {\n",
              "        console.error('Error during call to suggestCharts:', error);\n",
              "      }\n",
              "      quickchartButtonEl.classList.remove('colab-df-spinner');\n",
              "      quickchartButtonEl.classList.add('colab-df-quickchart-complete');\n",
              "    }\n",
              "    (() => {\n",
              "      let quickchartButtonEl =\n",
              "        document.querySelector('#df-3c2f231b-8e96-40cb-9916-97328c1d9053 button');\n",
              "      quickchartButtonEl.style.display =\n",
              "        google.colab.kernel.accessAllowed ? 'block' : 'none';\n",
              "    })();\n",
              "  </script>\n",
              "</div>\n",
              "    </div>\n",
              "  </div>\n"
            ]
          },
          "metadata": {},
          "execution_count": 49
        }
      ]
    },
    {
      "cell_type": "code",
      "source": [],
      "metadata": {
        "id": "Oc1KSyfBoecg"
      },
      "execution_count": 49,
      "outputs": []
    },
    {
      "cell_type": "markdown",
      "source": [
        "# Regresión Logística 3\n",
        "\n",
        "Ahora probamos la regresión logística a partir de los datos balanceados"
      ],
      "metadata": {
        "id": "S8czeWJlqp9U"
      }
    },
    {
      "cell_type": "code",
      "source": [
        "RegLog = LogisticRegression(C=1.0,\n",
        "                            class_weight='balanced',\n",
        "                            dual=False,\n",
        "                            fit_intercept=True,\n",
        "                            intercept_scaling=1,\n",
        "                            max_iter=100,\n",
        "                            multi_class='ovr',\n",
        "                            n_jobs=1,\n",
        "                            penalty='l2',\n",
        "                            random_state=None,\n",
        "                            solver='liblinear',\n",
        "                            tol=0.0001,\n",
        "                            verbose=0,\n",
        "                            warm_start=False)\n",
        "\n",
        "# Aplicamos el modelo a los datos de train\n",
        "\n",
        "RegLog.fit(X_train, y_train)\n",
        "RegLog.coef_\n",
        "\n",
        "# Realizamos la prediccion sobre los datos de test\n",
        "prediccion = RegLog.predict(X_test)\n",
        "\n",
        "# Comprobamos la precision del modelo con respecto a los datos de testeo.\n",
        "precision = RegLog.score(X_test, y_test)"
      ],
      "metadata": {
        "id": "lfqWA1ZEolez"
      },
      "execution_count": 50,
      "outputs": []
    },
    {
      "cell_type": "code",
      "source": [
        "print(precision)"
      ],
      "metadata": {
        "colab": {
          "base_uri": "https://localhost:8080/"
        },
        "id": "adOC3D6SpKx_",
        "outputId": "27d4ce64-cdb2-47ca-a94c-778a7ea9b232"
      },
      "execution_count": 51,
      "outputs": [
        {
          "output_type": "stream",
          "name": "stdout",
          "text": [
            "0.7805755395683454\n"
          ]
        }
      ]
    },
    {
      "cell_type": "code",
      "source": [
        "confusion = confusion_matrix(y_test, prediccion)"
      ],
      "metadata": {
        "id": "65_KOju7pMmJ"
      },
      "execution_count": 52,
      "outputs": []
    },
    {
      "cell_type": "code",
      "source": [
        "cuadro_matriz_confusion(confusion)"
      ],
      "metadata": {
        "colab": {
          "base_uri": "https://localhost:8080/",
          "height": 472
        },
        "id": "1zP0unA-pNF_",
        "outputId": "581f8150-4838-4c5b-ee8c-b3153b8f0309"
      },
      "execution_count": 53,
      "outputs": [
        {
          "output_type": "display_data",
          "data": {
            "text/plain": [
              "<Figure size 640x480 with 2 Axes>"
            ],
            "image/png": "[encoded data removed]"
          },
          "metadata": {}
        }
      ]
    },
    {
      "cell_type": "code",
      "source": [
        "resumen_metricas(confusion, y_test)"
      ],
      "metadata": {
        "colab": {
          "base_uri": "https://localhost:8080/"
        },
        "id": "rI8yPFCJpqGB",
        "outputId": "6bfcab57-f45f-4fd9-a19a-b4d76da459a7"
      },
      "execution_count": 54,
      "outputs": [
        {
          "output_type": "stream",
          "name": "stdout",
          "text": [
            "Precisión (Accuracy): 0.7805755395683454\n",
            "Sensibilidad (Recall): 0.792\n",
            "Especificidad: 0.7785613540197461\n",
            "Valor Predictivo Positivo (PPV): 0.38671875\n"
          ]
        }
      ]
    },
    {
      "cell_type": "markdown",
      "source": [
        "# KNeighborsClassifier\n",
        "\n",
        "El valor de k se puede ajustar para mejorar el rendimiento del modelo. Si se establece k en 1, el modelo utilizará solo el vecino más cercano para la predicción, pero esto puede llevar a una sobreajuste del modelo, ya que el modelo puede estar demasiado ajustado a los datos de entrenamiento.\n",
        "\n",
        "En cambio, si se establece k en un valor demasiado grande, el modelo puede no ser lo suficientemente sensible a los detalles del conjunto de datos.\n",
        "\n",
        "(No podemos obtener el óptimo de vecinos por el método del codo de KMeans ya que KMeans es un método para datos sin etiquetar (no supervisados)\n",
        "\n",
        "Además, antes de aplicar KNeighborsClassifier, se recomienda normalizar los datos, ya que la distancia entre los puntos de datos es un factor importante en este algoritmo. La normalización asegura que los puntos de datos tengan la misma escala y no se vean afectados por los diferentes rangos de valores."
      ],
      "metadata": {
        "id": "DeUwWkdJngsK"
      }
    },
    {
      "cell_type": "code",
      "source": [
        "from sklearn.neighbors import KNeighborsClassifier\n",
        "# Creamos el modelo\n",
        "# https://scikit-learn.org/stable/modules/generated/sklearn.neighbors.KNeighborsClassifier.html\n",
        "knn = KNeighborsClassifier(algorithm='auto',\n",
        "                           leaf_size=30,\n",
        "                           metric='minkowski',\n",
        "                           metric_params=None,\n",
        "                           n_jobs=1,\n",
        "                           n_neighbors=5,\n",
        "                           p=2,\n",
        "                           weights='uniform')\n",
        "\n",
        "\n",
        "knn.fit(X_train, y_train)"
      ],
      "metadata": {
        "colab": {
          "base_uri": "https://localhost:8080/",
          "height": 74
        },
        "id": "ZG8nEEhGRlDe",
        "outputId": "7a06fcc0-ae3f-4bf4-d506-b04d7c4cd959"
      },
      "execution_count": 55,
      "outputs": [
        {
          "output_type": "execute_result",
          "data": {
            "text/plain": [
              "KNeighborsClassifier(n_jobs=1)"
            ],
            "text/html": [
              "<style>#sk-container-id-1 {color: black;background-color: white;}#sk-container-id-1 pre{padding: 0;}#sk-container-id-1 div.sk-toggleable {background-color: white;}#sk-container-id-1 label.sk-toggleable__label {cursor: pointer;display: block;width: 100%;margin-bottom: 0;padding: 0.3em;box-sizing: border-box;text-align: center;}#sk-container-id-1 label.sk-toggleable__label-arrow:before {content: \"▸\";float: left;margin-right: 0.25em;color: #696969;}#sk-container-id-1 label.sk-toggleable__label-arrow:hover:before {color: black;}#sk-container-id-1 div.sk-estimator:hover label.sk-toggleable__label-arrow:before {color: black;}#sk-container-id-1 div.sk-toggleable__content {max-height: 0;max-width: 0;overflow: hidden;text-align: left;background-color: #f0f8ff;}#sk-container-id-1 div.sk-toggleable__content pre {margin: 0.2em;color: black;border-radius: 0.25em;background-color: #f0f8ff;}#sk-container-id-1 input.sk-toggleable__control:checked~div.sk-toggleable__content {max-height: 200px;max-width: 100%;overflow: auto;}#sk-container-id-1 input.sk-toggleable__control:checked~label.sk-toggleable__label-arrow:before {content: \"▾\";}#sk-container-id-1 div.sk-estimator input.sk-toggleable__control:checked~label.sk-toggleable__label {background-color: #d4ebff;}#sk-container-id-1 div.sk-label input.sk-toggleable__control:checked~label.sk-toggleable__label {background-color: #d4ebff;}#sk-container-id-1 input.sk-hidden--visually {border: 0;clip: rect(1px 1px 1px 1px);clip: rect(1px, 1px, 1px, 1px);height: 1px;margin: -1px;overflow: hidden;padding: 0;position: absolute;width: 1px;}#sk-container-id-1 div.sk-estimator {font-family: monospace;background-color: #f0f8ff;border: 1px dotted black;border-radius: 0.25em;box-sizing: border-box;margin-bottom: 0.5em;}#sk-container-id-1 div.sk-estimator:hover {background-color: #d4ebff;}#sk-container-id-1 div.sk-parallel-item::after {content: \"\";width: 100%;border-bottom: 1px solid gray;flex-grow: 1;}#sk-container-id-1 div.sk-label:hover label.sk-toggleable__label {background-color: #d4ebff;}#sk-container-id-1 div.sk-serial::before {content: \"\";position: absolute;border-left: 1px solid gray;box-sizing: border-box;top: 0;bottom: 0;left: 50%;z-index: 0;}#sk-container-id-1 div.sk-serial {display: flex;flex-direction: column;align-items: center;background-color: white;padding-right: 0.2em;padding-left: 0.2em;position: relative;}#sk-container-id-1 div.sk-item {position: relative;z-index: 1;}#sk-container-id-1 div.sk-parallel {display: flex;align-items: stretch;justify-content: center;background-color: white;position: relative;}#sk-container-id-1 div.sk-item::before, #sk-container-id-1 div.sk-parallel-item::before {content: \"\";position: absolute;border-left: 1px solid gray;box-sizing: border-box;top: 0;bottom: 0;left: 50%;z-index: -1;}#sk-container-id-1 div.sk-parallel-item {display: flex;flex-direction: column;z-index: 1;position: relative;background-color: white;}#sk-container-id-1 div.sk-parallel-item:first-child::after {align-self: flex-end;width: 50%;}#sk-container-id-1 div.sk-parallel-item:last-child::after {align-self: flex-start;width: 50%;}#sk-container-id-1 div.sk-parallel-item:only-child::after {width: 0;}#sk-container-id-1 div.sk-dashed-wrapped {border: 1px dashed gray;margin: 0 0.4em 0.5em 0.4em;box-sizing: border-box;padding-bottom: 0.4em;background-color: white;}#sk-container-id-1 div.sk-label label {font-family: monospace;font-weight: bold;display: inline-block;line-height: 1.2em;}#sk-container-id-1 div.sk-label-container {text-align: center;}#sk-container-id-1 div.sk-container {/* jupyter's `normalize.less` sets `[hidden] { display: none; }` but bootstrap.min.css set `[hidden] { display: none !important; }` so we also need the `!important` here to be able to override the default hidden behavior on the sphinx rendered scikit-learn.org. See: https://github.com/scikit-learn/scikit-learn/issues/21755 */display: inline-block !important;position: relative;}#sk-container-id-1 div.sk-text-repr-fallback {display: none;}</style><div id=\"sk-container-id-1\" class=\"sk-top-container\"><div class=\"sk-text-repr-fallback\"><pre>KNeighborsClassifier(n_jobs=1)</pre><b>In a Jupyter environment, please rerun this cell to show the HTML representation or trust the notebook. <br />On GitHub, the HTML representation is unable to render, please try loading this page with nbviewer.org.</b></div><div class=\"sk-container\" hidden><div class=\"sk-item\"><div class=\"sk-estimator sk-toggleable\"><input class=\"sk-toggleable__control sk-hidden--visually\" id=\"sk-estimator-id-1\" type=\"checkbox\" checked><label for=\"sk-estimator-id-1\" class=\"sk-toggleable__label sk-toggleable__label-arrow\">KNeighborsClassifier</label><div class=\"sk-toggleable__content\"><pre>KNeighborsClassifier(n_jobs=1)</pre></div></div></div></div></div>"
            ]
          },
          "metadata": {},
          "execution_count": 55
        }
      ]
    },
    {
      "cell_type": "code",
      "source": [
        "prediccion = knn.predict(X_test)\n",
        "print(prediccion)"
      ],
      "metadata": {
        "colab": {
          "base_uri": "https://localhost:8080/"
        },
        "id": "SnrixyByUPIl",
        "outputId": "787cfa31-8afa-4fee-b299-37d5bcd46092"
      },
      "execution_count": 56,
      "outputs": [
        {
          "output_type": "stream",
          "name": "stdout",
          "text": [
            "[0 0 1 0 0 0 0 0 0 0 0 0 0 0 0 0 0 1 0 0 0 0 0 0 0 0 0 0 0 0 0 0 0 0 0 0 0\n",
            " 0 0 0 0 0 0 0 0 0 0 0 0 0 0 0 0 0 0 0 0 0 0 0 0 0 0 0 0 0 0 0 0 0 0 0 0 1\n",
            " 0 0 0 0 0 0 0 0 0 0 0 0 0 0 0 0 0 1 1 0 0 0 0 0 0 0 0 0 0 0 0 0 0 0 0 0 0\n",
            " 0 0 0 0 0 0 0 1 0 0 0 0 0 0 0 0 1 0 0 0 0 0 0 0 0 0 0 0 0 0 0 0 0 0 0 0 0\n",
            " 0 0 0 0 0 0 0 0 0 0 0 0 0 0 0 0 0 0 0 0 1 1 0 0 0 0 0 0 0 0 0 1 0 1 0 0 0\n",
            " 0 0 0 0 0 0 0 0 0 0 0 0 0 0 0 0 0 0 0 0 0 0 0 0 0 0 0 0 0 1 0 0 0 0 0 0 0\n",
            " 0 0 0 0 0 0 0 0 0 0 0 0 0 0 0 0 0 0 0 0 0 0 0 0 0 0 0 0 0 0 0 0 0 0 0 0 0\n",
            " 0 0 0 0 1 0 0 0 0 0 0 1 0 0 0 1 0 0 0 0 0 0 0 0 0 0 0 0 0 0 0 0 0 0 0 0 0\n",
            " 0 1 0 0 0 0 0 0 0 0 0 0 0 0 0 0 0 0 0 0 0 0 0 0 0 0 0 0 0 0 0 0 0 0 0 0 0\n",
            " 0 0 0 1 0 0 0 0 0 0 1 0 0 1 0 0 0 0 0 0 0 0 0 0 0 0 0 0 0 0 0 0 0 0 0 0 0\n",
            " 0 0 0 0 0 0 0 0 0 0 0 0 0 0 0 0 0 0 1 0 0 0 0 0 0 0 0 0 0 1 0 0 0 0 0 0 0\n",
            " 0 0 0 0 0 0 0 0 1 0 0 0 0 1 0 0 0 0 0 0 0 0 0 0 0 0 0 0 0 0 1 0 0 0 0 0 0\n",
            " 0 0 0 0 0 0 0 0 0 0 0 0 0 0 0 0 0 0 0 0 0 0 0 0 0 0 0 0 0 0 0 0 0 0 0 0 0\n",
            " 0 0 0 0 0 0 0 0 0 0 1 0 0 0 0 0 0 0 0 0 0 0 0 0 0 0 0 0 0 0 0 0 0 0 0 0 0\n",
            " 1 0 0 0 0 0 0 0 0 0 0 0 0 0 0 0 0 0 0 0 0 0 0 0 0 0 0 0 0 0 0 0 0 0 0 0 0\n",
            " 0 0 0 0 0 0 0 0 0 0 0 0 0 0 0 0 0 0 0 0 0 0 0 0 0 0 0 1 0 0 0 0 0 0 0 0 0\n",
            " 0 0 0 0 0 0 0 0 0 0 0 0 0 0 1 0 0 0 0 0 0 0 0 0 0 0 0 0 0 0 0 0 0 0 0 1 0\n",
            " 0 0 0 1 0 0 0 0 0 0 0 1 0 0 0 0 0 0 1 0 0 0 0 0 0 0 0 0 0 0 0 0 1 0 0 0 0\n",
            " 0 0 0 1 0 0 0 0 0 0 0 0 0 0 0 0 1 0 0 0 0 0 0 0 0 0 0 0 0 0 0 0 0 0 0 1 0\n",
            " 0 0 0 0 0 0 0 0 0 0 0 0 0 0 0 0 0 0 0 0 0 0 0 0 0 0 0 0 0 0 0 0 0 0 0 0 0\n",
            " 0 0 0 0 0 0 0 0 0 0 0 0 0 0 0 0 0 0 0 0 0 0 0 0 0 0 0 0 0 0 0 0 0 0 0 0 0\n",
            " 0 0 0 0 0 0 0 0 1 0 0 0 0 0 1 0 0 0 0 0 0 0 0 0 0 0 0 0 0 0 0 0 1 0 0 0 0\n",
            " 0 0 0 0 0 0 0 0 0 0 0 0 0 0 0 0 0 0 0 0]\n"
          ]
        }
      ]
    },
    {
      "cell_type": "code",
      "source": [
        "confusion = confusion_matrix(y_test, prediccion)"
      ],
      "metadata": {
        "id": "ROhkGYogUwW_"
      },
      "execution_count": 57,
      "outputs": []
    },
    {
      "cell_type": "code",
      "source": [
        "cuadro_matriz_confusion(confusion)"
      ],
      "metadata": {
        "id": "tzFYS3ceU7HN",
        "colab": {
          "base_uri": "https://localhost:8080/",
          "height": 472
        },
        "outputId": "0859b11e-e453-4d49-d14f-0516f9b5c96f"
      },
      "execution_count": 58,
      "outputs": [
        {
          "output_type": "display_data",
          "data": {
            "text/plain": [
              "<Figure size 640x480 with 2 Axes>"
            ],
            "image/png": "[encoded data removed]"
          },
          "metadata": {}
        }
      ]
    },
    {
      "cell_type": "code",
      "source": [
        "resumen_metricas(confusion, y_test)"
      ],
      "metadata": {
        "colab": {
          "base_uri": "https://localhost:8080/"
        },
        "id": "Gxp3L9gIj5nu",
        "outputId": "55e1f48d-a040-4264-a311-576c02fbb654"
      },
      "execution_count": 59,
      "outputs": [
        {
          "output_type": "stream",
          "name": "stdout",
          "text": [
            "Precisión (Accuracy): 0.8896882494004796\n",
            "Sensibilidad (Recall): 0.288\n",
            "Especificidad: 0.995768688293371\n",
            "Valor Predictivo Positivo (PPV): 0.9230769230769231\n"
          ]
        }
      ]
    },
    {
      "cell_type": "code",
      "source": [],
      "metadata": {
        "id": "OOUHNW3DkRBF"
      },
      "execution_count": 59,
      "outputs": []
    },
    {
      "cell_type": "markdown",
      "source": [
        "# Naïve Bayes\n",
        "Utiliza la probabilidad condicional para predecir la etiqueta de clase de un nuevo punto de datos.\n",
        "\n",
        "La probabilidad condicional es la probabilidad de que un evento ocurra, dado que otro evento ya ha ocurrido. En el caso de Naive Bayes, la probabilidad condicional se utiliza para calcular la probabilidad de que un punto de datos pertenezca a una determinada clase, dadas sus características.\n",
        "\n",
        "https://scikit-learn.org/stable/modules/generated/sklearn.naive_bayes.GaussianNB.html"
      ],
      "metadata": {
        "id": "erVzdoMWsdkL"
      }
    },
    {
      "cell_type": "code",
      "source": [
        "from sklearn.naive_bayes import GaussianNB\n",
        "from sklearn.model_selection import train_test_split\n",
        "from sklearn.metrics import accuracy_score\n",
        "from sklearn.model_selection import cross_val_score"
      ],
      "metadata": {
        "id": "xhO_Sr57s7Qp"
      },
      "execution_count": 60,
      "outputs": []
    },
    {
      "cell_type": "markdown",
      "source": [
        "## Sin validación cruzada"
      ],
      "metadata": {
        "id": "qa7Y8qjZwpXs"
      }
    },
    {
      "cell_type": "code",
      "source": [
        "y = datosfinal['Churn']\n",
        "X = datosfinal.drop('Churn', axis = 1)\n",
        "X_train, X_test, y_train, y_test = train_test_split(X, y, test_size=0.25, random_state=30)"
      ],
      "metadata": {
        "id": "_rTqU959tVya"
      },
      "execution_count": 61,
      "outputs": []
    },
    {
      "cell_type": "markdown",
      "source": [],
      "metadata": {
        "id": "-RDmftlaw4J3"
      }
    },
    {
      "cell_type": "code",
      "source": [
        "gnb = GaussianNB()\n",
        "gnb.fit(X_train, y_train)"
      ],
      "metadata": {
        "colab": {
          "base_uri": "https://localhost:8080/",
          "height": 74
        },
        "id": "ADdLubYfw4-o",
        "outputId": "f4a8fa22-60bf-4260-f7b8-779610c601a6"
      },
      "execution_count": 62,
      "outputs": [
        {
          "output_type": "execute_result",
          "data": {
            "text/plain": [
              "GaussianNB()"
            ],
            "text/html": [
              "<style>#sk-container-id-2 {color: black;background-color: white;}#sk-container-id-2 pre{padding: 0;}#sk-container-id-2 div.sk-toggleable {background-color: white;}#sk-container-id-2 label.sk-toggleable__label {cursor: pointer;display: block;width: 100%;margin-bottom: 0;padding: 0.3em;box-sizing: border-box;text-align: center;}#sk-container-id-2 label.sk-toggleable__label-arrow:before {content: \"▸\";float: left;margin-right: 0.25em;color: #696969;}#sk-container-id-2 label.sk-toggleable__label-arrow:hover:before {color: black;}#sk-container-id-2 div.sk-estimator:hover label.sk-toggleable__label-arrow:before {color: black;}#sk-container-id-2 div.sk-toggleable__content {max-height: 0;max-width: 0;overflow: hidden;text-align: left;background-color: #f0f8ff;}#sk-container-id-2 div.sk-toggleable__content pre {margin: 0.2em;color: black;border-radius: 0.25em;background-color: #f0f8ff;}#sk-container-id-2 input.sk-toggleable__control:checked~div.sk-toggleable__content {max-height: 200px;max-width: 100%;overflow: auto;}#sk-container-id-2 input.sk-toggleable__control:checked~label.sk-toggleable__label-arrow:before {content: \"▾\";}#sk-container-id-2 div.sk-estimator input.sk-toggleable__control:checked~label.sk-toggleable__label {background-color: #d4ebff;}#sk-container-id-2 div.sk-label input.sk-toggleable__control:checked~label.sk-toggleable__label {background-color: #d4ebff;}#sk-container-id-2 input.sk-hidden--visually {border: 0;clip: rect(1px 1px 1px 1px);clip: rect(1px, 1px, 1px, 1px);height: 1px;margin: -1px;overflow: hidden;padding: 0;position: absolute;width: 1px;}#sk-container-id-2 div.sk-estimator {font-family: monospace;background-color: #f0f8ff;border: 1px dotted black;border-radius: 0.25em;box-sizing: border-box;margin-bottom: 0.5em;}#sk-container-id-2 div.sk-estimator:hover {background-color: #d4ebff;}#sk-container-id-2 div.sk-parallel-item::after {content: \"\";width: 100%;border-bottom: 1px solid gray;flex-grow: 1;}#sk-container-id-2 div.sk-label:hover label.sk-toggleable__label {background-color: #d4ebff;}#sk-container-id-2 div.sk-serial::before {content: \"\";position: absolute;border-left: 1px solid gray;box-sizing: border-box;top: 0;bottom: 0;left: 50%;z-index: 0;}#sk-container-id-2 div.sk-serial {display: flex;flex-direction: column;align-items: center;background-color: white;padding-right: 0.2em;padding-left: 0.2em;position: relative;}#sk-container-id-2 div.sk-item {position: relative;z-index: 1;}#sk-container-id-2 div.sk-parallel {display: flex;align-items: stretch;justify-content: center;background-color: white;position: relative;}#sk-container-id-2 div.sk-item::before, #sk-container-id-2 div.sk-parallel-item::before {content: \"\";position: absolute;border-left: 1px solid gray;box-sizing: border-box;top: 0;bottom: 0;left: 50%;z-index: -1;}#sk-container-id-2 div.sk-parallel-item {display: flex;flex-direction: column;z-index: 1;position: relative;background-color: white;}#sk-container-id-2 div.sk-parallel-item:first-child::after {align-self: flex-end;width: 50%;}#sk-container-id-2 div.sk-parallel-item:last-child::after {align-self: flex-start;width: 50%;}#sk-container-id-2 div.sk-parallel-item:only-child::after {width: 0;}#sk-container-id-2 div.sk-dashed-wrapped {border: 1px dashed gray;margin: 0 0.4em 0.5em 0.4em;box-sizing: border-box;padding-bottom: 0.4em;background-color: white;}#sk-container-id-2 div.sk-label label {font-family: monospace;font-weight: bold;display: inline-block;line-height: 1.2em;}#sk-container-id-2 div.sk-label-container {text-align: center;}#sk-container-id-2 div.sk-container {/* jupyter's `normalize.less` sets `[hidden] { display: none; }` but bootstrap.min.css set `[hidden] { display: none !important; }` so we also need the `!important` here to be able to override the default hidden behavior on the sphinx rendered scikit-learn.org. See: https://github.com/scikit-learn/scikit-learn/issues/21755 */display: inline-block !important;position: relative;}#sk-container-id-2 div.sk-text-repr-fallback {display: none;}</style><div id=\"sk-container-id-2\" class=\"sk-top-container\"><div class=\"sk-text-repr-fallback\"><pre>GaussianNB()</pre><b>In a Jupyter environment, please rerun this cell to show the HTML representation or trust the notebook. <br />On GitHub, the HTML representation is unable to render, please try loading this page with nbviewer.org.</b></div><div class=\"sk-container\" hidden><div class=\"sk-item\"><div class=\"sk-estimator sk-toggleable\"><input class=\"sk-toggleable__control sk-hidden--visually\" id=\"sk-estimator-id-2\" type=\"checkbox\" checked><label for=\"sk-estimator-id-2\" class=\"sk-toggleable__label sk-toggleable__label-arrow\">GaussianNB</label><div class=\"sk-toggleable__content\"><pre>GaussianNB()</pre></div></div></div></div></div>"
            ]
          },
          "metadata": {},
          "execution_count": 62
        }
      ]
    },
    {
      "cell_type": "code",
      "source": [
        "prediccion = gnb.predict(X_test)\n",
        "accuracy = accuracy_score(y_test, prediccion)\n",
        "print(\"Accuracy:\", accuracy)"
      ],
      "metadata": {
        "colab": {
          "base_uri": "https://localhost:8080/"
        },
        "id": "b76GeWozw5qZ",
        "outputId": "d4663a57-cb1f-46e5-ba9b-9e7d666958d4"
      },
      "execution_count": 63,
      "outputs": [
        {
          "output_type": "stream",
          "name": "stdout",
          "text": [
            "Accuracy: 0.8752997601918465\n"
          ]
        }
      ]
    },
    {
      "cell_type": "code",
      "source": [
        "confusion = confusion_matrix(y_test, prediccion)"
      ],
      "metadata": {
        "id": "bMirtBSZxI1w"
      },
      "execution_count": 64,
      "outputs": []
    },
    {
      "cell_type": "code",
      "source": [
        "cuadro_matriz_confusion(confusion)"
      ],
      "metadata": {
        "colab": {
          "base_uri": "https://localhost:8080/",
          "height": 472
        },
        "id": "KheDM6vwxJQC",
        "outputId": "4f7ceacc-1249-479c-d930-c38c97c646ea"
      },
      "execution_count": 65,
      "outputs": [
        {
          "output_type": "display_data",
          "data": {
            "text/plain": [
              "<Figure size 640x480 with 2 Axes>"
            ],
            "image/png": "[encoded data removed]"
          },
          "metadata": {}
        }
      ]
    },
    {
      "cell_type": "code",
      "source": [
        "resumen_metricas(confusion, y_test)"
      ],
      "metadata": {
        "colab": {
          "base_uri": "https://localhost:8080/"
        },
        "id": "9KBLwAEsxJpc",
        "outputId": "1864c479-e183-45d9-f47f-c3ae3de4dca4"
      },
      "execution_count": 66,
      "outputs": [
        {
          "output_type": "stream",
          "name": "stdout",
          "text": [
            "Precisión (Accuracy): 0.8752997601918465\n",
            "Sensibilidad (Recall): 0.5619834710743802\n",
            "Especificidad: 0.9284712482468443\n",
            "Valor Predictivo Positivo (PPV): 0.5714285714285714\n"
          ]
        }
      ]
    },
    {
      "cell_type": "markdown",
      "source": [
        "## Con validación cruzada"
      ],
      "metadata": {
        "id": "F1yX_SQjxbLY"
      }
    },
    {
      "cell_type": "markdown",
      "source": [
        "Una forma de determinar la fiabilidad de los modelos es la validacion cruzada.\n",
        "Este sistema hace varias particiones de los datos para fijar train y test."
      ],
      "metadata": {
        "id": "JXlyqom6vyWo"
      }
    },
    {
      "cell_type": "code",
      "source": [
        "gnb = GaussianNB()\n",
        "\n",
        "Bayes = gnb.fit(X, y)\n",
        "predicciones = gnb.predict(X)\n",
        "accuracy_score(y, predicciones)"
      ],
      "metadata": {
        "colab": {
          "base_uri": "https://localhost:8080/"
        },
        "id": "vY51KBdntl4U",
        "outputId": "d8dd8a01-701b-4c20-f97d-9bd7a844845a"
      },
      "execution_count": 67,
      "outputs": [
        {
          "output_type": "execute_result",
          "data": {
            "text/plain": [
              "0.8676867686768677"
            ]
          },
          "metadata": {},
          "execution_count": 67
        }
      ]
    },
    {
      "cell_type": "code",
      "source": [
        "print(len(predicciones))"
      ],
      "metadata": {
        "colab": {
          "base_uri": "https://localhost:8080/"
        },
        "id": "Ckh-sUg0vYlF",
        "outputId": "5b1c8d12-9b46-4596-b686-3eb7715abadf"
      },
      "execution_count": 68,
      "outputs": [
        {
          "output_type": "stream",
          "name": "stdout",
          "text": [
            "3333\n"
          ]
        }
      ]
    },
    {
      "cell_type": "code",
      "source": [
        "cross_val_score(Bayes, X, y, cv=10, scoring = \"accuracy\")"
      ],
      "metadata": {
        "colab": {
          "base_uri": "https://localhost:8080/"
        },
        "id": "6LLu5mpdui2D",
        "outputId": "85855c0e-bda9-42df-f778-0f97583733ca"
      },
      "execution_count": 69,
      "outputs": [
        {
          "output_type": "execute_result",
          "data": {
            "text/plain": [
              "array([0.8502994 , 0.86227545, 0.85928144, 0.84984985, 0.86186186,\n",
              "       0.86786787, 0.89489489, 0.88588589, 0.85885886, 0.85585586])"
            ]
          },
          "metadata": {},
          "execution_count": 69
        }
      ]
    },
    {
      "cell_type": "code",
      "source": [
        "cross_val_score(Bayes, X, y, cv=20, scoring='precision')"
      ],
      "metadata": {
        "colab": {
          "base_uri": "https://localhost:8080/"
        },
        "id": "gWmvivGZurUv",
        "outputId": "b544fb96-3e99-49da-9707-d0c3f9ab5c33"
      },
      "execution_count": 70,
      "outputs": [
        {
          "output_type": "execute_result",
          "data": {
            "text/plain": [
              "array([0.33333333, 0.58333333, 0.51851852, 0.53846154, 0.5       ,\n",
              "       0.52173913, 0.47058824, 0.46428571, 0.53846154, 0.52380952,\n",
              "       0.71428571, 0.51851852, 0.72      , 0.5       , 0.47368421,\n",
              "       0.72727273, 0.55555556, 0.48      , 0.52631579, 0.5       ])"
            ]
          },
          "metadata": {},
          "execution_count": 70
        }
      ]
    },
    {
      "cell_type": "code",
      "source": [
        "cross_val_score(Bayes, X, y, cv=10, scoring='recall')"
      ],
      "metadata": {
        "colab": {
          "base_uri": "https://localhost:8080/"
        },
        "id": "in72pHoLvC6V",
        "outputId": "026ea758-54c3-4e92-c50c-2a83ed8899fd"
      },
      "execution_count": 71,
      "outputs": [
        {
          "output_type": "execute_result",
          "data": {
            "text/plain": [
              "array([0.44897959, 0.57142857, 0.59183673, 0.45833333, 0.52083333,\n",
              "       0.47916667, 0.66666667, 0.54166667, 0.54166667, 0.54166667])"
            ]
          },
          "metadata": {},
          "execution_count": 71
        }
      ]
    },
    {
      "cell_type": "markdown",
      "source": [
        "# Árbol de decisión"
      ],
      "metadata": {
        "id": "it6W7z_qx0or"
      }
    },
    {
      "cell_type": "markdown",
      "source": [
        "https://scikit-learn.org/stable/modules/classes.html#module-sklearn.tree"
      ],
      "metadata": {
        "id": "0TNbHDVCx85L"
      }
    },
    {
      "cell_type": "code",
      "source": [
        "# Árboles de decisión\n",
        "from sklearn import tree\n",
        "from sklearn.tree import export_graphviz\n",
        "from six import StringIO"
      ],
      "metadata": {
        "id": "hutSdb_Nx48g"
      },
      "execution_count": 72,
      "outputs": []
    },
    {
      "cell_type": "code",
      "source": [
        "modelo = tree.DecisionTreeClassifier(class_weight=None,\n",
        "                                     criterion='gini',\n",
        "                                     max_depth=5,\n",
        "                                     max_features=None,\n",
        "                                     max_leaf_nodes=None,\n",
        "                                     min_impurity_decrease=0.0,\n",
        "                                     min_samples_leaf=3,\n",
        "                                     min_samples_split=2,\n",
        "                                     min_weight_fraction_leaf=0.0,\n",
        "                                     random_state=None,\n",
        "                                     splitter='best')\n"
      ],
      "metadata": {
        "id": "CFI-MNG9wuXV"
      },
      "execution_count": 73,
      "outputs": []
    },
    {
      "cell_type": "code",
      "source": [
        "y = datosfinal['Churn']\n",
        "X = datosfinal.drop('Churn', axis = 1)\n",
        "arbol = modelo.fit(X, y)"
      ],
      "metadata": {
        "id": "RFCe0Vhd0oQf"
      },
      "execution_count": 74,
      "outputs": []
    },
    {
      "cell_type": "code",
      "source": [
        "cross_val_score(arbol, X, y, cv=10)"
      ],
      "metadata": {
        "colab": {
          "base_uri": "https://localhost:8080/"
        },
        "id": "QSkQQ9S-1BWf",
        "outputId": "f81c1b08-8914-4e20-8a16-035e1f9ecc32"
      },
      "execution_count": 75,
      "outputs": [
        {
          "output_type": "execute_result",
          "data": {
            "text/plain": [
              "array([0.93413174, 0.93113772, 0.93113772, 0.92792793, 0.93693694,\n",
              "       0.92792793, 0.94294294, 0.93993994, 0.93093093, 0.94294294])"
            ]
          },
          "metadata": {},
          "execution_count": 75
        }
      ]
    },
    {
      "cell_type": "code",
      "source": [
        "cross_val_score(arbol, X, y, cv=10, scoring='precision')"
      ],
      "metadata": {
        "colab": {
          "base_uri": "https://localhost:8080/"
        },
        "id": "xb_ZzOdb1TzG",
        "outputId": "1a24048e-472c-47f6-cd4f-c80d9cd4d341"
      },
      "execution_count": 76,
      "outputs": [
        {
          "output_type": "execute_result",
          "data": {
            "text/plain": [
              "array([0.86486486, 0.79545455, 0.84210526, 0.875     , 0.83333333,\n",
              "       0.8       , 0.89473684, 0.85714286, 0.83783784, 0.79591837])"
            ]
          },
          "metadata": {},
          "execution_count": 76
        }
      ]
    },
    {
      "cell_type": "code",
      "source": [
        "cross_val_score(arbol, X, y, cv=10, scoring='recall')"
      ],
      "metadata": {
        "colab": {
          "base_uri": "https://localhost:8080/"
        },
        "id": "U_ysimP61XX4",
        "outputId": "e904c0eb-89fd-4686-d233-2bdbd2ddfaad"
      },
      "execution_count": 77,
      "outputs": [
        {
          "output_type": "execute_result",
          "data": {
            "text/plain": [
              "array([0.65306122, 0.71428571, 0.65306122, 0.58333333, 0.72916667,\n",
              "       0.66666667, 0.70833333, 0.625     , 0.64583333, 0.8125    ])"
            ]
          },
          "metadata": {},
          "execution_count": 77
        }
      ]
    },
    {
      "cell_type": "code",
      "source": [
        "X_train, X_test, y_train, y_test = train_test_split(X, y, test_size=0.25, random_state=42)"
      ],
      "metadata": {
        "id": "o7N3HllN1jtn"
      },
      "execution_count": 78,
      "outputs": []
    },
    {
      "cell_type": "code",
      "source": [
        "arbol = modelo.fit(X_train, y_train)\n",
        "prediccion = arbol.predict(X_test)\n",
        "accuracy_score(y_test, prediccion)"
      ],
      "metadata": {
        "colab": {
          "base_uri": "https://localhost:8080/"
        },
        "id": "NmpD8qeF0wYo",
        "outputId": "ec3af3b0-6e10-4e4f-c492-3570937af73a"
      },
      "execution_count": 79,
      "outputs": [
        {
          "output_type": "execute_result",
          "data": {
            "text/plain": [
              "0.9364508393285371"
            ]
          },
          "metadata": {},
          "execution_count": 79
        }
      ]
    },
    {
      "cell_type": "code",
      "source": [
        "confusion = confusion_matrix(y_test, prediccion)"
      ],
      "metadata": {
        "id": "yqsvFxC92WSP"
      },
      "execution_count": 80,
      "outputs": []
    },
    {
      "cell_type": "code",
      "source": [
        "cuadro_matriz_confusion(confusion)"
      ],
      "metadata": {
        "colab": {
          "base_uri": "https://localhost:8080/",
          "height": 472
        },
        "id": "cf1oQ6PI2luc",
        "outputId": "ba6c830d-dd27-4dbd-f851-4fba34bd6665"
      },
      "execution_count": 81,
      "outputs": [
        {
          "output_type": "display_data",
          "data": {
            "text/plain": [
              "<Figure size 640x480 with 2 Axes>"
            ],
            "image/png": "[encoded data removed]"
          },
          "metadata": {}
        }
      ]
    },
    {
      "cell_type": "code",
      "source": [
        "resumen_metricas(confusion, y_test)"
      ],
      "metadata": {
        "colab": {
          "base_uri": "https://localhost:8080/"
        },
        "id": "4VTmST7q2pei",
        "outputId": "519be6c0-42fc-46d2-c380-9533dc2fa1a1"
      },
      "execution_count": 82,
      "outputs": [
        {
          "output_type": "stream",
          "name": "stdout",
          "text": [
            "Precisión (Accuracy): 0.9364508393285371\n",
            "Sensibilidad (Recall): 0.656\n",
            "Especificidad: 0.9858956276445698\n",
            "Valor Predictivo Positivo (PPV): 0.8913043478260869\n"
          ]
        }
      ]
    },
    {
      "cell_type": "code",
      "source": [
        "importanciasarbol = pd.DataFrame(arbol.feature_importances_)\n",
        "importanciasarbol.index = (X.columns)\n",
        "print(importanciasarbol)"
      ],
      "metadata": {
        "colab": {
          "base_uri": "https://localhost:8080/"
        },
        "id": "a5wt6XQN2zhl",
        "outputId": "2548f640-5ce8-4540-da9f-647ff3ec8a84"
      },
      "execution_count": 83,
      "outputs": [
        {
          "output_type": "stream",
          "name": "stdout",
          "text": [
            "                       0\n",
            "VMail Message   0.000000\n",
            "Day Mins        0.203378\n",
            "Day Calls       0.000000\n",
            "Day Charge      0.121837\n",
            "Eve Mins        0.098878\n",
            "Eve Calls       0.000000\n",
            "Eve Charge      0.029642\n",
            "Night Mins      0.017781\n",
            "Night Calls     0.000000\n",
            "Night Charge    0.000000\n",
            "Intl Mins       0.082112\n",
            "Intl Calls      0.116488\n",
            "Intl Charge     0.000000\n",
            "CustServ Calls  0.155705\n",
            "IntPlan         0.114027\n",
            "VmailPlan       0.060151\n"
          ]
        }
      ]
    },
    {
      "cell_type": "code",
      "source": [
        "#Plot the tree\n",
        "plt.figure(figsize=(24,16))\n",
        "\n",
        "tree.plot_tree(arbol.fit(X_train, y_train), feature_names=X.columns,\n",
        "               class_names=['0', '1'], filled=False)"
      ],
      "metadata": {
        "id": "YjsEaSqU3YK3",
        "colab": {
          "base_uri": "https://localhost:8080/",
          "height": 1000
        },
        "outputId": "adea9401-8a3c-485e-aeec-1840f93942f3"
      },
      "execution_count": 84,
      "outputs": [
        {
          "output_type": "execute_result",
          "data": {
            "text/plain": [
              "[Text(0.5961538461538461, 0.9166666666666666, 'Day Charge <= 44.805\\ngini = 0.245\\nsamples = 2499\\nvalue = [2141, 358]\\nclass = 0'),\n",
              " Text(0.3333333333333333, 0.75, 'CustServ Calls <= 3.5\\ngini = 0.201\\nsamples = 2333\\nvalue = [2068, 265]\\nclass = 0'),\n",
              " Text(0.19230769230769232, 0.5833333333333334, 'IntPlan <= 0.5\\ngini = 0.145\\nsamples = 2145\\nvalue = [1976, 169]\\nclass = 0'),\n",
              " Text(0.10256410256410256, 0.4166666666666667, 'Day Mins <= 223.25\\ngini = 0.093\\nsamples = 1950\\nvalue = [1855, 95]\\nclass = 0'),\n",
              " Text(0.05128205128205128, 0.25, 'Eve Mins <= 341.15\\ngini = 0.053\\nsamples = 1673\\nvalue = [1627, 46]\\nclass = 0'),\n",
              " Text(0.02564102564102564, 0.08333333333333333, 'gini = 0.051\\nsamples = 1667\\nvalue = [1623, 44]\\nclass = 0'),\n",
              " Text(0.07692307692307693, 0.08333333333333333, 'gini = 0.444\\nsamples = 6\\nvalue = [4, 2]\\nclass = 0'),\n",
              " Text(0.15384615384615385, 0.25, 'Eve Mins <= 266.7\\ngini = 0.291\\nsamples = 277\\nvalue = [228, 49]\\nclass = 0'),\n",
              " Text(0.1282051282051282, 0.08333333333333333, 'gini = 0.199\\nsamples = 250\\nvalue = [222, 28]\\nclass = 0'),\n",
              " Text(0.1794871794871795, 0.08333333333333333, 'gini = 0.346\\nsamples = 27\\nvalue = [6, 21]\\nclass = 1'),\n",
              " Text(0.28205128205128205, 0.4166666666666667, 'Intl Mins <= 13.1\\ngini = 0.471\\nsamples = 195\\nvalue = [121, 74]\\nclass = 0'),\n",
              " Text(0.2564102564102564, 0.25, 'Intl Calls <= 2.5\\ngini = 0.364\\nsamples = 159\\nvalue = [121, 38]\\nclass = 0'),\n",
              " Text(0.23076923076923078, 0.08333333333333333, 'gini = 0.0\\nsamples = 33\\nvalue = [0, 33]\\nclass = 1'),\n",
              " Text(0.28205128205128205, 0.08333333333333333, 'gini = 0.076\\nsamples = 126\\nvalue = [121, 5]\\nclass = 0'),\n",
              " Text(0.3076923076923077, 0.25, 'gini = 0.0\\nsamples = 36\\nvalue = [0, 36]\\nclass = 1'),\n",
              " Text(0.47435897435897434, 0.5833333333333334, 'Day Charge <= 29.505\\ngini = 0.5\\nsamples = 188\\nvalue = [92, 96]\\nclass = 1'),\n",
              " Text(0.38461538461538464, 0.4166666666666667, 'Eve Mins <= 190.8\\ngini = 0.295\\nsamples = 100\\nvalue = [18, 82]\\nclass = 1'),\n",
              " Text(0.358974358974359, 0.25, 'gini = 0.0\\nsamples = 48\\nvalue = [0, 48]\\nclass = 1'),\n",
              " Text(0.41025641025641024, 0.25, 'Day Mins <= 151.65\\ngini = 0.453\\nsamples = 52\\nvalue = [18, 34]\\nclass = 1'),\n",
              " Text(0.38461538461538464, 0.08333333333333333, 'gini = 0.165\\nsamples = 33\\nvalue = [3, 30]\\nclass = 1'),\n",
              " Text(0.4358974358974359, 0.08333333333333333, 'gini = 0.332\\nsamples = 19\\nvalue = [15, 4]\\nclass = 0'),\n",
              " Text(0.5641025641025641, 0.4166666666666667, 'Eve Charge <= 11.775\\ngini = 0.268\\nsamples = 88\\nvalue = [74, 14]\\nclass = 0'),\n",
              " Text(0.5128205128205128, 0.25, 'Day Charge <= 36.72\\ngini = 0.444\\nsamples = 9\\nvalue = [3, 6]\\nclass = 1'),\n",
              " Text(0.48717948717948717, 0.08333333333333333, 'gini = 0.0\\nsamples = 4\\nvalue = [0, 4]\\nclass = 1'),\n",
              " Text(0.5384615384615384, 0.08333333333333333, 'gini = 0.48\\nsamples = 5\\nvalue = [3, 2]\\nclass = 0'),\n",
              " Text(0.6153846153846154, 0.25, 'IntPlan <= 0.5\\ngini = 0.182\\nsamples = 79\\nvalue = [71, 8]\\nclass = 0'),\n",
              " Text(0.5897435897435898, 0.08333333333333333, 'gini = 0.108\\nsamples = 70\\nvalue = [66, 4]\\nclass = 0'),\n",
              " Text(0.6410256410256411, 0.08333333333333333, 'gini = 0.494\\nsamples = 9\\nvalue = [5, 4]\\nclass = 0'),\n",
              " Text(0.8589743589743589, 0.75, 'VmailPlan <= 0.5\\ngini = 0.493\\nsamples = 166\\nvalue = [73, 93]\\nclass = 1'),\n",
              " Text(0.7948717948717948, 0.5833333333333334, 'Eve Mins <= 184.65\\ngini = 0.397\\nsamples = 121\\nvalue = [33, 88]\\nclass = 1'),\n",
              " Text(0.7435897435897436, 0.4166666666666667, 'Day Mins <= 311.2\\ngini = 0.439\\nsamples = 40\\nvalue = [27, 13]\\nclass = 0'),\n",
              " Text(0.717948717948718, 0.25, 'Night Charge <= 9.465\\ngini = 0.327\\nsamples = 34\\nvalue = [27, 7]\\nclass = 0'),\n",
              " Text(0.6923076923076923, 0.08333333333333333, 'gini = 0.091\\nsamples = 21\\nvalue = [20, 1]\\nclass = 0'),\n",
              " Text(0.7435897435897436, 0.08333333333333333, 'gini = 0.497\\nsamples = 13\\nvalue = [7, 6]\\nclass = 0'),\n",
              " Text(0.7692307692307693, 0.25, 'gini = 0.0\\nsamples = 6\\nvalue = [0, 6]\\nclass = 1'),\n",
              " Text(0.8461538461538461, 0.4166666666666667, 'Night Charge <= 5.155\\ngini = 0.137\\nsamples = 81\\nvalue = [6, 75]\\nclass = 1'),\n",
              " Text(0.8205128205128205, 0.25, 'gini = 0.375\\nsamples = 4\\nvalue = [3, 1]\\nclass = 0'),\n",
              " Text(0.8717948717948718, 0.25, 'Night Charge <= 7.335\\ngini = 0.075\\nsamples = 77\\nvalue = [3, 74]\\nclass = 1'),\n",
              " Text(0.8461538461538461, 0.08333333333333333, 'gini = 0.278\\nsamples = 18\\nvalue = [3, 15]\\nclass = 1'),\n",
              " Text(0.8974358974358975, 0.08333333333333333, 'gini = 0.0\\nsamples = 59\\nvalue = [0, 59]\\nclass = 1'),\n",
              " Text(0.9230769230769231, 0.5833333333333334, 'IntPlan <= 0.5\\ngini = 0.198\\nsamples = 45\\nvalue = [40, 5]\\nclass = 0'),\n",
              " Text(0.8974358974358975, 0.4166666666666667, 'gini = 0.0\\nsamples = 38\\nvalue = [38, 0]\\nclass = 0'),\n",
              " Text(0.9487179487179487, 0.4166666666666667, 'Day Mins <= 280.0\\ngini = 0.408\\nsamples = 7\\nvalue = [2, 5]\\nclass = 1'),\n",
              " Text(0.9230769230769231, 0.25, 'gini = 0.0\\nsamples = 4\\nvalue = [0, 4]\\nclass = 1'),\n",
              " Text(0.9743589743589743, 0.25, 'gini = 0.444\\nsamples = 3\\nvalue = [2, 1]\\nclass = 0')]"
            ]
          },
          "metadata": {},
          "execution_count": 84
        },
        {
          "output_type": "display_data",
          "data": {
            "text/plain": [
              "<Figure size 2400x1600 with 1 Axes>"
            ],
            "image/png": "[encoded data removed]"
          },
          "metadata": {}
        }
      ]
    },
    {
      "cell_type": "markdown",
      "source": [
        "# XGBoost"
      ],
      "metadata": {
        "id": "MnATDkaICR-8"
      }
    },
    {
      "cell_type": "markdown",
      "source": [
        "Documentación: https://xgboost.readthedocs.io/en/latest/python/python_api.html"
      ],
      "metadata": {
        "id": "wKIqWoQVDJn2"
      }
    },
    {
      "cell_type": "code",
      "source": [
        "import xgboost as xgb\n",
        "# conda install -c anaconda py-xgboost"
      ],
      "metadata": {
        "id": "X8jiiaUUCSZZ"
      },
      "execution_count": 85,
      "outputs": []
    },
    {
      "cell_type": "code",
      "source": [
        "modelo = xgb.XGBClassifier(base_score=0.5,\n",
        "                           colsample_bylevel=1,\n",
        "                           colsample_bytree=1,\n",
        "                           gamma=0,\n",
        "                           learning_rate=0.05,\n",
        "                           max_delta_step=0,\n",
        "                           max_depth=5,\n",
        "                           min_child_weight=1,\n",
        "                           missing=1,\n",
        "                           n_estimators=1000,\n",
        "                           objective='binary:logistic',\n",
        "                           reg_alpha=0,\n",
        "                           reg_lambda=1,\n",
        "                           scale_pos_weight=1,\n",
        "                           seed=0,\n",
        "                           verbosity=0,\n",
        "                           subsample=1)"
      ],
      "metadata": {
        "id": "aphAGWl0CxDp"
      },
      "execution_count": 86,
      "outputs": []
    },
    {
      "cell_type": "code",
      "source": [
        "XGBoost = modelo.fit(X_train, y_train)\n",
        "prediccion = XGBoost.predict(X_test)\n",
        "accuracy_score(y_test, prediccion)"
      ],
      "metadata": {
        "colab": {
          "base_uri": "https://localhost:8080/"
        },
        "id": "bQAfFgluEHRr",
        "outputId": "4eaf4ebd-9b23-4465-ba6a-c5c59a07c1ca"
      },
      "execution_count": 87,
      "outputs": [
        {
          "output_type": "execute_result",
          "data": {
            "text/plain": [
              "0.9484412470023981"
            ]
          },
          "metadata": {},
          "execution_count": 87
        }
      ]
    },
    {
      "cell_type": "code",
      "source": [
        "confusion = confusion_matrix(y_test, prediccion)"
      ],
      "metadata": {
        "id": "CNxDqsPKEO6G"
      },
      "execution_count": 88,
      "outputs": []
    },
    {
      "cell_type": "code",
      "source": [
        "cuadro_matriz_confusion(confusion)"
      ],
      "metadata": {
        "colab": {
          "base_uri": "https://localhost:8080/",
          "height": 472
        },
        "id": "grOizMY2EjTv",
        "outputId": "272050a0-fe6e-4584-ed84-4c700d9a73a8"
      },
      "execution_count": 89,
      "outputs": [
        {
          "output_type": "display_data",
          "data": {
            "text/plain": [
              "<Figure size 640x480 with 2 Axes>"
            ],
            "image/png": "[encoded data removed]"
          },
          "metadata": {}
        }
      ]
    },
    {
      "cell_type": "code",
      "source": [
        "resumen_metricas(confusion, y_test)"
      ],
      "metadata": {
        "colab": {
          "base_uri": "https://localhost:8080/"
        },
        "id": "l8XCPzLDEoLn",
        "outputId": "d39c9dfb-eb61-4ef4-f641-64567ef6808a"
      },
      "execution_count": 90,
      "outputs": [
        {
          "output_type": "stream",
          "name": "stdout",
          "text": [
            "Precisión (Accuracy): 0.9484412470023981\n",
            "Sensibilidad (Recall): 0.736\n",
            "Especificidad: 0.9858956276445698\n",
            "Valor Predictivo Positivo (PPV): 0.9019607843137255\n"
          ]
        }
      ]
    },
    {
      "cell_type": "code",
      "source": [],
      "metadata": {
        "id": "06pyuJIVF_VH"
      },
      "execution_count": 90,
      "outputs": []
    }
  ]
}